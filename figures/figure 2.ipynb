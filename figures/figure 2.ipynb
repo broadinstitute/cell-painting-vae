{
 "cells": [
  {
   "cell_type": "code",
   "execution_count": 1,
   "id": "dc557d77",
   "metadata": {},
   "outputs": [],
   "source": [
    "import pathlib\n",
    "import pandas as pd\n",
    "import plotnine as gg"
   ]
  },
  {
   "cell_type": "code",
   "execution_count": 2,
   "id": "93201a00",
   "metadata": {},
   "outputs": [],
   "source": [
    "data_dir = pathlib.Path(\"../cell-painting/2.train\")\n",
    "\n",
    "beta_file = pathlib.Path(f\"{data_dir}/level5_training.csv\")\n",
    "vanilla_file = pathlib.Path(f\"{data_dir}/level5_training_vanilla.csv\")\n",
    "mmd_file = pathlib.Path(f\"{data_dir}/level5_training_mmd.csv\")\n",
    "\n",
    "beta_file_random = pathlib.Path(f\"{data_dir}/level5_training_random.csv\")\n",
    "vanilla_file_random = pathlib.Path(f\"{data_dir}/level5_training_vanilla_random.csv\")\n",
    "mmd_file_random = pathlib.Path(f\"{data_dir}/level5_training_mmd_random.csv\")"
   ]
  },
  {
   "cell_type": "code",
   "execution_count": 10,
   "id": "ddbf5607",
   "metadata": {},
   "outputs": [],
   "source": [
    "beta_df = pd.read_csv(beta_file, index_col=0).assign(model=\"beta\", shuffled=\"real\").reset_index().rename(columns={\"index\": \"epoch\"})\n",
    "vanilla_df = pd.read_csv(vanilla_file, index_col=0).assign(model=\"vanilla\", shuffled=\"real\").reset_index().rename(columns={\"index\": \"epoch\"})\n",
    "mmd_df = pd.read_csv(mmd_file, index_col=0).assign(model=\"mmd\", shuffled=\"real\").reset_index().rename(columns={\"index\": \"epoch\"})\n",
    "\n",
    "beta_df_random = pd.read_csv(beta_file_random, index_col=0).assign(model=\"beta\", shuffled=\"shuffled\").reset_index().rename(columns={\"index\": \"epoch\"})\n",
    "vanilla_df_random = pd.read_csv(vanilla_file_random, index_col=0).assign(model=\"vanilla\", shuffled=\"shuffled\").reset_index().rename(columns={\"index\": \"epoch\"})\n",
    "mmd_df_random = pd.read_csv(mmd_file_random, index_col=0).assign(model=\"mmd\", shuffled=\"shuffled\").reset_index().rename(columns={\"index\": \"epoch\"})"
   ]
  },
  {
   "cell_type": "code",
   "execution_count": 19,
   "id": "b6c28386",
   "metadata": {},
   "outputs": [
    {
     "name": "stdout",
     "output_type": "stream",
     "text": [
      "(460, 11)\n"
     ]
    },
    {
     "data": {
      "text/html": [
       "<div>\n",
       "<style scoped>\n",
       "    .dataframe tbody tr th:only-of-type {\n",
       "        vertical-align: middle;\n",
       "    }\n",
       "\n",
       "    .dataframe tbody tr th {\n",
       "        vertical-align: top;\n",
       "    }\n",
       "\n",
       "    .dataframe thead th {\n",
       "        text-align: right;\n",
       "    }\n",
       "</style>\n",
       "<table border=\"1\" class=\"dataframe\">\n",
       "  <thead>\n",
       "    <tr style=\"text-align: right;\">\n",
       "      <th></th>\n",
       "      <th>epoch</th>\n",
       "      <th>loss</th>\n",
       "      <th>val_loss</th>\n",
       "      <th>model</th>\n",
       "      <th>shuffled</th>\n",
       "      <th>recon</th>\n",
       "      <th>kl</th>\n",
       "      <th>val_recon</th>\n",
       "      <th>val_kl</th>\n",
       "      <th>mmd</th>\n",
       "      <th>val_mmd</th>\n",
       "    </tr>\n",
       "  </thead>\n",
       "  <tbody>\n",
       "    <tr>\n",
       "      <th>0</th>\n",
       "      <td>0</td>\n",
       "      <td>30.083614</td>\n",
       "      <td>28.997597</td>\n",
       "      <td>beta</td>\n",
       "      <td>real</td>\n",
       "      <td>NaN</td>\n",
       "      <td>NaN</td>\n",
       "      <td>NaN</td>\n",
       "      <td>NaN</td>\n",
       "      <td>NaN</td>\n",
       "      <td>NaN</td>\n",
       "    </tr>\n",
       "    <tr>\n",
       "      <th>1</th>\n",
       "      <td>1</td>\n",
       "      <td>7.804605</td>\n",
       "      <td>8.689045</td>\n",
       "      <td>beta</td>\n",
       "      <td>real</td>\n",
       "      <td>NaN</td>\n",
       "      <td>NaN</td>\n",
       "      <td>NaN</td>\n",
       "      <td>NaN</td>\n",
       "      <td>NaN</td>\n",
       "      <td>NaN</td>\n",
       "    </tr>\n",
       "    <tr>\n",
       "      <th>2</th>\n",
       "      <td>2</td>\n",
       "      <td>6.057419</td>\n",
       "      <td>6.116002</td>\n",
       "      <td>beta</td>\n",
       "      <td>real</td>\n",
       "      <td>NaN</td>\n",
       "      <td>NaN</td>\n",
       "      <td>NaN</td>\n",
       "      <td>NaN</td>\n",
       "      <td>NaN</td>\n",
       "      <td>NaN</td>\n",
       "    </tr>\n",
       "    <tr>\n",
       "      <th>3</th>\n",
       "      <td>3</td>\n",
       "      <td>4.963554</td>\n",
       "      <td>4.739501</td>\n",
       "      <td>beta</td>\n",
       "      <td>real</td>\n",
       "      <td>NaN</td>\n",
       "      <td>NaN</td>\n",
       "      <td>NaN</td>\n",
       "      <td>NaN</td>\n",
       "      <td>NaN</td>\n",
       "      <td>NaN</td>\n",
       "    </tr>\n",
       "    <tr>\n",
       "      <th>4</th>\n",
       "      <td>4</td>\n",
       "      <td>4.236126</td>\n",
       "      <td>4.094173</td>\n",
       "      <td>beta</td>\n",
       "      <td>real</td>\n",
       "      <td>NaN</td>\n",
       "      <td>NaN</td>\n",
       "      <td>NaN</td>\n",
       "      <td>NaN</td>\n",
       "      <td>NaN</td>\n",
       "      <td>NaN</td>\n",
       "    </tr>\n",
       "  </tbody>\n",
       "</table>\n",
       "</div>"
      ],
      "text/plain": [
       "   epoch       loss   val_loss model shuffled  recon  kl  val_recon  val_kl  \\\n",
       "0      0  30.083614  28.997597  beta     real    NaN NaN        NaN     NaN   \n",
       "1      1   7.804605   8.689045  beta     real    NaN NaN        NaN     NaN   \n",
       "2      2   6.057419   6.116002  beta     real    NaN NaN        NaN     NaN   \n",
       "3      3   4.963554   4.739501  beta     real    NaN NaN        NaN     NaN   \n",
       "4      4   4.236126   4.094173  beta     real    NaN NaN        NaN     NaN   \n",
       "\n",
       "   mmd  val_mmd  \n",
       "0  NaN      NaN  \n",
       "1  NaN      NaN  \n",
       "2  NaN      NaN  \n",
       "3  NaN      NaN  \n",
       "4  NaN      NaN  "
      ]
     },
     "execution_count": 19,
     "metadata": {},
     "output_type": "execute_result"
    }
   ],
   "source": [
    "df = pd.concat([beta_df, vanilla_df, mmd_df, beta_df_random, vanilla_df_random, mmd_df_random])\n",
    "\n",
    "print(df.shape)\n",
    "df.head()"
   ]
  },
  {
   "cell_type": "code",
   "execution_count": 29,
   "id": "c2637786",
   "metadata": {},
   "outputs": [
    {
     "data": {
      "text/html": [
       "<div>\n",
       "<style scoped>\n",
       "    .dataframe tbody tr th:only-of-type {\n",
       "        vertical-align: middle;\n",
       "    }\n",
       "\n",
       "    .dataframe tbody tr th {\n",
       "        vertical-align: top;\n",
       "    }\n",
       "\n",
       "    .dataframe thead th {\n",
       "        text-align: right;\n",
       "    }\n",
       "</style>\n",
       "<table border=\"1\" class=\"dataframe\">\n",
       "  <thead>\n",
       "    <tr style=\"text-align: right;\">\n",
       "      <th></th>\n",
       "      <th>epoch</th>\n",
       "      <th>model</th>\n",
       "      <th>shuffled</th>\n",
       "      <th>loss_type</th>\n",
       "      <th>loss_value</th>\n",
       "    </tr>\n",
       "  </thead>\n",
       "  <tbody>\n",
       "    <tr>\n",
       "      <th>0</th>\n",
       "      <td>0</td>\n",
       "      <td>beta</td>\n",
       "      <td>real</td>\n",
       "      <td>loss</td>\n",
       "      <td>30.083614</td>\n",
       "    </tr>\n",
       "    <tr>\n",
       "      <th>1</th>\n",
       "      <td>1</td>\n",
       "      <td>beta</td>\n",
       "      <td>real</td>\n",
       "      <td>loss</td>\n",
       "      <td>7.804605</td>\n",
       "    </tr>\n",
       "    <tr>\n",
       "      <th>2</th>\n",
       "      <td>2</td>\n",
       "      <td>beta</td>\n",
       "      <td>real</td>\n",
       "      <td>loss</td>\n",
       "      <td>6.057419</td>\n",
       "    </tr>\n",
       "    <tr>\n",
       "      <th>3</th>\n",
       "      <td>3</td>\n",
       "      <td>beta</td>\n",
       "      <td>real</td>\n",
       "      <td>loss</td>\n",
       "      <td>4.963554</td>\n",
       "    </tr>\n",
       "    <tr>\n",
       "      <th>4</th>\n",
       "      <td>4</td>\n",
       "      <td>beta</td>\n",
       "      <td>real</td>\n",
       "      <td>loss</td>\n",
       "      <td>4.236126</td>\n",
       "    </tr>\n",
       "  </tbody>\n",
       "</table>\n",
       "</div>"
      ],
      "text/plain": [
       "   epoch model shuffled loss_type  loss_value\n",
       "0      0  beta     real      loss   30.083614\n",
       "1      1  beta     real      loss    7.804605\n",
       "2      2  beta     real      loss    6.057419\n",
       "3      3  beta     real      loss    4.963554\n",
       "4      4  beta     real      loss    4.236126"
      ]
     },
     "execution_count": 29,
     "metadata": {},
     "output_type": "execute_result"
    }
   ],
   "source": [
    "df_melted = df.melt(id_vars=[\"epoch\", \"model\", \"shuffled\"], value_vars=[\"loss\", \"val_loss\"], var_name=\"loss_type\", value_name=\"loss_value\")\n",
    "df_melted.head()"
   ]
  },
  {
   "cell_type": "code",
   "execution_count": 40,
   "id": "ef2eb687",
   "metadata": {},
   "outputs": [],
   "source": [
    "df_melted.to_csv(\"training_curve_summary_data.csv\", index = False)"
   ]
  },
  {
   "cell_type": "code",
   "execution_count": 38,
   "id": "66825fae",
   "metadata": {},
   "outputs": [
    {
     "data": {
      "image/png": "[encoded data removed]",
      "text/plain": [
       "<Figure size 640x480 with 3 Axes>"
      ]
     },
     "metadata": {},
     "output_type": "display_data"
    },
    {
     "data": {
      "text/plain": [
       "<ggplot: (8792563719381)>"
      ]
     },
     "execution_count": 38,
     "metadata": {},
     "output_type": "execute_result"
    }
   ],
   "source": [
    "(\n",
    "    gg.ggplot(df_melted, gg.aes(x=\"epoch\", y=\"loss_value\"))\n",
    "    + gg.geom_point()\n",
    "    + gg.geom_line(gg.aes(color=\"shuffled\"))\n",
    "    + gg.facet_wrap(\"~model\")\n",
    ")"
   ]
  },
  {
   "cell_type": "code",
   "execution_count": null,
   "id": "67934243",
   "metadata": {},
   "outputs": [],
   "source": []
  }
 ],
 "metadata": {
  "kernelspec": {
   "display_name": "Python 3",
   "language": "python",
   "name": "python3"
  },
  "language_info": {
   "codemirror_mode": {
    "name": "ipython",
    "version": 3
   },
   "file_extension": ".py",
   "mimetype": "text/x-python",
   "name": "python",
   "nbconvert_exporter": "python",
   "pygments_lexer": "ipython3",
   "version": "3.7.10"
  }
 },
 "nbformat": 4,
 "nbformat_minor": 5
}
