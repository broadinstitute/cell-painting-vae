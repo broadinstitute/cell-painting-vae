{
 "cells": [
  {
   "cell_type": "code",
   "execution_count": 1,
   "id": "dc557d77",
   "metadata": {},
   "outputs": [],
   "source": [
    "import pathlib\n",
    "import pandas as pd\n",
    "import plotnine as gg"
   ]
  },
  {
   "cell_type": "code",
   "execution_count": 2,
   "id": "93201a00",
   "metadata": {},
   "outputs": [],
   "source": [
    "data_dir = pathlib.Path(\"../L1000/2.train\")\n",
    "\n",
    "beta_file = pathlib.Path(f\"{data_dir}/twolayer_training.csv\")\n",
    "vanilla_file = pathlib.Path(f\"{data_dir}/twolayer_training_vanilla.csv\")\n",
    "mmd_file = pathlib.Path(f\"{data_dir}/twolayer_training_mmd.csv\")\n",
    "\n",
    "beta_file_random = pathlib.Path(f\"{data_dir}/L1000_training_random.csv\")\n",
    "vanilla_file_random = pathlib.Path(f\"{data_dir}/L1000_training_vanilla_random.csv\")\n",
    "mmd_file_random = pathlib.Path(f\"{data_dir}/L1000_training_mmd_random.csv\")"
   ]
  },
  {
   "cell_type": "code",
   "execution_count": 3,
   "id": "ddbf5607",
   "metadata": {},
   "outputs": [],
   "source": [
    "beta_df = pd.read_csv(beta_file, index_col=0).assign(model=\"beta\", shuffled=\"real\").reset_index().rename(columns={\"index\": \"epoch\"})\n",
    "vanilla_df = pd.read_csv(vanilla_file, index_col=0).assign(model=\"vanilla\", shuffled=\"real\").reset_index().rename(columns={\"index\": \"epoch\"})\n",
    "mmd_df = pd.read_csv(mmd_file, index_col=0).assign(model=\"mmd\", shuffled=\"real\").reset_index().rename(columns={\"index\": \"epoch\"})\n",
    "\n",
    "beta_df_random = pd.read_csv(beta_file_random, index_col=0).assign(model=\"beta\", shuffled=\"shuffled\").reset_index().rename(columns={\"index\": \"epoch\"})\n",
    "vanilla_df_random = pd.read_csv(vanilla_file_random, index_col=0).assign(model=\"vanilla\", shuffled=\"shuffled\").reset_index().rename(columns={\"index\": \"epoch\"})\n",
    "mmd_df_random = pd.read_csv(mmd_file_random, index_col=0).assign(model=\"mmd\", shuffled=\"shuffled\").reset_index().rename(columns={\"index\": \"epoch\"})"
   ]
  },
  {
   "cell_type": "code",
   "execution_count": 4,
   "id": "b6c28386",
   "metadata": {},
   "outputs": [
    {
     "name": "stdout",
     "output_type": "stream",
     "text": [
      "(780, 11)\n"
     ]
    },
    {
     "data": {
      "text/html": [
       "<div>\n",
       "<style scoped>\n",
       "    .dataframe tbody tr th:only-of-type {\n",
       "        vertical-align: middle;\n",
       "    }\n",
       "\n",
       "    .dataframe tbody tr th {\n",
       "        vertical-align: top;\n",
       "    }\n",
       "\n",
       "    .dataframe thead th {\n",
       "        text-align: right;\n",
       "    }\n",
       "</style>\n",
       "<table border=\"1\" class=\"dataframe\">\n",
       "  <thead>\n",
       "    <tr style=\"text-align: right;\">\n",
       "      <th></th>\n",
       "      <th>epoch</th>\n",
       "      <th>loss</th>\n",
       "      <th>val_loss</th>\n",
       "      <th>model</th>\n",
       "      <th>shuffled</th>\n",
       "      <th>recon</th>\n",
       "      <th>kl</th>\n",
       "      <th>val_recon</th>\n",
       "      <th>val_kl</th>\n",
       "      <th>mmd</th>\n",
       "      <th>val_mmd</th>\n",
       "    </tr>\n",
       "  </thead>\n",
       "  <tbody>\n",
       "    <tr>\n",
       "      <th>0</th>\n",
       "      <td>0</td>\n",
       "      <td>2038.138184</td>\n",
       "      <td>1802.130859</td>\n",
       "      <td>beta</td>\n",
       "      <td>real</td>\n",
       "      <td>NaN</td>\n",
       "      <td>NaN</td>\n",
       "      <td>NaN</td>\n",
       "      <td>NaN</td>\n",
       "      <td>NaN</td>\n",
       "      <td>NaN</td>\n",
       "    </tr>\n",
       "    <tr>\n",
       "      <th>1</th>\n",
       "      <td>1</td>\n",
       "      <td>1722.722778</td>\n",
       "      <td>1683.726929</td>\n",
       "      <td>beta</td>\n",
       "      <td>real</td>\n",
       "      <td>NaN</td>\n",
       "      <td>NaN</td>\n",
       "      <td>NaN</td>\n",
       "      <td>NaN</td>\n",
       "      <td>NaN</td>\n",
       "      <td>NaN</td>\n",
       "    </tr>\n",
       "    <tr>\n",
       "      <th>2</th>\n",
       "      <td>2</td>\n",
       "      <td>1657.680908</td>\n",
       "      <td>1632.726685</td>\n",
       "      <td>beta</td>\n",
       "      <td>real</td>\n",
       "      <td>NaN</td>\n",
       "      <td>NaN</td>\n",
       "      <td>NaN</td>\n",
       "      <td>NaN</td>\n",
       "      <td>NaN</td>\n",
       "      <td>NaN</td>\n",
       "    </tr>\n",
       "    <tr>\n",
       "      <th>3</th>\n",
       "      <td>3</td>\n",
       "      <td>1624.628540</td>\n",
       "      <td>1605.039429</td>\n",
       "      <td>beta</td>\n",
       "      <td>real</td>\n",
       "      <td>NaN</td>\n",
       "      <td>NaN</td>\n",
       "      <td>NaN</td>\n",
       "      <td>NaN</td>\n",
       "      <td>NaN</td>\n",
       "      <td>NaN</td>\n",
       "    </tr>\n",
       "    <tr>\n",
       "      <th>4</th>\n",
       "      <td>4</td>\n",
       "      <td>1597.073120</td>\n",
       "      <td>1580.555786</td>\n",
       "      <td>beta</td>\n",
       "      <td>real</td>\n",
       "      <td>NaN</td>\n",
       "      <td>NaN</td>\n",
       "      <td>NaN</td>\n",
       "      <td>NaN</td>\n",
       "      <td>NaN</td>\n",
       "      <td>NaN</td>\n",
       "    </tr>\n",
       "  </tbody>\n",
       "</table>\n",
       "</div>"
      ],
      "text/plain": [
       "   epoch         loss     val_loss model shuffled  recon  kl  val_recon  \\\n",
       "0      0  2038.138184  1802.130859  beta     real    NaN NaN        NaN   \n",
       "1      1  1722.722778  1683.726929  beta     real    NaN NaN        NaN   \n",
       "2      2  1657.680908  1632.726685  beta     real    NaN NaN        NaN   \n",
       "3      3  1624.628540  1605.039429  beta     real    NaN NaN        NaN   \n",
       "4      4  1597.073120  1580.555786  beta     real    NaN NaN        NaN   \n",
       "\n",
       "   val_kl  mmd  val_mmd  \n",
       "0     NaN  NaN      NaN  \n",
       "1     NaN  NaN      NaN  \n",
       "2     NaN  NaN      NaN  \n",
       "3     NaN  NaN      NaN  \n",
       "4     NaN  NaN      NaN  "
      ]
     },
     "execution_count": 4,
     "metadata": {},
     "output_type": "execute_result"
    }
   ],
   "source": [
    "df = pd.concat([beta_df, vanilla_df, mmd_df, beta_df_random, vanilla_df_random, mmd_df_random])\n",
    "\n",
    "print(df.shape)\n",
    "df.head()"
   ]
  },
  {
   "cell_type": "code",
   "execution_count": 5,
   "id": "c2637786",
   "metadata": {},
   "outputs": [
    {
     "data": {
      "text/html": [
       "<div>\n",
       "<style scoped>\n",
       "    .dataframe tbody tr th:only-of-type {\n",
       "        vertical-align: middle;\n",
       "    }\n",
       "\n",
       "    .dataframe tbody tr th {\n",
       "        vertical-align: top;\n",
       "    }\n",
       "\n",
       "    .dataframe thead th {\n",
       "        text-align: right;\n",
       "    }\n",
       "</style>\n",
       "<table border=\"1\" class=\"dataframe\">\n",
       "  <thead>\n",
       "    <tr style=\"text-align: right;\">\n",
       "      <th></th>\n",
       "      <th>epoch</th>\n",
       "      <th>model</th>\n",
       "      <th>shuffled</th>\n",
       "      <th>loss_type</th>\n",
       "      <th>loss_value</th>\n",
       "    </tr>\n",
       "  </thead>\n",
       "  <tbody>\n",
       "    <tr>\n",
       "      <th>0</th>\n",
       "      <td>0</td>\n",
       "      <td>beta</td>\n",
       "      <td>real</td>\n",
       "      <td>loss</td>\n",
       "      <td>2038.138184</td>\n",
       "    </tr>\n",
       "    <tr>\n",
       "      <th>1</th>\n",
       "      <td>1</td>\n",
       "      <td>beta</td>\n",
       "      <td>real</td>\n",
       "      <td>loss</td>\n",
       "      <td>1722.722778</td>\n",
       "    </tr>\n",
       "    <tr>\n",
       "      <th>2</th>\n",
       "      <td>2</td>\n",
       "      <td>beta</td>\n",
       "      <td>real</td>\n",
       "      <td>loss</td>\n",
       "      <td>1657.680908</td>\n",
       "    </tr>\n",
       "    <tr>\n",
       "      <th>3</th>\n",
       "      <td>3</td>\n",
       "      <td>beta</td>\n",
       "      <td>real</td>\n",
       "      <td>loss</td>\n",
       "      <td>1624.628540</td>\n",
       "    </tr>\n",
       "    <tr>\n",
       "      <th>4</th>\n",
       "      <td>4</td>\n",
       "      <td>beta</td>\n",
       "      <td>real</td>\n",
       "      <td>loss</td>\n",
       "      <td>1597.073120</td>\n",
       "    </tr>\n",
       "  </tbody>\n",
       "</table>\n",
       "</div>"
      ],
      "text/plain": [
       "   epoch model shuffled loss_type   loss_value\n",
       "0      0  beta     real      loss  2038.138184\n",
       "1      1  beta     real      loss  1722.722778\n",
       "2      2  beta     real      loss  1657.680908\n",
       "3      3  beta     real      loss  1624.628540\n",
       "4      4  beta     real      loss  1597.073120"
      ]
     },
     "execution_count": 5,
     "metadata": {},
     "output_type": "execute_result"
    }
   ],
   "source": [
    "df_melted = df.melt(id_vars=[\"epoch\", \"model\", \"shuffled\"], value_vars=[\"loss\", \"val_loss\"], var_name=\"loss_type\", value_name=\"loss_value\")\n",
    "df_melted.head()"
   ]
  },
  {
   "cell_type": "code",
   "execution_count": 6,
   "id": "ef2eb687",
   "metadata": {},
   "outputs": [],
   "source": [
    "df_melted.to_csv(\"training_curve_summary_data_L1000.csv\", index = False)"
   ]
  },
  {
   "cell_type": "code",
   "execution_count": 7,
   "id": "66825fae",
   "metadata": {},
   "outputs": [
    {
     "data": {
      "image/png": "[encoded data removed]",
      "text/plain": [
       "<Figure size 640x480 with 3 Axes>"
      ]
     },
     "metadata": {},
     "output_type": "display_data"
    },
    {
     "data": {
      "text/plain": [
       "<ggplot: (8731689055329)>"
      ]
     },
     "execution_count": 7,
     "metadata": {},
     "output_type": "execute_result"
    }
   ],
   "source": [
    "(\n",
    "    gg.ggplot(df_melted, gg.aes(x=\"epoch\", y=\"loss_value\"))\n",
    "    + gg.geom_point()\n",
    "    + gg.geom_line(gg.aes(color=\"shuffled\"))\n",
    "    + gg.facet_wrap(\"~model\")\n",
    ")"
   ]
  },
  {
   "cell_type": "code",
   "execution_count": null,
   "id": "67934243",
   "metadata": {},
   "outputs": [],
   "source": []
  }
 ],
 "metadata": {
  "kernelspec": {
   "display_name": "Python 3",
   "language": "python",
   "name": "python3"
  },
  "language_info": {
   "codemirror_mode": {
    "name": "ipython",
    "version": 3
   },
   "file_extension": ".py",
   "mimetype": "text/x-python",
   "name": "python",
   "nbconvert_exporter": "python",
   "pygments_lexer": "ipython3",
   "version": "3.7.10"
  }
 },
 "nbformat": 4,
 "nbformat_minor": 5
}
