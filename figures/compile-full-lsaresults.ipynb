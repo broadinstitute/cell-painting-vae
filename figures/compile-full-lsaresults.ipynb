{
 "cells": [
  {
   "cell_type": "markdown",
   "id": "19337db0-d44b-4f8f-8719-c764203fc0af",
   "metadata": {},
   "source": [
    "## Compile Polypharmacology LSA results"
   ]
  },
  {
   "cell_type": "code",
   "execution_count": 1,
   "id": "d33e5c92-9cca-4e48-aba4-8ca42fe3a730",
   "metadata": {},
   "outputs": [],
   "source": [
    "import pathlib\n",
    "import pandas as pd"
   ]
  },
  {
   "cell_type": "code",
   "execution_count": 14,
   "id": "230f0866-1227-4b2c-a05d-aef7582825be",
   "metadata": {},
   "outputs": [
    {
     "name": "stdout",
     "output_type": "stream",
     "text": [
      "(25047, 7)\n"
     ]
    },
    {
     "data": {
      "text/html": [
       "<div>\n",
       "<style scoped>\n",
       "    .dataframe tbody tr th:only-of-type {\n",
       "        vertical-align: middle;\n",
       "    }\n",
       "\n",
       "    .dataframe tbody tr th {\n",
       "        vertical-align: top;\n",
       "    }\n",
       "\n",
       "    .dataframe thead th {\n",
       "        text-align: right;\n",
       "    }\n",
       "</style>\n",
       "<table border=\"1\" class=\"dataframe\">\n",
       "  <thead>\n",
       "    <tr style=\"text-align: right;\">\n",
       "      <th></th>\n",
       "      <th>input_data_type_full</th>\n",
       "      <th>dist</th>\n",
       "      <th>input_data_type</th>\n",
       "      <th>shuffled</th>\n",
       "      <th>assay</th>\n",
       "      <th>data_level</th>\n",
       "      <th>model</th>\n",
       "    </tr>\n",
       "  </thead>\n",
       "  <tbody>\n",
       "    <tr>\n",
       "      <th>0</th>\n",
       "      <td>VAE Unshuffled</td>\n",
       "      <td>30.608720</td>\n",
       "      <td>VAE</td>\n",
       "      <td>Unshuffled</td>\n",
       "      <td>L1000</td>\n",
       "      <td>level5</td>\n",
       "      <td>mmd</td>\n",
       "    </tr>\n",
       "    <tr>\n",
       "      <th>1</th>\n",
       "      <td>VAE Unshuffled</td>\n",
       "      <td>4.922700</td>\n",
       "      <td>VAE</td>\n",
       "      <td>Unshuffled</td>\n",
       "      <td>L1000</td>\n",
       "      <td>level5</td>\n",
       "      <td>mmd</td>\n",
       "    </tr>\n",
       "    <tr>\n",
       "      <th>2</th>\n",
       "      <td>VAE Unshuffled</td>\n",
       "      <td>11.219075</td>\n",
       "      <td>VAE</td>\n",
       "      <td>Unshuffled</td>\n",
       "      <td>L1000</td>\n",
       "      <td>level5</td>\n",
       "      <td>mmd</td>\n",
       "    </tr>\n",
       "    <tr>\n",
       "      <th>3</th>\n",
       "      <td>VAE Unshuffled</td>\n",
       "      <td>5.653036</td>\n",
       "      <td>VAE</td>\n",
       "      <td>Unshuffled</td>\n",
       "      <td>L1000</td>\n",
       "      <td>level5</td>\n",
       "      <td>mmd</td>\n",
       "    </tr>\n",
       "    <tr>\n",
       "      <th>4</th>\n",
       "      <td>VAE Unshuffled</td>\n",
       "      <td>5.948821</td>\n",
       "      <td>VAE</td>\n",
       "      <td>Unshuffled</td>\n",
       "      <td>L1000</td>\n",
       "      <td>level5</td>\n",
       "      <td>mmd</td>\n",
       "    </tr>\n",
       "  </tbody>\n",
       "</table>\n",
       "</div>"
      ],
      "text/plain": [
       "  input_data_type_full       dist input_data_type    shuffled  assay  \\\n",
       "0       VAE Unshuffled  30.608720             VAE  Unshuffled  L1000   \n",
       "1       VAE Unshuffled   4.922700             VAE  Unshuffled  L1000   \n",
       "2       VAE Unshuffled  11.219075             VAE  Unshuffled  L1000   \n",
       "3       VAE Unshuffled   5.653036             VAE  Unshuffled  L1000   \n",
       "4       VAE Unshuffled   5.948821             VAE  Unshuffled  L1000   \n",
       "\n",
       "  data_level model  \n",
       "0     level5   mmd  \n",
       "1     level5   mmd  \n",
       "2     level5   mmd  \n",
       "3     level5   mmd  \n",
       "4     level5   mmd  "
      ]
     },
     "execution_count": 14,
     "metadata": {},
     "output_type": "execute_result"
    }
   ],
   "source": [
    "assays = [\"L1000\", \"cell-painting\"]\n",
    "models = [\"beta\", \"vanilla\", \"mmd\"]\n",
    "\n",
    "analysis_dir = \"3.application\"\n",
    "\n",
    "lsa_dfs = []\n",
    "for assay in assays:\n",
    "    data_dir = pathlib.Path(f\"../{assay}/{analysis_dir}\")\n",
    "    lsa_results_files = [x for x in data_dir.iterdir() if \"_general\" in x.name]\n",
    "    for lsa_results_file in lsa_results_files:\n",
    "        \n",
    "        # Extract info from filename\n",
    "        file_info = lsa_results_file.name.split(\"_\")\n",
    "        if assay == \"L1000\":\n",
    "            data_level = \"level5\"\n",
    "            try:\n",
    "                model = file_info[2].replace(\".tsv\", \"\")\n",
    "            except IndexError:\n",
    "                model = \"beta\"\n",
    "        else:\n",
    "            data_level = file_info[2].replace(\".tsv\", \"\")\n",
    "            try:\n",
    "                model = file_info[3].replace(\".tsv\", \"\")\n",
    "            except IndexError:\n",
    "                model = \"beta\"\n",
    "        \n",
    "        # Read data and process\n",
    "        lsa_df = pd.read_csv(lsa_results_file, index_col=0, sep=\"\\t\")\n",
    "        \n",
    "        lsa_melt_df = (\n",
    "            lsa_df\n",
    "            .melt(var_name=\"input_data_type_full\", value_name=\"dist\")\n",
    "        )\n",
    "        id_df = (\n",
    "            pd.DataFrame.from_records(\n",
    "                lsa_melt_df.input_data_type_full.str.split(\" \"),\n",
    "                columns = [\"input_data_type\", \"shuffled\"]\n",
    "            )\n",
    "        )\n",
    "        \n",
    "        lsa_melt_df = (\n",
    "            pd.concat([lsa_melt_df, id_df], axis=\"columns\")\n",
    "            .assign(assay=assay, data_level=data_level, model=model)\n",
    "        )\n",
    "        \n",
    "        # Replace the model variable with input data type for non-VAEs (it doesn't make sense otherwise)\n",
    "        lsa_melt_df.loc[lsa_melt_df.input_data_type != \"VAE\", \"model\"] = (\n",
    "            lsa_melt_df.loc[lsa_melt_df.input_data_type != \"VAE\", \"input_data_type\"]\n",
    "        )\n",
    "        \n",
    "        lsa_dfs.append(lsa_melt_df)\n",
    "        \n",
    "lsa_dfs = pd.concat(lsa_dfs).reset_index(drop=True).dropna()\n",
    "\n",
    "# Output file for downstream figure\n",
    "output_file = pathlib.Path(\"data\", \"lsa_distribution_full_results.tsv.gz\")\n",
    "lsa_dfs.to_csv(output_file, sep=\"\\t\", index=False)\n",
    "\n",
    "print(lsa_dfs.shape)\n",
    "lsa_dfs.head()"
   ]
  },
  {
   "cell_type": "code",
   "execution_count": 16,
   "id": "b72aa8c5-f51c-447e-93cc-fad34bdff957",
   "metadata": {},
   "outputs": [
    {
     "data": {
      "text/plain": [
       "VAE         8349\n",
       "PCA         8349\n",
       "Complete    8349\n",
       "Name: input_data_type, dtype: int64"
      ]
     },
     "execution_count": 16,
     "metadata": {},
     "output_type": "execute_result"
    }
   ],
   "source": [
    "lsa_dfs.input_data_type.value_counts()"
   ]
  },
  {
   "cell_type": "code",
   "execution_count": 17,
   "id": "be6152c7-2084-48bb-8d18-9aea94e31456",
   "metadata": {},
   "outputs": [
    {
     "data": {
      "text/plain": [
       "VAE Shuffled           7590\n",
       "PCA Shuffled           7590\n",
       "Complete Shuffled      7590\n",
       "VAE Unshuffled          759\n",
       "PCA Unshuffled          759\n",
       "Complete Unshuffled     759\n",
       "Name: input_data_type_full, dtype: int64"
      ]
     },
     "execution_count": 17,
     "metadata": {},
     "output_type": "execute_result"
    }
   ],
   "source": [
    "lsa_dfs.input_data_type_full.value_counts()"
   ]
  },
  {
   "cell_type": "code",
   "execution_count": 18,
   "id": "a3e9fa8a-d626-4735-8088-e3648c9d3e41",
   "metadata": {},
   "outputs": [
    {
     "data": {
      "text/plain": [
       "Shuffled      22770\n",
       "Unshuffled     2277\n",
       "Name: shuffled, dtype: int64"
      ]
     },
     "execution_count": 18,
     "metadata": {},
     "output_type": "execute_result"
    }
   ],
   "source": [
    "lsa_dfs.shuffled.value_counts()"
   ]
  },
  {
   "cell_type": "code",
   "execution_count": 19,
   "id": "f6a9ca8c-f06d-436f-8fe6-780eb1d87d04",
   "metadata": {},
   "outputs": [
    {
     "data": {
      "text/html": [
       "<div>\n",
       "<style scoped>\n",
       "    .dataframe tbody tr th:only-of-type {\n",
       "        vertical-align: middle;\n",
       "    }\n",
       "\n",
       "    .dataframe tbody tr th {\n",
       "        vertical-align: top;\n",
       "    }\n",
       "\n",
       "    .dataframe thead th {\n",
       "        text-align: right;\n",
       "    }\n",
       "</style>\n",
       "<table border=\"1\" class=\"dataframe\">\n",
       "  <thead>\n",
       "    <tr style=\"text-align: right;\">\n",
       "      <th>assay</th>\n",
       "      <th>L1000</th>\n",
       "      <th>cell-painting</th>\n",
       "    </tr>\n",
       "    <tr>\n",
       "      <th>data_level</th>\n",
       "      <th></th>\n",
       "      <th></th>\n",
       "    </tr>\n",
       "  </thead>\n",
       "  <tbody>\n",
       "    <tr>\n",
       "      <th>level4</th>\n",
       "      <td>0</td>\n",
       "      <td>8316</td>\n",
       "    </tr>\n",
       "    <tr>\n",
       "      <th>level5</th>\n",
       "      <td>8415</td>\n",
       "      <td>8316</td>\n",
       "    </tr>\n",
       "  </tbody>\n",
       "</table>\n",
       "</div>"
      ],
      "text/plain": [
       "assay       L1000  cell-painting\n",
       "data_level                      \n",
       "level4          0           8316\n",
       "level5       8415           8316"
      ]
     },
     "execution_count": 19,
     "metadata": {},
     "output_type": "execute_result"
    }
   ],
   "source": [
    "pd.crosstab(\n",
    "    lsa_dfs.data_level,\n",
    "    lsa_dfs.assay\n",
    ")"
   ]
  },
  {
   "cell_type": "code",
   "execution_count": 20,
   "id": "654b7c12-2709-4b87-8219-1aab006000b1",
   "metadata": {},
   "outputs": [
    {
     "data": {
      "text/plain": [
       "PCA         8349\n",
       "Complete    8349\n",
       "mmd         2783\n",
       "vanilla     2783\n",
       "beta        2783\n",
       "Name: model, dtype: int64"
      ]
     },
     "execution_count": 20,
     "metadata": {},
     "output_type": "execute_result"
    }
   ],
   "source": [
    "lsa_dfs.model.value_counts()"
   ]
  }
 ],
 "metadata": {
  "kernelspec": {
   "display_name": "Python [conda env:cell-painting-vae]",
   "language": "python",
   "name": "conda-env-cell-painting-vae-py"
  },
  "language_info": {
   "codemirror_mode": {
    "name": "ipython",
    "version": 3
   },
   "file_extension": ".py",
   "mimetype": "text/x-python",
   "name": "python",
   "nbconvert_exporter": "python",
   "pygments_lexer": "ipython3",
   "version": "3.7.10"
  }
 },
 "nbformat": 4,
 "nbformat_minor": 5
}
