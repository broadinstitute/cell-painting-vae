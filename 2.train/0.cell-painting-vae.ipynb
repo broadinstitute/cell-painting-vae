{
 "cells": [
  {
   "cell_type": "markdown",
   "metadata": {},
   "source": [
    "# Train a VAE on Cell Painting LINCS Data"
   ]
  },
  {
   "cell_type": "code",
   "execution_count": 2,
   "metadata": {},
   "outputs": [
    {
     "name": "stderr",
     "output_type": "stream",
     "text": [
      "Using TensorFlow backend.\n"
     ]
    }
   ],
   "source": [
    "import sys\n",
    "import pathlib\n",
    "import numpy as np\n",
    "import pandas as pd\n",
    "\n",
    "from tensorflow import keras\n",
    "\n",
    "from pycytominer.cyto_utils import infer_cp_features\n",
    "\n",
    "sys.path.insert(0, \"../scripts\")\n",
    "from utils import load_data\n",
    "from vae import VAE"
   ]
  },
  {
   "cell_type": "code",
   "execution_count": 3,
   "metadata": {},
   "outputs": [
    {
     "data": {
      "application/javascript": [
       "\n",
       "            setTimeout(function() {\n",
       "                var nbb_cell_id = 3;\n",
       "                var nbb_unformatted_code = \"%load_ext nb_black\";\n",
       "                var nbb_formatted_code = \"%load_ext nb_black\";\n",
       "                var nbb_cells = Jupyter.notebook.get_cells();\n",
       "                for (var i = 0; i < nbb_cells.length; ++i) {\n",
       "                    if (nbb_cells[i].input_prompt_number == nbb_cell_id) {\n",
       "                        if (nbb_cells[i].get_text() == nbb_unformatted_code) {\n",
       "                             nbb_cells[i].set_text(nbb_formatted_code);\n",
       "                        }\n",
       "                        break;\n",
       "                    }\n",
       "                }\n",
       "            }, 500);\n",
       "            "
      ],
      "text/plain": [
       "<IPython.core.display.Javascript object>"
      ]
     },
     "metadata": {},
     "output_type": "display_data"
    }
   ],
   "source": [
    "%load_ext nb_black"
   ]
  },
  {
   "cell_type": "code",
   "execution_count": 4,
   "metadata": {},
   "outputs": [
    {
     "data": {
      "application/javascript": [
       "\n",
       "            setTimeout(function() {\n",
       "                var nbb_cell_id = 4;\n",
       "                var nbb_unformatted_code = \"np.random.seed(123)\";\n",
       "                var nbb_formatted_code = \"np.random.seed(123)\";\n",
       "                var nbb_cells = Jupyter.notebook.get_cells();\n",
       "                for (var i = 0; i < nbb_cells.length; ++i) {\n",
       "                    if (nbb_cells[i].input_prompt_number == nbb_cell_id) {\n",
       "                        if (nbb_cells[i].get_text() == nbb_unformatted_code) {\n",
       "                             nbb_cells[i].set_text(nbb_formatted_code);\n",
       "                        }\n",
       "                        break;\n",
       "                    }\n",
       "                }\n",
       "            }, 500);\n",
       "            "
      ],
      "text/plain": [
       "<IPython.core.display.Javascript object>"
      ]
     },
     "metadata": {},
     "output_type": "display_data"
    }
   ],
   "source": [
    "np.random.seed(123)"
   ]
  },
  {
   "cell_type": "code",
   "execution_count": 5,
   "metadata": {},
   "outputs": [
    {
     "data": {
      "application/javascript": [
       "\n",
       "            setTimeout(function() {\n",
       "                var nbb_cell_id = 5;\n",
       "                var nbb_unformatted_code = \"data_splits = [\\\"train\\\", \\\"test\\\"]\\ndata_dict = load_data(data_splits)\";\n",
       "                var nbb_formatted_code = \"data_splits = [\\\"train\\\", \\\"test\\\"]\\ndata_dict = load_data(data_splits)\";\n",
       "                var nbb_cells = Jupyter.notebook.get_cells();\n",
       "                for (var i = 0; i < nbb_cells.length; ++i) {\n",
       "                    if (nbb_cells[i].input_prompt_number == nbb_cell_id) {\n",
       "                        if (nbb_cells[i].get_text() == nbb_unformatted_code) {\n",
       "                             nbb_cells[i].set_text(nbb_formatted_code);\n",
       "                        }\n",
       "                        break;\n",
       "                    }\n",
       "                }\n",
       "            }, 500);\n",
       "            "
      ],
      "text/plain": [
       "<IPython.core.display.Javascript object>"
      ]
     },
     "metadata": {},
     "output_type": "display_data"
    }
   ],
   "source": [
    "data_splits = [\"train\", \"test\"]\n",
    "data_dict = load_data(data_splits)"
   ]
  },
  {
   "cell_type": "code",
   "execution_count": 6,
   "metadata": {},
   "outputs": [
    {
     "data": {
      "application/javascript": [
       "\n",
       "            setTimeout(function() {\n",
       "                var nbb_cell_id = 6;\n",
       "                var nbb_unformatted_code = \"# Prepare data for training\\nmeta_features = infer_cp_features(data_dict[\\\"train\\\"], metadata=True)\\ncp_features = infer_cp_features(data_dict[\\\"train\\\"])\\n\\ntrain_features_df = data_dict[\\\"train\\\"].reindex(cp_features, axis=\\\"columns\\\")\\ntrain_meta_df = data_dict[\\\"train\\\"].reindex(meta_features, axis=\\\"columns\\\")\\n\\ntest_features_df = data_dict[\\\"test\\\"].reindex(cp_features, axis=\\\"columns\\\")\\ntest_meta_df = data_dict[\\\"test\\\"].reindex(meta_features, axis=\\\"columns\\\")\";\n",
       "                var nbb_formatted_code = \"# Prepare data for training\\nmeta_features = infer_cp_features(data_dict[\\\"train\\\"], metadata=True)\\ncp_features = infer_cp_features(data_dict[\\\"train\\\"])\\n\\ntrain_features_df = data_dict[\\\"train\\\"].reindex(cp_features, axis=\\\"columns\\\")\\ntrain_meta_df = data_dict[\\\"train\\\"].reindex(meta_features, axis=\\\"columns\\\")\\n\\ntest_features_df = data_dict[\\\"test\\\"].reindex(cp_features, axis=\\\"columns\\\")\\ntest_meta_df = data_dict[\\\"test\\\"].reindex(meta_features, axis=\\\"columns\\\")\";\n",
       "                var nbb_cells = Jupyter.notebook.get_cells();\n",
       "                for (var i = 0; i < nbb_cells.length; ++i) {\n",
       "                    if (nbb_cells[i].input_prompt_number == nbb_cell_id) {\n",
       "                        if (nbb_cells[i].get_text() == nbb_unformatted_code) {\n",
       "                             nbb_cells[i].set_text(nbb_formatted_code);\n",
       "                        }\n",
       "                        break;\n",
       "                    }\n",
       "                }\n",
       "            }, 500);\n",
       "            "
      ],
      "text/plain": [
       "<IPython.core.display.Javascript object>"
      ]
     },
     "metadata": {},
     "output_type": "display_data"
    }
   ],
   "source": [
    "# Prepare data for training\n",
    "meta_features = infer_cp_features(data_dict[\"train\"], metadata=True)\n",
    "cp_features = infer_cp_features(data_dict[\"train\"])\n",
    "\n",
    "train_features_df = data_dict[\"train\"].reindex(cp_features, axis=\"columns\")\n",
    "train_meta_df = data_dict[\"train\"].reindex(meta_features, axis=\"columns\")\n",
    "\n",
    "test_features_df = data_dict[\"test\"].reindex(cp_features, axis=\"columns\")\n",
    "test_meta_df = data_dict[\"test\"].reindex(meta_features, axis=\"columns\")"
   ]
  },
  {
   "cell_type": "code",
   "execution_count": 7,
   "metadata": {},
   "outputs": [
    {
     "name": "stdout",
     "output_type": "stream",
     "text": [
      "(8164, 588)\n"
     ]
    },
    {
     "data": {
      "text/html": [
       "<div>\n",
       "<style scoped>\n",
       "    .dataframe tbody tr th:only-of-type {\n",
       "        vertical-align: middle;\n",
       "    }\n",
       "\n",
       "    .dataframe tbody tr th {\n",
       "        vertical-align: top;\n",
       "    }\n",
       "\n",
       "    .dataframe thead th {\n",
       "        text-align: right;\n",
       "    }\n",
       "</style>\n",
       "<table border=\"1\" class=\"dataframe\">\n",
       "  <thead>\n",
       "    <tr style=\"text-align: right;\">\n",
       "      <th></th>\n",
       "      <th>Cells_AreaShape_FormFactor</th>\n",
       "      <th>Cells_AreaShape_Orientation</th>\n",
       "      <th>Cells_AreaShape_Zernike_2_2</th>\n",
       "      <th>Cells_AreaShape_Zernike_3_1</th>\n",
       "      <th>Cells_AreaShape_Zernike_5_1</th>\n",
       "      <th>Cells_AreaShape_Zernike_6_2</th>\n",
       "      <th>Cells_AreaShape_Zernike_7_1</th>\n",
       "      <th>Cells_AreaShape_Zernike_7_7</th>\n",
       "      <th>Cells_AreaShape_Zernike_9_3</th>\n",
       "      <th>Cells_Correlation_Correlation_DNA_AGP</th>\n",
       "      <th>...</th>\n",
       "      <th>Nuclei_Texture_SumAverage_AGP_5_0</th>\n",
       "      <th>Nuclei_Texture_SumEntropy_AGP_10_0</th>\n",
       "      <th>Nuclei_Texture_SumEntropy_AGP_20_0</th>\n",
       "      <th>Nuclei_Texture_SumEntropy_AGP_5_0</th>\n",
       "      <th>Nuclei_Texture_SumEntropy_DNA_10_0</th>\n",
       "      <th>Nuclei_Texture_SumEntropy_DNA_20_0</th>\n",
       "      <th>Nuclei_Texture_SumEntropy_Mito_5_0</th>\n",
       "      <th>Nuclei_Texture_SumVariance_DNA_5_0</th>\n",
       "      <th>Nuclei_Texture_Variance_DNA_20_0</th>\n",
       "      <th>Nuclei_Texture_Variance_DNA_5_0</th>\n",
       "    </tr>\n",
       "  </thead>\n",
       "  <tbody>\n",
       "    <tr>\n",
       "      <th>0</th>\n",
       "      <td>0.58139</td>\n",
       "      <td>0.58943</td>\n",
       "      <td>0.52275</td>\n",
       "      <td>0.47218</td>\n",
       "      <td>0.59942</td>\n",
       "      <td>0.33731</td>\n",
       "      <td>0.46867</td>\n",
       "      <td>0.86056</td>\n",
       "      <td>0.63262</td>\n",
       "      <td>0.69859</td>\n",
       "      <td>...</td>\n",
       "      <td>0.13771</td>\n",
       "      <td>0.27309</td>\n",
       "      <td>0.25188</td>\n",
       "      <td>0.26658</td>\n",
       "      <td>0.64382</td>\n",
       "      <td>0.54983</td>\n",
       "      <td>0.45665</td>\n",
       "      <td>0.39704</td>\n",
       "      <td>0.43390</td>\n",
       "      <td>0.41520</td>\n",
       "    </tr>\n",
       "    <tr>\n",
       "      <th>1</th>\n",
       "      <td>0.61141</td>\n",
       "      <td>0.63239</td>\n",
       "      <td>0.64982</td>\n",
       "      <td>0.51768</td>\n",
       "      <td>0.56649</td>\n",
       "      <td>0.28735</td>\n",
       "      <td>0.48172</td>\n",
       "      <td>0.87469</td>\n",
       "      <td>0.65850</td>\n",
       "      <td>0.64112</td>\n",
       "      <td>...</td>\n",
       "      <td>0.11049</td>\n",
       "      <td>0.17156</td>\n",
       "      <td>0.15290</td>\n",
       "      <td>0.16573</td>\n",
       "      <td>0.56529</td>\n",
       "      <td>0.45087</td>\n",
       "      <td>0.45219</td>\n",
       "      <td>0.31356</td>\n",
       "      <td>0.36162</td>\n",
       "      <td>0.33429</td>\n",
       "    </tr>\n",
       "    <tr>\n",
       "      <th>2</th>\n",
       "      <td>0.48886</td>\n",
       "      <td>0.61813</td>\n",
       "      <td>0.55293</td>\n",
       "      <td>0.45130</td>\n",
       "      <td>0.59392</td>\n",
       "      <td>0.37508</td>\n",
       "      <td>0.43175</td>\n",
       "      <td>0.76606</td>\n",
       "      <td>0.64708</td>\n",
       "      <td>0.69571</td>\n",
       "      <td>...</td>\n",
       "      <td>0.20347</td>\n",
       "      <td>0.22407</td>\n",
       "      <td>0.21294</td>\n",
       "      <td>0.22257</td>\n",
       "      <td>0.58874</td>\n",
       "      <td>0.50065</td>\n",
       "      <td>0.42470</td>\n",
       "      <td>0.32341</td>\n",
       "      <td>0.35135</td>\n",
       "      <td>0.33536</td>\n",
       "    </tr>\n",
       "  </tbody>\n",
       "</table>\n",
       "<p>3 rows × 588 columns</p>\n",
       "</div>"
      ],
      "text/plain": [
       "   Cells_AreaShape_FormFactor  Cells_AreaShape_Orientation  \\\n",
       "0                     0.58139                      0.58943   \n",
       "1                     0.61141                      0.63239   \n",
       "2                     0.48886                      0.61813   \n",
       "\n",
       "   Cells_AreaShape_Zernike_2_2  Cells_AreaShape_Zernike_3_1  \\\n",
       "0                      0.52275                      0.47218   \n",
       "1                      0.64982                      0.51768   \n",
       "2                      0.55293                      0.45130   \n",
       "\n",
       "   Cells_AreaShape_Zernike_5_1  Cells_AreaShape_Zernike_6_2  \\\n",
       "0                      0.59942                      0.33731   \n",
       "1                      0.56649                      0.28735   \n",
       "2                      0.59392                      0.37508   \n",
       "\n",
       "   Cells_AreaShape_Zernike_7_1  Cells_AreaShape_Zernike_7_7  \\\n",
       "0                      0.46867                      0.86056   \n",
       "1                      0.48172                      0.87469   \n",
       "2                      0.43175                      0.76606   \n",
       "\n",
       "   Cells_AreaShape_Zernike_9_3  Cells_Correlation_Correlation_DNA_AGP  ...  \\\n",
       "0                      0.63262                                0.69859  ...   \n",
       "1                      0.65850                                0.64112  ...   \n",
       "2                      0.64708                                0.69571  ...   \n",
       "\n",
       "   Nuclei_Texture_SumAverage_AGP_5_0  Nuclei_Texture_SumEntropy_AGP_10_0  \\\n",
       "0                            0.13771                             0.27309   \n",
       "1                            0.11049                             0.17156   \n",
       "2                            0.20347                             0.22407   \n",
       "\n",
       "   Nuclei_Texture_SumEntropy_AGP_20_0  Nuclei_Texture_SumEntropy_AGP_5_0  \\\n",
       "0                             0.25188                            0.26658   \n",
       "1                             0.15290                            0.16573   \n",
       "2                             0.21294                            0.22257   \n",
       "\n",
       "   Nuclei_Texture_SumEntropy_DNA_10_0  Nuclei_Texture_SumEntropy_DNA_20_0  \\\n",
       "0                             0.64382                             0.54983   \n",
       "1                             0.56529                             0.45087   \n",
       "2                             0.58874                             0.50065   \n",
       "\n",
       "   Nuclei_Texture_SumEntropy_Mito_5_0  Nuclei_Texture_SumVariance_DNA_5_0  \\\n",
       "0                             0.45665                             0.39704   \n",
       "1                             0.45219                             0.31356   \n",
       "2                             0.42470                             0.32341   \n",
       "\n",
       "   Nuclei_Texture_Variance_DNA_20_0  Nuclei_Texture_Variance_DNA_5_0  \n",
       "0                           0.43390                          0.41520  \n",
       "1                           0.36162                          0.33429  \n",
       "2                           0.35135                          0.33536  \n",
       "\n",
       "[3 rows x 588 columns]"
      ]
     },
     "execution_count": 7,
     "metadata": {},
     "output_type": "execute_result"
    },
    {
     "data": {
      "application/javascript": [
       "\n",
       "            setTimeout(function() {\n",
       "                var nbb_cell_id = 7;\n",
       "                var nbb_unformatted_code = \"print(train_features_df.shape)\\ntrain_features_df.head(3)\";\n",
       "                var nbb_formatted_code = \"print(train_features_df.shape)\\ntrain_features_df.head(3)\";\n",
       "                var nbb_cells = Jupyter.notebook.get_cells();\n",
       "                for (var i = 0; i < nbb_cells.length; ++i) {\n",
       "                    if (nbb_cells[i].input_prompt_number == nbb_cell_id) {\n",
       "                        if (nbb_cells[i].get_text() == nbb_unformatted_code) {\n",
       "                             nbb_cells[i].set_text(nbb_formatted_code);\n",
       "                        }\n",
       "                        break;\n",
       "                    }\n",
       "                }\n",
       "            }, 500);\n",
       "            "
      ],
      "text/plain": [
       "<IPython.core.display.Javascript object>"
      ]
     },
     "metadata": {},
     "output_type": "display_data"
    }
   ],
   "source": [
    "print(train_features_df.shape)\n",
    "train_features_df.head(3)"
   ]
  },
  {
   "cell_type": "code",
   "execution_count": 8,
   "metadata": {},
   "outputs": [
    {
     "name": "stdout",
     "output_type": "stream",
     "text": [
      "(1037, 588)\n"
     ]
    },
    {
     "data": {
      "text/html": [
       "<div>\n",
       "<style scoped>\n",
       "    .dataframe tbody tr th:only-of-type {\n",
       "        vertical-align: middle;\n",
       "    }\n",
       "\n",
       "    .dataframe tbody tr th {\n",
       "        vertical-align: top;\n",
       "    }\n",
       "\n",
       "    .dataframe thead th {\n",
       "        text-align: right;\n",
       "    }\n",
       "</style>\n",
       "<table border=\"1\" class=\"dataframe\">\n",
       "  <thead>\n",
       "    <tr style=\"text-align: right;\">\n",
       "      <th></th>\n",
       "      <th>Cells_AreaShape_FormFactor</th>\n",
       "      <th>Cells_AreaShape_Orientation</th>\n",
       "      <th>Cells_AreaShape_Zernike_2_2</th>\n",
       "      <th>Cells_AreaShape_Zernike_3_1</th>\n",
       "      <th>Cells_AreaShape_Zernike_5_1</th>\n",
       "      <th>Cells_AreaShape_Zernike_6_2</th>\n",
       "      <th>Cells_AreaShape_Zernike_7_1</th>\n",
       "      <th>Cells_AreaShape_Zernike_7_7</th>\n",
       "      <th>Cells_AreaShape_Zernike_9_3</th>\n",
       "      <th>Cells_Correlation_Correlation_DNA_AGP</th>\n",
       "      <th>...</th>\n",
       "      <th>Nuclei_Texture_SumAverage_AGP_5_0</th>\n",
       "      <th>Nuclei_Texture_SumEntropy_AGP_10_0</th>\n",
       "      <th>Nuclei_Texture_SumEntropy_AGP_20_0</th>\n",
       "      <th>Nuclei_Texture_SumEntropy_AGP_5_0</th>\n",
       "      <th>Nuclei_Texture_SumEntropy_DNA_10_0</th>\n",
       "      <th>Nuclei_Texture_SumEntropy_DNA_20_0</th>\n",
       "      <th>Nuclei_Texture_SumEntropy_Mito_5_0</th>\n",
       "      <th>Nuclei_Texture_SumVariance_DNA_5_0</th>\n",
       "      <th>Nuclei_Texture_Variance_DNA_20_0</th>\n",
       "      <th>Nuclei_Texture_Variance_DNA_5_0</th>\n",
       "    </tr>\n",
       "  </thead>\n",
       "  <tbody>\n",
       "    <tr>\n",
       "      <th>0</th>\n",
       "      <td>0.56580</td>\n",
       "      <td>0.64874</td>\n",
       "      <td>0.69447</td>\n",
       "      <td>0.46048</td>\n",
       "      <td>0.51780</td>\n",
       "      <td>0.29006</td>\n",
       "      <td>0.45754</td>\n",
       "      <td>0.88344</td>\n",
       "      <td>0.53493</td>\n",
       "      <td>0.36377</td>\n",
       "      <td>...</td>\n",
       "      <td>0.22196</td>\n",
       "      <td>0.21631</td>\n",
       "      <td>0.18994</td>\n",
       "      <td>0.23943</td>\n",
       "      <td>0.50994</td>\n",
       "      <td>0.42373</td>\n",
       "      <td>0.41825</td>\n",
       "      <td>0.24933</td>\n",
       "      <td>0.34295</td>\n",
       "      <td>0.29460</td>\n",
       "    </tr>\n",
       "    <tr>\n",
       "      <th>1</th>\n",
       "      <td>0.50517</td>\n",
       "      <td>0.68001</td>\n",
       "      <td>0.66229</td>\n",
       "      <td>0.48497</td>\n",
       "      <td>0.49032</td>\n",
       "      <td>0.23165</td>\n",
       "      <td>0.51650</td>\n",
       "      <td>0.85594</td>\n",
       "      <td>0.53245</td>\n",
       "      <td>0.85154</td>\n",
       "      <td>...</td>\n",
       "      <td>0.91301</td>\n",
       "      <td>0.58116</td>\n",
       "      <td>0.55981</td>\n",
       "      <td>0.61404</td>\n",
       "      <td>0.40951</td>\n",
       "      <td>0.30107</td>\n",
       "      <td>0.49368</td>\n",
       "      <td>0.16326</td>\n",
       "      <td>0.25610</td>\n",
       "      <td>0.20783</td>\n",
       "    </tr>\n",
       "    <tr>\n",
       "      <th>2</th>\n",
       "      <td>0.62075</td>\n",
       "      <td>0.60104</td>\n",
       "      <td>0.66595</td>\n",
       "      <td>0.50440</td>\n",
       "      <td>0.53494</td>\n",
       "      <td>0.17595</td>\n",
       "      <td>0.49983</td>\n",
       "      <td>0.91533</td>\n",
       "      <td>0.51284</td>\n",
       "      <td>0.42192</td>\n",
       "      <td>...</td>\n",
       "      <td>0.19964</td>\n",
       "      <td>0.19910</td>\n",
       "      <td>0.18299</td>\n",
       "      <td>0.22215</td>\n",
       "      <td>0.57422</td>\n",
       "      <td>0.49592</td>\n",
       "      <td>0.40440</td>\n",
       "      <td>0.29218</td>\n",
       "      <td>0.38456</td>\n",
       "      <td>0.33795</td>\n",
       "    </tr>\n",
       "  </tbody>\n",
       "</table>\n",
       "<p>3 rows × 588 columns</p>\n",
       "</div>"
      ],
      "text/plain": [
       "   Cells_AreaShape_FormFactor  Cells_AreaShape_Orientation  \\\n",
       "0                     0.56580                      0.64874   \n",
       "1                     0.50517                      0.68001   \n",
       "2                     0.62075                      0.60104   \n",
       "\n",
       "   Cells_AreaShape_Zernike_2_2  Cells_AreaShape_Zernike_3_1  \\\n",
       "0                      0.69447                      0.46048   \n",
       "1                      0.66229                      0.48497   \n",
       "2                      0.66595                      0.50440   \n",
       "\n",
       "   Cells_AreaShape_Zernike_5_1  Cells_AreaShape_Zernike_6_2  \\\n",
       "0                      0.51780                      0.29006   \n",
       "1                      0.49032                      0.23165   \n",
       "2                      0.53494                      0.17595   \n",
       "\n",
       "   Cells_AreaShape_Zernike_7_1  Cells_AreaShape_Zernike_7_7  \\\n",
       "0                      0.45754                      0.88344   \n",
       "1                      0.51650                      0.85594   \n",
       "2                      0.49983                      0.91533   \n",
       "\n",
       "   Cells_AreaShape_Zernike_9_3  Cells_Correlation_Correlation_DNA_AGP  ...  \\\n",
       "0                      0.53493                                0.36377  ...   \n",
       "1                      0.53245                                0.85154  ...   \n",
       "2                      0.51284                                0.42192  ...   \n",
       "\n",
       "   Nuclei_Texture_SumAverage_AGP_5_0  Nuclei_Texture_SumEntropy_AGP_10_0  \\\n",
       "0                            0.22196                             0.21631   \n",
       "1                            0.91301                             0.58116   \n",
       "2                            0.19964                             0.19910   \n",
       "\n",
       "   Nuclei_Texture_SumEntropy_AGP_20_0  Nuclei_Texture_SumEntropy_AGP_5_0  \\\n",
       "0                             0.18994                            0.23943   \n",
       "1                             0.55981                            0.61404   \n",
       "2                             0.18299                            0.22215   \n",
       "\n",
       "   Nuclei_Texture_SumEntropy_DNA_10_0  Nuclei_Texture_SumEntropy_DNA_20_0  \\\n",
       "0                             0.50994                             0.42373   \n",
       "1                             0.40951                             0.30107   \n",
       "2                             0.57422                             0.49592   \n",
       "\n",
       "   Nuclei_Texture_SumEntropy_Mito_5_0  Nuclei_Texture_SumVariance_DNA_5_0  \\\n",
       "0                             0.41825                             0.24933   \n",
       "1                             0.49368                             0.16326   \n",
       "2                             0.40440                             0.29218   \n",
       "\n",
       "   Nuclei_Texture_Variance_DNA_20_0  Nuclei_Texture_Variance_DNA_5_0  \n",
       "0                           0.34295                          0.29460  \n",
       "1                           0.25610                          0.20783  \n",
       "2                           0.38456                          0.33795  \n",
       "\n",
       "[3 rows x 588 columns]"
      ]
     },
     "execution_count": 8,
     "metadata": {},
     "output_type": "execute_result"
    },
    {
     "data": {
      "application/javascript": [
       "\n",
       "            setTimeout(function() {\n",
       "                var nbb_cell_id = 8;\n",
       "                var nbb_unformatted_code = \"print(test_features_df.shape)\\ntest_features_df.head(3)\";\n",
       "                var nbb_formatted_code = \"print(test_features_df.shape)\\ntest_features_df.head(3)\";\n",
       "                var nbb_cells = Jupyter.notebook.get_cells();\n",
       "                for (var i = 0; i < nbb_cells.length; ++i) {\n",
       "                    if (nbb_cells[i].input_prompt_number == nbb_cell_id) {\n",
       "                        if (nbb_cells[i].get_text() == nbb_unformatted_code) {\n",
       "                             nbb_cells[i].set_text(nbb_formatted_code);\n",
       "                        }\n",
       "                        break;\n",
       "                    }\n",
       "                }\n",
       "            }, 500);\n",
       "            "
      ],
      "text/plain": [
       "<IPython.core.display.Javascript object>"
      ]
     },
     "metadata": {},
     "output_type": "display_data"
    }
   ],
   "source": [
    "print(test_features_df.shape)\n",
    "test_features_df.head(3)"
   ]
  },
  {
   "cell_type": "code",
   "execution_count": 9,
   "metadata": {},
   "outputs": [
    {
     "data": {
      "application/javascript": [
       "\n",
       "            setTimeout(function() {\n",
       "                var nbb_cell_id = 9;\n",
       "                var nbb_unformatted_code = \"encoder_architecture = [100]\\ndecoder_architecture = [100]\";\n",
       "                var nbb_formatted_code = \"encoder_architecture = [100]\\ndecoder_architecture = [100]\";\n",
       "                var nbb_cells = Jupyter.notebook.get_cells();\n",
       "                for (var i = 0; i < nbb_cells.length; ++i) {\n",
       "                    if (nbb_cells[i].input_prompt_number == nbb_cell_id) {\n",
       "                        if (nbb_cells[i].get_text() == nbb_unformatted_code) {\n",
       "                             nbb_cells[i].set_text(nbb_formatted_code);\n",
       "                        }\n",
       "                        break;\n",
       "                    }\n",
       "                }\n",
       "            }, 500);\n",
       "            "
      ],
      "text/plain": [
       "<IPython.core.display.Javascript object>"
      ]
     },
     "metadata": {},
     "output_type": "display_data"
    }
   ],
   "source": [
    "encoder_architecture = [100]\n",
    "decoder_architecture = [100]"
   ]
  },
  {
   "cell_type": "code",
   "execution_count": 10,
   "metadata": {},
   "outputs": [
    {
     "name": "stderr",
     "output_type": "stream",
     "text": [
      "/home/greg/miniconda3/envs/shared-latent-space/lib/python3.7/site-packages/keras/engine/training_utils.py:819: UserWarning: Output model_2 missing from loss dictionary. We assume this was done on purpose. The fit and evaluate APIs will not be expecting any data to be passed to model_2.\n",
      "  'be expecting any data to be passed to {0}.'.format(name))\n"
     ]
    },
    {
     "data": {
      "application/javascript": [
       "\n",
       "            setTimeout(function() {\n",
       "                var nbb_cell_id = 10;\n",
       "                var nbb_unformatted_code = \"cp_vae = VAE(\\n    input_dim=train_features_df.shape[1],\\n    latent_dim=20,\\n    encoder_architecture=encoder_architecture,\\n    decoder_architecture=decoder_architecture,\\n    beta=2,\\n    verbose=False,\\n)\\ncp_vae.compile_vae()\";\n",
       "                var nbb_formatted_code = \"cp_vae = VAE(\\n    input_dim=train_features_df.shape[1],\\n    latent_dim=20,\\n    encoder_architecture=encoder_architecture,\\n    decoder_architecture=decoder_architecture,\\n    beta=2,\\n    verbose=False,\\n)\\ncp_vae.compile_vae()\";\n",
       "                var nbb_cells = Jupyter.notebook.get_cells();\n",
       "                for (var i = 0; i < nbb_cells.length; ++i) {\n",
       "                    if (nbb_cells[i].input_prompt_number == nbb_cell_id) {\n",
       "                        if (nbb_cells[i].get_text() == nbb_unformatted_code) {\n",
       "                             nbb_cells[i].set_text(nbb_formatted_code);\n",
       "                        }\n",
       "                        break;\n",
       "                    }\n",
       "                }\n",
       "            }, 500);\n",
       "            "
      ],
      "text/plain": [
       "<IPython.core.display.Javascript object>"
      ]
     },
     "metadata": {},
     "output_type": "display_data"
    }
   ],
   "source": [
    "cp_vae = VAE(\n",
    "    input_dim=train_features_df.shape[1],\n",
    "    latent_dim=20,\n",
    "    encoder_architecture=encoder_architecture,\n",
    "    decoder_architecture=decoder_architecture,\n",
    "    beta=2,\n",
    "    verbose=False,\n",
    ")\n",
    "cp_vae.compile_vae()"
   ]
  },
  {
   "cell_type": "code",
   "execution_count": 13,
   "metadata": {},
   "outputs": [
    {
     "data": {
      "application/javascript": [
       "\n",
       "            setTimeout(function() {\n",
       "                var nbb_cell_id = 13;\n",
       "                var nbb_unformatted_code = \"cp_vae.train(x_train=train_features_df, x_test=test_features_df)\";\n",
       "                var nbb_formatted_code = \"cp_vae.train(x_train=train_features_df, x_test=test_features_df)\";\n",
       "                var nbb_cells = Jupyter.notebook.get_cells();\n",
       "                for (var i = 0; i < nbb_cells.length; ++i) {\n",
       "                    if (nbb_cells[i].input_prompt_number == nbb_cell_id) {\n",
       "                        if (nbb_cells[i].get_text() == nbb_unformatted_code) {\n",
       "                             nbb_cells[i].set_text(nbb_formatted_code);\n",
       "                        }\n",
       "                        break;\n",
       "                    }\n",
       "                }\n",
       "            }, 500);\n",
       "            "
      ],
      "text/plain": [
       "<IPython.core.display.Javascript object>"
      ]
     },
     "metadata": {},
     "output_type": "display_data"
    }
   ],
   "source": [
    "cp_vae.train(x_train=train_features_df, x_test=test_features_df)"
   ]
  },
  {
   "cell_type": "code",
   "execution_count": 14,
   "metadata": {},
   "outputs": [
    {
     "data": {
      "text/plain": [
       "<keras.engine.training.Model at 0x7f8024689c10>"
      ]
     },
     "execution_count": 14,
     "metadata": {},
     "output_type": "execute_result"
    },
    {
     "data": {
      "application/javascript": [
       "\n",
       "            setTimeout(function() {\n",
       "                var nbb_cell_id = 14;\n",
       "                var nbb_unformatted_code = \"cp_vae.vae\";\n",
       "                var nbb_formatted_code = \"cp_vae.vae\";\n",
       "                var nbb_cells = Jupyter.notebook.get_cells();\n",
       "                for (var i = 0; i < nbb_cells.length; ++i) {\n",
       "                    if (nbb_cells[i].input_prompt_number == nbb_cell_id) {\n",
       "                        if (nbb_cells[i].get_text() == nbb_unformatted_code) {\n",
       "                             nbb_cells[i].set_text(nbb_formatted_code);\n",
       "                        }\n",
       "                        break;\n",
       "                    }\n",
       "                }\n",
       "            }, 500);\n",
       "            "
      ],
      "text/plain": [
       "<IPython.core.display.Javascript object>"
      ]
     },
     "metadata": {},
     "output_type": "display_data"
    }
   ],
   "source": [
    "cp_vae.vae"
   ]
  },
  {
   "cell_type": "code",
   "execution_count": null,
   "metadata": {},
   "outputs": [],
   "source": [
    "# Save training performance\n",
    "history_df = pd.DataFrame(cp_vae.vae.history.history)\n",
    "history_df = history_df.assign(\n",
    "    num_components=latent_dim,\n",
    "    learning_rate=learning_rate,\n",
    "    batch_size=batch_size,\n",
    "    epochs=epochs,\n",
    "    kappa=kappa,\n",
    "    seed=seed,\n",
    "    depth=depth,\n",
    "    first_layer=first_layer,\n",
    "    dataset=dataset\n",
    ")\n",
    "history_df.to_csv(output_filename, sep='\\t')"
   ]
  },
  {
   "cell_type": "code",
   "execution_count": 11,
   "metadata": {},
   "outputs": [
    {
     "data": {
      "text/plain": [
       "{'val_loss': [412.15114776699613,\n",
       "  401.303383690182,\n",
       "  399.8858876242127,\n",
       "  406.778304685852,\n",
       "  404.0603034406642,\n",
       "  402.91872389084347,\n",
       "  401.6807797173525,\n",
       "  395.7157830263173,\n",
       "  392.8384124255571,\n",
       "  391.2090535619105,\n",
       "  389.4218528107484,\n",
       "  387.87752948639593,\n",
       "  387.5745362269844,\n",
       "  386.96624361514586,\n",
       "  386.9917402423796,\n",
       "  386.8040701738319,\n",
       "  386.59356245079516,\n",
       "  386.53352124941614,\n",
       "  386.46870532720965,\n",
       "  386.3744880286339,\n",
       "  386.43877573482325,\n",
       "  386.3163669920933,\n",
       "  386.2461667332148,\n",
       "  386.3137052530493,\n",
       "  386.2920891845468,\n",
       "  386.3242901734929,\n",
       "  386.41841744962744,\n",
       "  386.2678305645228,\n",
       "  386.3713796499725,\n",
       "  386.16381418049735,\n",
       "  386.44335716784633,\n",
       "  386.35123298667094,\n",
       "  386.0293076164812,\n",
       "  386.33599120740604,\n",
       "  386.3971436076592,\n",
       "  386.377160214872,\n",
       "  386.3051806369881,\n",
       "  386.3521435405617,\n",
       "  386.32454005271745,\n",
       "  386.3564197095174,\n",
       "  386.3353360359096,\n",
       "  386.1256328939587,\n",
       "  385.96794059260486,\n",
       "  386.3464080015972,\n",
       "  386.3516514630074,\n",
       "  385.9194096976329,\n",
       "  386.2593249594119,\n",
       "  386.14600027262765,\n",
       "  386.01784901632755,\n",
       "  386.2869470462045],\n",
       " 'loss': [410.78683537469664,\n",
       "  394.7271277106667,\n",
       "  391.72324200508234,\n",
       "  389.8512677609015,\n",
       "  388.0929041352709,\n",
       "  386.62163602388824,\n",
       "  385.6394136719468,\n",
       "  385.1202143024779,\n",
       "  384.77119072741704,\n",
       "  384.4656567945018,\n",
       "  384.2865839672696,\n",
       "  384.13414474704115,\n",
       "  384.07367650601634,\n",
       "  383.9166621460978,\n",
       "  383.84135566348834,\n",
       "  383.8654496876531,\n",
       "  383.7653727402937,\n",
       "  383.7732130066546,\n",
       "  383.7865337575551,\n",
       "  383.6656172367827,\n",
       "  383.78379210977215,\n",
       "  383.76720173156826,\n",
       "  383.8102435682522,\n",
       "  383.6286169086701,\n",
       "  383.6408636979996,\n",
       "  383.6566709810936,\n",
       "  383.6515139888631,\n",
       "  383.6641323121373,\n",
       "  383.5956054119314,\n",
       "  383.68554843003585,\n",
       "  383.6375317197404,\n",
       "  383.6076884888832,\n",
       "  383.6071116453523,\n",
       "  383.6624104688122,\n",
       "  383.57814375014357,\n",
       "  383.61007300175504,\n",
       "  383.5824183043985,\n",
       "  383.6186167723054,\n",
       "  383.6420028514572,\n",
       "  383.6916566705774,\n",
       "  383.66192292022333,\n",
       "  383.6418769832688,\n",
       "  383.6083354435967,\n",
       "  383.61316080948467,\n",
       "  383.6639338506898,\n",
       "  383.5881724901961,\n",
       "  383.6108576967575,\n",
       "  383.6027405592579,\n",
       "  383.62025782852885,\n",
       "  383.6727981230957]}"
      ]
     },
     "execution_count": 11,
     "metadata": {},
     "output_type": "execute_result"
    },
    {
     "data": {
      "application/javascript": [
       "\n",
       "            setTimeout(function() {\n",
       "                var nbb_cell_id = 11;\n",
       "                var nbb_unformatted_code = \"cp_vae.vae.history.history\";\n",
       "                var nbb_formatted_code = \"cp_vae.vae.history.history\";\n",
       "                var nbb_cells = Jupyter.notebook.get_cells();\n",
       "                for (var i = 0; i < nbb_cells.length; ++i) {\n",
       "                    if (nbb_cells[i].input_prompt_number == nbb_cell_id) {\n",
       "                        if (nbb_cells[i].get_text() == nbb_unformatted_code) {\n",
       "                             nbb_cells[i].set_text(nbb_formatted_code);\n",
       "                        }\n",
       "                        break;\n",
       "                    }\n",
       "                }\n",
       "            }, 500);\n",
       "            "
      ],
      "text/plain": [
       "<IPython.core.display.Javascript object>"
      ]
     },
     "metadata": {},
     "output_type": "display_data"
    }
   ],
   "source": [
    "cp_vae.vae.history.history"
   ]
  }
 ],
 "metadata": {
  "kernelspec": {
   "display_name": "Python 3",
   "language": "python",
   "name": "python3"
  },
  "language_info": {
   "codemirror_mode": {
    "name": "ipython",
    "version": 3
   },
   "file_extension": ".py",
   "mimetype": "text/x-python",
   "name": "python",
   "nbconvert_exporter": "python",
   "pygments_lexer": "ipython3",
   "version": "3.7.6"
  }
 },
 "nbformat": 4,
 "nbformat_minor": 4
}
