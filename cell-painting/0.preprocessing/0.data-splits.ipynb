{
 "cells": [
  {
   "cell_type": "markdown",
   "metadata": {},
   "source": [
    "# Split the Cell Painting Data into Training/Testing/Validation Sets\n",
    "\n",
    "Split the data 80% training, 10% testing, 10% validation, balanced by platemap."
   ]
  },
  {
   "cell_type": "code",
   "execution_count": 3,
   "metadata": {},
   "outputs": [],
   "source": [
    "import sys\n",
    "import pathlib\n",
    "import numpy as np\n",
    "import pandas as pd\n",
    "\n",
    "from sklearn.model_selection import train_test_split\n",
    "\n",
    "from pycytominer import feature_select\n",
    "from pycytominer.cyto_utils import infer_cp_features\n",
    "\n",
    "sys.path.insert(0, \"../../scripts\")\n",
    "from utils import transform"
   ]
  },
  {
   "cell_type": "code",
   "execution_count": 12,
   "metadata": {},
   "outputs": [
    {
     "name": "stdout",
     "output_type": "stream",
     "text": [
      "The nb_black extension is already loaded. To reload it, use:\n",
      "  %reload_ext nb_black\n"
     ]
    },
    {
     "data": {
      "application/javascript": [
       "\n",
       "            setTimeout(function() {\n",
       "                var nbb_cell_id = 12;\n",
       "                var nbb_unformatted_code = \"%load_ext nb_black\";\n",
       "                var nbb_formatted_code = \"%load_ext nb_black\";\n",
       "                var nbb_cells = Jupyter.notebook.get_cells();\n",
       "                for (var i = 0; i < nbb_cells.length; ++i) {\n",
       "                    if (nbb_cells[i].input_prompt_number == nbb_cell_id) {\n",
       "                        if (nbb_cells[i].get_text() == nbb_unformatted_code) {\n",
       "                             nbb_cells[i].set_text(nbb_formatted_code);\n",
       "                        }\n",
       "                        break;\n",
       "                    }\n",
       "                }\n",
       "            }, 500);\n",
       "            "
      ],
      "text/plain": [
       "<IPython.core.display.Javascript object>"
      ]
     },
     "metadata": {},
     "output_type": "display_data"
    }
   ],
   "source": [
    "%load_ext nb_black"
   ]
  },
  {
   "cell_type": "code",
   "execution_count": 13,
   "metadata": {},
   "outputs": [
    {
     "data": {
      "application/javascript": [
       "\n",
       "            setTimeout(function() {\n",
       "                var nbb_cell_id = 13;\n",
       "                var nbb_unformatted_code = \"seed = 9876\\ntest_split = 0.1\\nfeature_select_opts = [\\n    \\\"variance_threshold\\\",\\n    \\\"blacklist\\\",\\n    \\\"drop_na_columns\\\",\\n    \\\"drop_outliers\\\",\\n]\\n\\noutput_dir = pathlib.Path(\\\"data\\\")\\noutput_dir.mkdir(exist_ok=True)\";\n",
       "                var nbb_formatted_code = \"seed = 9876\\ntest_split = 0.1\\nfeature_select_opts = [\\n    \\\"variance_threshold\\\",\\n    \\\"blacklist\\\",\\n    \\\"drop_na_columns\\\",\\n    \\\"drop_outliers\\\",\\n]\\n\\noutput_dir = pathlib.Path(\\\"data\\\")\\noutput_dir.mkdir(exist_ok=True)\";\n",
       "                var nbb_cells = Jupyter.notebook.get_cells();\n",
       "                for (var i = 0; i < nbb_cells.length; ++i) {\n",
       "                    if (nbb_cells[i].input_prompt_number == nbb_cell_id) {\n",
       "                        if (nbb_cells[i].get_text() == nbb_unformatted_code) {\n",
       "                             nbb_cells[i].set_text(nbb_formatted_code);\n",
       "                        }\n",
       "                        break;\n",
       "                    }\n",
       "                }\n",
       "            }, 500);\n",
       "            "
      ],
      "text/plain": [
       "<IPython.core.display.Javascript object>"
      ]
     },
     "metadata": {},
     "output_type": "display_data"
    }
   ],
   "source": [
    "seed = 9876\n",
    "test_split = 0.1\n",
    "feature_select_opts = [\n",
    "    \"variance_threshold\",\n",
    "    \"blacklist\",\n",
    "    \"drop_na_columns\",\n",
    "    \"drop_outliers\",\n",
    "]\n",
    "\n",
    "output_dir = pathlib.Path(\"data\")\n",
    "output_dir.mkdir(exist_ok=True)"
   ]
  },
  {
   "cell_type": "code",
   "execution_count": 14,
   "metadata": {},
   "outputs": [
    {
     "data": {
      "application/javascript": [
       "\n",
       "            setTimeout(function() {\n",
       "                var nbb_cell_id = 14;\n",
       "                var nbb_unformatted_code = \"consensus = \\\"modz\\\"\\nbatch = \\\"2016_04_01_a549_48hr_batch1\\\"\\ncommit_hash = \\\"27a2d7dd74067b5754c2c045e9b1a9cfb0581ae4\\\"\\n\\n# We have noticed particular technical issues with this platemap\\n# remove it from downstream consideration\\n# https://github.com/broadinstitute/lincs-cell-painting/issues/43\\nfilter_platemap = \\\"C-7161-01-LM6-011\\\"\";\n",
       "                var nbb_formatted_code = \"consensus = \\\"modz\\\"\\nbatch = \\\"2016_04_01_a549_48hr_batch1\\\"\\ncommit_hash = \\\"27a2d7dd74067b5754c2c045e9b1a9cfb0581ae4\\\"\\n\\n# We have noticed particular technical issues with this platemap\\n# remove it from downstream consideration\\n# https://github.com/broadinstitute/lincs-cell-painting/issues/43\\nfilter_platemap = \\\"C-7161-01-LM6-011\\\"\";\n",
       "                var nbb_cells = Jupyter.notebook.get_cells();\n",
       "                for (var i = 0; i < nbb_cells.length; ++i) {\n",
       "                    if (nbb_cells[i].input_prompt_number == nbb_cell_id) {\n",
       "                        if (nbb_cells[i].get_text() == nbb_unformatted_code) {\n",
       "                             nbb_cells[i].set_text(nbb_formatted_code);\n",
       "                        }\n",
       "                        break;\n",
       "                    }\n",
       "                }\n",
       "            }, 500);\n",
       "            "
      ],
      "text/plain": [
       "<IPython.core.display.Javascript object>"
      ]
     },
     "metadata": {},
     "output_type": "display_data"
    }
   ],
   "source": [
    "consensus = \"modz\"\n",
    "batch = \"2016_04_01_a549_48hr_batch1\"\n",
    "commit_hash = \"27a2d7dd74067b5754c2c045e9b1a9cfb0581ae4\"\n",
    "\n",
    "# We have noticed particular technical issues with this platemap\n",
    "# remove it from downstream consideration\n",
    "# https://github.com/broadinstitute/lincs-cell-painting/issues/43\n",
    "filter_platemap = \"C-7161-01-LM6-011\""
   ]
  },
  {
   "cell_type": "code",
   "execution_count": 15,
   "metadata": {},
   "outputs": [
    {
     "name": "stdout",
     "output_type": "stream",
     "text": [
      "(10368, 1789)\n"
     ]
    },
    {
     "data": {
      "text/html": [
       "<div>\n",
       "<style scoped>\n",
       "    .dataframe tbody tr th:only-of-type {\n",
       "        vertical-align: middle;\n",
       "    }\n",
       "\n",
       "    .dataframe tbody tr th {\n",
       "        vertical-align: top;\n",
       "    }\n",
       "\n",
       "    .dataframe thead th {\n",
       "        text-align: right;\n",
       "    }\n",
       "</style>\n",
       "<table border=\"1\" class=\"dataframe\">\n",
       "  <thead>\n",
       "    <tr style=\"text-align: right;\">\n",
       "      <th></th>\n",
       "      <th>Metadata_Plate_Map_Name</th>\n",
       "      <th>Metadata_broad_sample</th>\n",
       "      <th>Metadata_pert_well</th>\n",
       "      <th>Metadata_mmoles_per_liter</th>\n",
       "      <th>Metadata_dose_recode</th>\n",
       "      <th>Cells_AreaShape_Area</th>\n",
       "      <th>Cells_AreaShape_Center_X</th>\n",
       "      <th>Cells_AreaShape_Center_Y</th>\n",
       "      <th>Cells_AreaShape_Compactness</th>\n",
       "      <th>Cells_AreaShape_Eccentricity</th>\n",
       "      <th>...</th>\n",
       "      <th>Nuclei_Texture_Variance_ER_10_0</th>\n",
       "      <th>Nuclei_Texture_Variance_ER_20_0</th>\n",
       "      <th>Nuclei_Texture_Variance_ER_5_0</th>\n",
       "      <th>Nuclei_Texture_Variance_Mito_10_0</th>\n",
       "      <th>Nuclei_Texture_Variance_Mito_20_0</th>\n",
       "      <th>Nuclei_Texture_Variance_Mito_5_0</th>\n",
       "      <th>Nuclei_Texture_Variance_RNA_10_0</th>\n",
       "      <th>Nuclei_Texture_Variance_RNA_20_0</th>\n",
       "      <th>Nuclei_Texture_Variance_RNA_5_0</th>\n",
       "      <th>Metadata_unique_id</th>\n",
       "    </tr>\n",
       "  </thead>\n",
       "  <tbody>\n",
       "    <tr>\n",
       "      <th>0</th>\n",
       "      <td>C-7161-01-LM6-001</td>\n",
       "      <td>BRD-A25234499-001-18-3</td>\n",
       "      <td>B13</td>\n",
       "      <td>10.0000</td>\n",
       "      <td>6</td>\n",
       "      <td>0.590843</td>\n",
       "      <td>-0.291888</td>\n",
       "      <td>0.197000</td>\n",
       "      <td>0.025410</td>\n",
       "      <td>-0.314847</td>\n",
       "      <td>...</td>\n",
       "      <td>-1.067810</td>\n",
       "      <td>-0.953925</td>\n",
       "      <td>-1.12625</td>\n",
       "      <td>-0.539351</td>\n",
       "      <td>-0.413102</td>\n",
       "      <td>-0.587832</td>\n",
       "      <td>0.822261</td>\n",
       "      <td>0.738317</td>\n",
       "      <td>0.878220</td>\n",
       "      <td>BRD-A25234499-001-18-3_dose_6</td>\n",
       "    </tr>\n",
       "    <tr>\n",
       "      <th>1</th>\n",
       "      <td>C-7161-01-LM6-001</td>\n",
       "      <td>BRD-A25234499-001-18-3</td>\n",
       "      <td>B14</td>\n",
       "      <td>3.3333</td>\n",
       "      <td>5</td>\n",
       "      <td>0.953997</td>\n",
       "      <td>0.615666</td>\n",
       "      <td>-0.003971</td>\n",
       "      <td>0.362362</td>\n",
       "      <td>-0.299340</td>\n",
       "      <td>...</td>\n",
       "      <td>-0.884445</td>\n",
       "      <td>-0.676961</td>\n",
       "      <td>-0.97964</td>\n",
       "      <td>-0.900894</td>\n",
       "      <td>-0.897170</td>\n",
       "      <td>-0.787205</td>\n",
       "      <td>-0.673075</td>\n",
       "      <td>-0.747765</td>\n",
       "      <td>-0.346591</td>\n",
       "      <td>BRD-A25234499-001-18-3_dose_5</td>\n",
       "    </tr>\n",
       "  </tbody>\n",
       "</table>\n",
       "<p>2 rows × 1789 columns</p>\n",
       "</div>"
      ],
      "text/plain": [
       "  Metadata_Plate_Map_Name   Metadata_broad_sample Metadata_pert_well  \\\n",
       "0       C-7161-01-LM6-001  BRD-A25234499-001-18-3                B13   \n",
       "1       C-7161-01-LM6-001  BRD-A25234499-001-18-3                B14   \n",
       "\n",
       "   Metadata_mmoles_per_liter  Metadata_dose_recode  Cells_AreaShape_Area  \\\n",
       "0                    10.0000                     6              0.590843   \n",
       "1                     3.3333                     5              0.953997   \n",
       "\n",
       "   Cells_AreaShape_Center_X  Cells_AreaShape_Center_Y  \\\n",
       "0                 -0.291888                  0.197000   \n",
       "1                  0.615666                 -0.003971   \n",
       "\n",
       "   Cells_AreaShape_Compactness  Cells_AreaShape_Eccentricity  ...  \\\n",
       "0                     0.025410                     -0.314847  ...   \n",
       "1                     0.362362                     -0.299340  ...   \n",
       "\n",
       "   Nuclei_Texture_Variance_ER_10_0  Nuclei_Texture_Variance_ER_20_0  \\\n",
       "0                        -1.067810                        -0.953925   \n",
       "1                        -0.884445                        -0.676961   \n",
       "\n",
       "   Nuclei_Texture_Variance_ER_5_0  Nuclei_Texture_Variance_Mito_10_0  \\\n",
       "0                        -1.12625                          -0.539351   \n",
       "1                        -0.97964                          -0.900894   \n",
       "\n",
       "   Nuclei_Texture_Variance_Mito_20_0  Nuclei_Texture_Variance_Mito_5_0  \\\n",
       "0                          -0.413102                         -0.587832   \n",
       "1                          -0.897170                         -0.787205   \n",
       "\n",
       "   Nuclei_Texture_Variance_RNA_10_0  Nuclei_Texture_Variance_RNA_20_0  \\\n",
       "0                          0.822261                          0.738317   \n",
       "1                         -0.673075                         -0.747765   \n",
       "\n",
       "   Nuclei_Texture_Variance_RNA_5_0             Metadata_unique_id  \n",
       "0                         0.878220  BRD-A25234499-001-18-3_dose_6  \n",
       "1                        -0.346591  BRD-A25234499-001-18-3_dose_5  \n",
       "\n",
       "[2 rows x 1789 columns]"
      ]
     },
     "execution_count": 15,
     "metadata": {},
     "output_type": "execute_result"
    },
    {
     "data": {
      "application/javascript": [
       "\n",
       "            setTimeout(function() {\n",
       "                var nbb_cell_id = 15;\n",
       "                var nbb_unformatted_code = \"# Load data\\nbase_url = (\\n    \\\"https://media.githubusercontent.com/media/broadinstitute/lincs-cell-painting/\\\"\\n)\\nrepurp_url = (\\n    f\\\"{base_url}/{commit_hash}/consensus/{batch}/{batch}_consensus_{consensus}.csv.gz\\\"\\n)\\n\\ncomplete_consensus_df = pd.read_csv(repurp_url).query(\\n    \\\"Metadata_Plate_Map_Name != @filter_platemap\\\"\\n)\\n\\ncomplete_consensus_df = complete_consensus_df.assign(\\n    Metadata_unique_id=complete_consensus_df.Metadata_broad_sample\\n    + \\\"_dose_\\\"\\n    + complete_consensus_df.Metadata_dose_recode.astype(str)\\n)\\n\\nprint(complete_consensus_df.shape)\\ncomplete_consensus_df.head(2)\";\n",
       "                var nbb_formatted_code = \"# Load data\\nbase_url = (\\n    \\\"https://media.githubusercontent.com/media/broadinstitute/lincs-cell-painting/\\\"\\n)\\nrepurp_url = (\\n    f\\\"{base_url}/{commit_hash}/consensus/{batch}/{batch}_consensus_{consensus}.csv.gz\\\"\\n)\\n\\ncomplete_consensus_df = pd.read_csv(repurp_url).query(\\n    \\\"Metadata_Plate_Map_Name != @filter_platemap\\\"\\n)\\n\\ncomplete_consensus_df = complete_consensus_df.assign(\\n    Metadata_unique_id=complete_consensus_df.Metadata_broad_sample\\n    + \\\"_dose_\\\"\\n    + complete_consensus_df.Metadata_dose_recode.astype(str)\\n)\\n\\nprint(complete_consensus_df.shape)\\ncomplete_consensus_df.head(2)\";\n",
       "                var nbb_cells = Jupyter.notebook.get_cells();\n",
       "                for (var i = 0; i < nbb_cells.length; ++i) {\n",
       "                    if (nbb_cells[i].input_prompt_number == nbb_cell_id) {\n",
       "                        if (nbb_cells[i].get_text() == nbb_unformatted_code) {\n",
       "                             nbb_cells[i].set_text(nbb_formatted_code);\n",
       "                        }\n",
       "                        break;\n",
       "                    }\n",
       "                }\n",
       "            }, 500);\n",
       "            "
      ],
      "text/plain": [
       "<IPython.core.display.Javascript object>"
      ]
     },
     "metadata": {},
     "output_type": "display_data"
    }
   ],
   "source": [
    "# Load data\n",
    "base_url = (\n",
    "    \"https://media.githubusercontent.com/media/broadinstitute/lincs-cell-painting/\"\n",
    ")\n",
    "repurp_url = (\n",
    "    f\"{base_url}/{commit_hash}/consensus/{batch}/{batch}_consensus_{consensus}.csv.gz\"\n",
    ")\n",
    "\n",
    "complete_consensus_df = pd.read_csv(repurp_url).query(\n",
    "    \"Metadata_Plate_Map_Name != @filter_platemap\"\n",
    ")\n",
    "\n",
    "complete_consensus_df = complete_consensus_df.assign(\n",
    "    Metadata_unique_id=complete_consensus_df.Metadata_broad_sample\n",
    "    + \"_dose_\"\n",
    "    + complete_consensus_df.Metadata_dose_recode.astype(str)\n",
    ")\n",
    "\n",
    "print(complete_consensus_df.shape)\n",
    "complete_consensus_df.head(2)"
   ]
  },
  {
   "cell_type": "code",
   "execution_count": 16,
   "metadata": {},
   "outputs": [
    {
     "name": "stdout",
     "output_type": "stream",
     "text": [
      "(10368, 594)\n"
     ]
    },
    {
     "data": {
      "application/javascript": [
       "\n",
       "            setTimeout(function() {\n",
       "                var nbb_cell_id = 16;\n",
       "                var nbb_unformatted_code = \"# Perform feature selection\\ncomplete_consensus_df = feature_select(\\n    profiles=complete_consensus_df,\\n    features=\\\"infer\\\",\\n    samples=\\\"none\\\",\\n    operation=feature_select_opts,\\n    output_file=\\\"none\\\",\\n    na_cutoff=0,\\n    corr_threshold=0.9,\\n    corr_method=\\\"pearson\\\",\\n    freq_cut=0.05,\\n    unique_cut=0.1,\\n)\\n\\nprint(complete_consensus_df.shape)\";\n",
       "                var nbb_formatted_code = \"# Perform feature selection\\ncomplete_consensus_df = feature_select(\\n    profiles=complete_consensus_df,\\n    features=\\\"infer\\\",\\n    samples=\\\"none\\\",\\n    operation=feature_select_opts,\\n    output_file=\\\"none\\\",\\n    na_cutoff=0,\\n    corr_threshold=0.9,\\n    corr_method=\\\"pearson\\\",\\n    freq_cut=0.05,\\n    unique_cut=0.1,\\n)\\n\\nprint(complete_consensus_df.shape)\";\n",
       "                var nbb_cells = Jupyter.notebook.get_cells();\n",
       "                for (var i = 0; i < nbb_cells.length; ++i) {\n",
       "                    if (nbb_cells[i].input_prompt_number == nbb_cell_id) {\n",
       "                        if (nbb_cells[i].get_text() == nbb_unformatted_code) {\n",
       "                             nbb_cells[i].set_text(nbb_formatted_code);\n",
       "                        }\n",
       "                        break;\n",
       "                    }\n",
       "                }\n",
       "            }, 500);\n",
       "            "
      ],
      "text/plain": [
       "<IPython.core.display.Javascript object>"
      ]
     },
     "metadata": {},
     "output_type": "display_data"
    }
   ],
   "source": [
    "# Perform feature selection\n",
    "complete_consensus_df = feature_select(\n",
    "    profiles=complete_consensus_df,\n",
    "    features=\"infer\",\n",
    "    samples=\"none\",\n",
    "    operation=feature_select_opts,\n",
    "    output_file=\"none\",\n",
    "    na_cutoff=0,\n",
    "    corr_threshold=0.9,\n",
    "    corr_method=\"pearson\",\n",
    "    freq_cut=0.05,\n",
    "    unique_cut=0.1,\n",
    ")\n",
    "\n",
    "print(complete_consensus_df.shape)"
   ]
  },
  {
   "cell_type": "code",
   "execution_count": 17,
   "metadata": {},
   "outputs": [
    {
     "data": {
      "application/javascript": [
       "\n",
       "            setTimeout(function() {\n",
       "                var nbb_cell_id = 17;\n",
       "                var nbb_unformatted_code = \"# Zero One Normalize Data\\ncomplete_consensus_df = transform(complete_consensus_df)\";\n",
       "                var nbb_formatted_code = \"# Zero One Normalize Data\\ncomplete_consensus_df = transform(complete_consensus_df)\";\n",
       "                var nbb_cells = Jupyter.notebook.get_cells();\n",
       "                for (var i = 0; i < nbb_cells.length; ++i) {\n",
       "                    if (nbb_cells[i].input_prompt_number == nbb_cell_id) {\n",
       "                        if (nbb_cells[i].get_text() == nbb_unformatted_code) {\n",
       "                             nbb_cells[i].set_text(nbb_formatted_code);\n",
       "                        }\n",
       "                        break;\n",
       "                    }\n",
       "                }\n",
       "            }, 500);\n",
       "            "
      ],
      "text/plain": [
       "<IPython.core.display.Javascript object>"
      ]
     },
     "metadata": {},
     "output_type": "display_data"
    }
   ],
   "source": [
    "# Zero One Normalize Data\n",
    "complete_consensus_df = transform(complete_consensus_df)"
   ]
  },
  {
   "cell_type": "code",
   "execution_count": 18,
   "metadata": {},
   "outputs": [
    {
     "data": {
      "application/javascript": [
       "\n",
       "            setTimeout(function() {\n",
       "                var nbb_cell_id = 18;\n",
       "                var nbb_unformatted_code = \"# Split data\\ntrain_df, test_df = train_test_split(\\n    complete_consensus_df,\\n    test_size=test_split,\\n    random_state=seed,\\n    stratify=complete_consensus_df.Metadata_Plate_Map_Name,\\n)\";\n",
       "                var nbb_formatted_code = \"# Split data\\ntrain_df, test_df = train_test_split(\\n    complete_consensus_df,\\n    test_size=test_split,\\n    random_state=seed,\\n    stratify=complete_consensus_df.Metadata_Plate_Map_Name,\\n)\";\n",
       "                var nbb_cells = Jupyter.notebook.get_cells();\n",
       "                for (var i = 0; i < nbb_cells.length; ++i) {\n",
       "                    if (nbb_cells[i].input_prompt_number == nbb_cell_id) {\n",
       "                        if (nbb_cells[i].get_text() == nbb_unformatted_code) {\n",
       "                             nbb_cells[i].set_text(nbb_formatted_code);\n",
       "                        }\n",
       "                        break;\n",
       "                    }\n",
       "                }\n",
       "            }, 500);\n",
       "            "
      ],
      "text/plain": [
       "<IPython.core.display.Javascript object>"
      ]
     },
     "metadata": {},
     "output_type": "display_data"
    }
   ],
   "source": [
    "# Split data\n",
    "train_df, test_df = train_test_split(\n",
    "    complete_consensus_df,\n",
    "    test_size=test_split,\n",
    "    random_state=seed,\n",
    "    stratify=complete_consensus_df.Metadata_Plate_Map_Name,\n",
    ")"
   ]
  },
  {
   "cell_type": "code",
   "execution_count": 19,
   "metadata": {},
   "outputs": [
    {
     "name": "stdout",
     "output_type": "stream",
     "text": [
      "(9331, 594)\n",
      "(1037, 594)\n"
     ]
    },
    {
     "data": {
      "application/javascript": [
       "\n",
       "            setTimeout(function() {\n",
       "                var nbb_cell_id = 19;\n",
       "                var nbb_unformatted_code = \"print(train_df.shape)\\nprint(test_df.shape)\";\n",
       "                var nbb_formatted_code = \"print(train_df.shape)\\nprint(test_df.shape)\";\n",
       "                var nbb_cells = Jupyter.notebook.get_cells();\n",
       "                for (var i = 0; i < nbb_cells.length; ++i) {\n",
       "                    if (nbb_cells[i].input_prompt_number == nbb_cell_id) {\n",
       "                        if (nbb_cells[i].get_text() == nbb_unformatted_code) {\n",
       "                             nbb_cells[i].set_text(nbb_formatted_code);\n",
       "                        }\n",
       "                        break;\n",
       "                    }\n",
       "                }\n",
       "            }, 500);\n",
       "            "
      ],
      "text/plain": [
       "<IPython.core.display.Javascript object>"
      ]
     },
     "metadata": {},
     "output_type": "display_data"
    }
   ],
   "source": [
    "print(train_df.shape)\n",
    "print(test_df.shape)"
   ]
  },
  {
   "cell_type": "code",
   "execution_count": 20,
   "metadata": {},
   "outputs": [
    {
     "data": {
      "application/javascript": [
       "\n",
       "            setTimeout(function() {\n",
       "                var nbb_cell_id = 20;\n",
       "                var nbb_unformatted_code = \"# Output data splits\\ntrain_file = pathlib.Path(output_dir, \\\"cell_painting_train.tsv.gz\\\")\\ntest_file = pathlib.Path(output_dir, \\\"cell_painting_test.tsv.gz\\\")\\ncomplete_file = pathlib.Path(output_dir, \\\"cell_painting_complete.tsv.gz\\\")\\n\\ntrain_df.to_csv(train_file, sep=\\\"\\\\t\\\", index=False, float_format=\\\"%.5g\\\")\\ntest_df.to_csv(test_file, sep=\\\"\\\\t\\\", index=False, float_format=\\\"%.5g\\\")\\ncomplete_consensus_df.to_csv(complete_file, sep=\\\"\\\\t\\\", index=False, float_format=\\\"%.5g\\\")\";\n",
       "                var nbb_formatted_code = \"# Output data splits\\ntrain_file = pathlib.Path(output_dir, \\\"cell_painting_train.tsv.gz\\\")\\ntest_file = pathlib.Path(output_dir, \\\"cell_painting_test.tsv.gz\\\")\\ncomplete_file = pathlib.Path(output_dir, \\\"cell_painting_complete.tsv.gz\\\")\\n\\ntrain_df.to_csv(train_file, sep=\\\"\\\\t\\\", index=False, float_format=\\\"%.5g\\\")\\ntest_df.to_csv(test_file, sep=\\\"\\\\t\\\", index=False, float_format=\\\"%.5g\\\")\\ncomplete_consensus_df.to_csv(complete_file, sep=\\\"\\\\t\\\", index=False, float_format=\\\"%.5g\\\")\";\n",
       "                var nbb_cells = Jupyter.notebook.get_cells();\n",
       "                for (var i = 0; i < nbb_cells.length; ++i) {\n",
       "                    if (nbb_cells[i].input_prompt_number == nbb_cell_id) {\n",
       "                        if (nbb_cells[i].get_text() == nbb_unformatted_code) {\n",
       "                             nbb_cells[i].set_text(nbb_formatted_code);\n",
       "                        }\n",
       "                        break;\n",
       "                    }\n",
       "                }\n",
       "            }, 500);\n",
       "            "
      ],
      "text/plain": [
       "<IPython.core.display.Javascript object>"
      ]
     },
     "metadata": {},
     "output_type": "display_data"
    }
   ],
   "source": [
    "# Output data splits\n",
    "train_file = pathlib.Path(output_dir, \"cell_painting_train.tsv.gz\")\n",
    "test_file = pathlib.Path(output_dir, \"cell_painting_test.tsv.gz\")\n",
    "complete_file = pathlib.Path(output_dir, \"cell_painting_complete.tsv.gz\")\n",
    "\n",
    "train_df.to_csv(train_file, sep=\"\\t\", index=False, float_format=\"%.5g\")\n",
    "test_df.to_csv(test_file, sep=\"\\t\", index=False, float_format=\"%.5g\")\n",
    "complete_consensus_df.to_csv(complete_file, sep=\"\\t\", index=False, float_format=\"%.5g\")"
   ]
  }
 ],
 "metadata": {
  "kernelspec": {
   "display_name": "Python 3",
   "language": "python",
   "name": "python3"
  },
  "language_info": {
   "codemirror_mode": {
    "name": "ipython",
    "version": 3
   },
   "file_extension": ".py",
   "mimetype": "text/x-python",
   "name": "python",
   "nbconvert_exporter": "python",
   "pygments_lexer": "ipython3",
   "version": "3.7.8"
  }
 },
 "nbformat": 4,
 "nbformat_minor": 4
}
