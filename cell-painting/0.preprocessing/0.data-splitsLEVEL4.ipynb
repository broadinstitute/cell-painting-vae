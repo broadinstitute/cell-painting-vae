{
 "cells": [
  {
   "cell_type": "markdown",
   "metadata": {},
   "source": [
    "# Split the Cell Painting Data into Training/Testing/Validation Sets\n",
    "\n",
    "Split the data 80% training, 10% testing, 10% validation, balanced by platemap."
   ]
  },
  {
   "cell_type": "code",
   "execution_count": 1,
   "metadata": {},
   "outputs": [],
   "source": [
    "import sys\n",
    "import pathlib\n",
    "import numpy as np\n",
    "import pandas as pd\n",
    "\n",
    "from sklearn.model_selection import train_test_split\n",
    "\n",
    "from pycytominer import feature_select\n",
    "from pycytominer.cyto_utils import infer_cp_features\n",
    "\n",
    "sys.path.insert(0, \"../../scripts\")\n",
    "from utils import transform"
   ]
  },
  {
   "cell_type": "code",
   "execution_count": 2,
   "metadata": {},
   "outputs": [],
   "source": [
    "# %load_ext nb_black"
   ]
  },
  {
   "cell_type": "code",
   "execution_count": 3,
   "metadata": {},
   "outputs": [],
   "source": [
    "seed = 9876\n",
    "test_split = 0.2\n",
    "feature_select_opts = [\n",
    "    \"variance_threshold\",\n",
    "    \"blacklist\",\n",
    "    \"drop_na_columns\",\n",
    "#     \"drop_outliers\",\n",
    "]\n",
    "\n",
    "output_dir = pathlib.Path(\"data\")\n",
    "output_dir.mkdir(exist_ok=True)"
   ]
  },
  {
   "cell_type": "code",
   "execution_count": 4,
   "metadata": {},
   "outputs": [],
   "source": [
    "consensus = \"modz\"\n",
    "batch = \"2016_04_01_a549_48hr_batch1\"\n",
    "commit_hash = \"27a2d7dd74067b5754c2c045e9b1a9cfb0581ae4\"\n",
    "\n",
    "# We have noticed particular technical issues with this platemap\n",
    "# remove it from downstream consideration\n",
    "# https://github.com/broadinstitute/lincs-cell-painting/issues/43\n",
    "filter_platemap = \"C-7161-01-LM6-011\""
   ]
  },
  {
   "cell_type": "code",
   "execution_count": 5,
   "metadata": {
    "scrolled": true
   },
   "outputs": [
    {
     "name": "stderr",
     "output_type": "stream",
     "text": [
      "/home/ubuntu/miniconda3/envs/cell-painting-vae/lib/python3.7/site-packages/IPython/core/interactiveshell.py:3170: DtypeWarning: Columns (22,23) have mixed types.Specify dtype option on import or set low_memory=False.\n",
      "  interactivity=interactivity, compiler=compiler, result=result)\n"
     ]
    },
    {
     "name": "stdout",
     "output_type": "stream",
     "text": [
      "(50303, 830)\n"
     ]
    },
    {
     "data": {
      "text/html": [
       "<div>\n",
       "<style scoped>\n",
       "    .dataframe tbody tr th:only-of-type {\n",
       "        vertical-align: middle;\n",
       "    }\n",
       "\n",
       "    .dataframe tbody tr th {\n",
       "        vertical-align: top;\n",
       "    }\n",
       "\n",
       "    .dataframe thead th {\n",
       "        text-align: right;\n",
       "    }\n",
       "</style>\n",
       "<table border=\"1\" class=\"dataframe\">\n",
       "  <thead>\n",
       "    <tr style=\"text-align: right;\">\n",
       "      <th></th>\n",
       "      <th>Metadata_plate_map_name</th>\n",
       "      <th>Metadata_broad_sample</th>\n",
       "      <th>Metadata_mg_per_ml</th>\n",
       "      <th>Metadata_mmoles_per_liter</th>\n",
       "      <th>Metadata_solvent</th>\n",
       "      <th>Metadata_Plate</th>\n",
       "      <th>Metadata_Well</th>\n",
       "      <th>Metadata_pert_id</th>\n",
       "      <th>Metadata_pert_mfc_id</th>\n",
       "      <th>Metadata_pert_well</th>\n",
       "      <th>...</th>\n",
       "      <th>Nuclei_Texture_SumEntropy_Mito_5_0</th>\n",
       "      <th>Nuclei_Texture_SumEntropy_RNA_20_0</th>\n",
       "      <th>Nuclei_Texture_SumEntropy_RNA_5_0</th>\n",
       "      <th>Nuclei_Texture_SumVariance_DNA_20_0</th>\n",
       "      <th>Nuclei_Texture_SumVariance_Mito_5_0</th>\n",
       "      <th>Nuclei_Texture_SumVariance_RNA_20_0</th>\n",
       "      <th>Nuclei_Texture_Variance_DNA_20_0</th>\n",
       "      <th>Nuclei_Texture_Variance_ER_20_0</th>\n",
       "      <th>Nuclei_Texture_Variance_RNA_10_0</th>\n",
       "      <th>Nuclei_Texture_Variance_RNA_20_0</th>\n",
       "    </tr>\n",
       "  </thead>\n",
       "  <tbody>\n",
       "    <tr>\n",
       "      <th>0</th>\n",
       "      <td>C-7161-01-LM6-027</td>\n",
       "      <td>DMSO</td>\n",
       "      <td>0.0</td>\n",
       "      <td>0.0</td>\n",
       "      <td>DMSO</td>\n",
       "      <td>SQ00015211</td>\n",
       "      <td>A01</td>\n",
       "      <td>NaN</td>\n",
       "      <td>NaN</td>\n",
       "      <td>A01</td>\n",
       "      <td>...</td>\n",
       "      <td>-1.691233</td>\n",
       "      <td>0.641488</td>\n",
       "      <td>0.467653</td>\n",
       "      <td>2.364342</td>\n",
       "      <td>-0.571713</td>\n",
       "      <td>0.757513</td>\n",
       "      <td>-0.634580</td>\n",
       "      <td>1.440005</td>\n",
       "      <td>-0.044817</td>\n",
       "      <td>0.264545</td>\n",
       "    </tr>\n",
       "    <tr>\n",
       "      <th>1</th>\n",
       "      <td>C-7161-01-LM6-027</td>\n",
       "      <td>DMSO</td>\n",
       "      <td>0.0</td>\n",
       "      <td>0.0</td>\n",
       "      <td>DMSO</td>\n",
       "      <td>SQ00015211</td>\n",
       "      <td>A02</td>\n",
       "      <td>NaN</td>\n",
       "      <td>NaN</td>\n",
       "      <td>A02</td>\n",
       "      <td>...</td>\n",
       "      <td>-0.546898</td>\n",
       "      <td>-0.810054</td>\n",
       "      <td>-1.668961</td>\n",
       "      <td>1.532843</td>\n",
       "      <td>-0.177450</td>\n",
       "      <td>-1.684778</td>\n",
       "      <td>-1.235524</td>\n",
       "      <td>1.958443</td>\n",
       "      <td>0.165417</td>\n",
       "      <td>-0.985233</td>\n",
       "    </tr>\n",
       "  </tbody>\n",
       "</table>\n",
       "<p>2 rows × 830 columns</p>\n",
       "</div>"
      ],
      "text/plain": [
       "  Metadata_plate_map_name Metadata_broad_sample  Metadata_mg_per_ml  \\\n",
       "0       C-7161-01-LM6-027                  DMSO                 0.0   \n",
       "1       C-7161-01-LM6-027                  DMSO                 0.0   \n",
       "\n",
       "   Metadata_mmoles_per_liter Metadata_solvent Metadata_Plate Metadata_Well  \\\n",
       "0                        0.0             DMSO     SQ00015211           A01   \n",
       "1                        0.0             DMSO     SQ00015211           A02   \n",
       "\n",
       "  Metadata_pert_id Metadata_pert_mfc_id Metadata_pert_well  ...  \\\n",
       "0              NaN                  NaN                A01  ...   \n",
       "1              NaN                  NaN                A02  ...   \n",
       "\n",
       "   Nuclei_Texture_SumEntropy_Mito_5_0 Nuclei_Texture_SumEntropy_RNA_20_0  \\\n",
       "0                           -1.691233                           0.641488   \n",
       "1                           -0.546898                          -0.810054   \n",
       "\n",
       "  Nuclei_Texture_SumEntropy_RNA_5_0 Nuclei_Texture_SumVariance_DNA_20_0  \\\n",
       "0                          0.467653                            2.364342   \n",
       "1                         -1.668961                            1.532843   \n",
       "\n",
       "  Nuclei_Texture_SumVariance_Mito_5_0 Nuclei_Texture_SumVariance_RNA_20_0  \\\n",
       "0                           -0.571713                            0.757513   \n",
       "1                           -0.177450                           -1.684778   \n",
       "\n",
       "  Nuclei_Texture_Variance_DNA_20_0 Nuclei_Texture_Variance_ER_20_0  \\\n",
       "0                        -0.634580                        1.440005   \n",
       "1                        -1.235524                        1.958443   \n",
       "\n",
       "  Nuclei_Texture_Variance_RNA_10_0 Nuclei_Texture_Variance_RNA_20_0  \n",
       "0                        -0.044817                         0.264545  \n",
       "1                         0.165417                        -0.985233  \n",
       "\n",
       "[2 rows x 830 columns]"
      ]
     },
     "execution_count": 5,
     "metadata": {},
     "output_type": "execute_result"
    }
   ],
   "source": [
    "# Load data\n",
    "base_url = (\n",
    "    \"https://media.githubusercontent.com/media/broadinstitute/lincs-cell-painting/\"\n",
    ")\n",
    "# repurp_url = (\n",
    "#     f\"{base_url}/{commit_hash}/consensus/{batch}/{batch}_consensus_{consensus}.csv.gz\"\n",
    "# )\n",
    "repurp_url = 'https://github.com/broadinstitute/lincs-cell-painting/raw/master/spherized_profiles/profiles/2016_04_01_a549_48hr_batch1_dmso_spherized_profiles_with_input_normalized_by_whole_plate.csv.gz'\n",
    "\n",
    "complete_level4_df = pd.read_csv(repurp_url).query(\n",
    "    \"Metadata_Plate_Map_Name != @filter_platemap\"\n",
    ")\n",
    "\n",
    "# complete_consensus_df = complete_consensus_df.assign(\n",
    "#     Metadata_unique_id=complete_consensus_df.Metadata_broad_sample\n",
    "#     + \"_dose_\"\n",
    "#     + complete_consensus_df.Metadata_dose_recode.astype(str)\n",
    "# )\n",
    "\n",
    "print(complete_level4_df.shape)\n",
    "complete_level4_df.head(2)"
   ]
  },
  {
   "cell_type": "code",
   "execution_count": 6,
   "metadata": {},
   "outputs": [
    {
     "name": "stdout",
     "output_type": "stream",
     "text": [
      "(50303, 830)\n"
     ]
    }
   ],
   "source": [
    "# Perform feature selection\n",
    "complete_level4_df = feature_select(\n",
    "    profiles=complete_level4_df,\n",
    "    features=\"infer\",\n",
    "    samples=\"none\",\n",
    "    operation=feature_select_opts,\n",
    "    output_file=\"none\",\n",
    "    na_cutoff=0,\n",
    "    corr_threshold=0.9,\n",
    "    corr_method=\"pearson\",\n",
    "    freq_cut=0.05,\n",
    "    unique_cut=0.1,\n",
    ")\n",
    "\n",
    "print(complete_level4_df.shape)"
   ]
  },
  {
   "cell_type": "code",
   "execution_count": 15,
   "metadata": {},
   "outputs": [],
   "source": [
    "# Zero One Normalize Data\n",
    "complete_level4_df = transform(complete_level4_df)"
   ]
  },
  {
   "cell_type": "code",
   "execution_count": 10,
   "metadata": {},
   "outputs": [],
   "source": [
    "# Split data\n",
    "train_df, test_df = train_test_split(\n",
    "    complete_level4_df,\n",
    "    test_size=test_split,\n",
    "    random_state=seed,\n",
    "    stratify=complete_level4_df.Metadata_Plate_Map_Name,\n",
    ")\n",
    "\n",
    "test_df, valid_df = train_test_split(\n",
    "    test_df,\n",
    "    test_size=0.5,\n",
    "    random_state=seed,\n",
    "    stratify=test_df.Metadata_Plate_Map_Name,\n",
    ")"
   ]
  },
  {
   "cell_type": "code",
   "execution_count": 11,
   "metadata": {
    "scrolled": true
   },
   "outputs": [
    {
     "name": "stdout",
     "output_type": "stream",
     "text": [
      "(38762, 711)\n",
      "(4845, 711)\n",
      "(4846, 711)\n"
     ]
    }
   ],
   "source": [
    "print(train_df.shape)\n",
    "print(test_df.shape)\n",
    "print(valid_df.shape)"
   ]
  },
  {
   "cell_type": "code",
   "execution_count": 13,
   "metadata": {},
   "outputs": [],
   "source": [
    "# Output data splits\n",
    "train_file = pathlib.Path(output_dir, \"cell_painting_trainLEVEL4.tsv.gz\")\n",
    "test_file = pathlib.Path(output_dir, \"cell_painting_testLEVEL4.tsv.gz\")\n",
    "valid_file = pathlib.Path(output_dir, \"cell_painting_validLEVEL4.tsv.gz\")\n",
    "complete_file = pathlib.Path(output_dir, \"cell_painting_completeLEVEL4.tsv.gz\")\n",
    "\n",
    "# train_df.to_csv(train_file, sep=\"\\t\", index=False, float_format=\"%.5g\")\n",
    "# test_df.to_csv(test_file, sep=\"\\t\", index=False, float_format=\"%.5g\")\n",
    "# valid_df.to_csv(valid_file, sep=\"\\t\", index=False, float_format=\"%.5g\")\n",
    "complete_level4_df.to_csv(complete_file, sep=\"\\t\", index=False, float_format=\"%.5g\")"
   ]
  }
 ],
 "metadata": {
  "kernelspec": {
   "display_name": "Python 3",
   "language": "python",
   "name": "python3"
  },
  "language_info": {
   "codemirror_mode": {
    "name": "ipython",
    "version": 3
   },
   "file_extension": ".py",
   "mimetype": "text/x-python",
   "name": "python",
   "nbconvert_exporter": "python",
   "pygments_lexer": "ipython3",
   "version": "3.7.10"
  }
 },
 "nbformat": 4,
 "nbformat_minor": 4
}
