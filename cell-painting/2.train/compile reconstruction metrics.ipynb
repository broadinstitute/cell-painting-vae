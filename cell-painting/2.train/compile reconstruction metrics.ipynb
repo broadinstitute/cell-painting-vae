{
 "cells": [
  {
   "cell_type": "code",
   "execution_count": 1,
   "id": "39c751af",
   "metadata": {},
   "outputs": [],
   "source": [
    "import pandas as pd"
   ]
  },
  {
   "cell_type": "code",
   "execution_count": 3,
   "id": "23bff769",
   "metadata": {},
   "outputs": [],
   "source": [
    "cp5 = pd.read_csv('cp5_reconstruction_metrics.csv')\n",
    "cp4 = pd.read_csv('cp4_reconstruction_metrics.csv')\n",
    "L1000 = pd.read_csv('../../L1000/2.train/L1000_reconstruction_metrics.csv')"
   ]
  },
  {
   "cell_type": "code",
   "execution_count": 12,
   "id": "5700dd8d",
   "metadata": {},
   "outputs": [],
   "source": [
    "reconstruction_metrics = pd.concat([cp5, cp4, L1000]).reset_index(drop = True)\n",
    "reconstruction_metrics = reconstruction_metrics.round(5)\n",
    "reconstruction_metrics['Earthmoving [Formatted]'] = reconstruction_metrics['Earthmoving'].astype(str) + ' (' + reconstruction_metrics['Earthmoving 5%'].astype(str) + ', ' + reconstruction_metrics['Earthmoving 95%'].astype(str) + ')'\n",
    "reconstruction_metrics['Earthmoving (Shuffled) [Formatted]'] = reconstruction_metrics['Earthmoving (Shuffled)'].astype(str) + ' (' + reconstruction_metrics['Earthmoving (Shuffled) 5%'].astype(str) + ', ' + reconstruction_metrics['Earthmoving (Shuffled) 95%'].astype(str) + ')'"
   ]
  },
  {
   "cell_type": "code",
   "execution_count": 14,
   "id": "0ddcccb8",
   "metadata": {},
   "outputs": [],
   "source": [
    "reconstruction_metrics.to_csv('reconstruction_metrics.csv', index = False)"
   ]
  }
 ],
 "metadata": {
  "kernelspec": {
   "display_name": "Python 3 (ipykernel)",
   "language": "python",
   "name": "python3"
  },
  "language_info": {
   "codemirror_mode": {
    "name": "ipython",
    "version": 3
   },
   "file_extension": ".py",
   "mimetype": "text/x-python",
   "name": "python",
   "nbconvert_exporter": "python",
   "pygments_lexer": "ipython3",
   "version": "3.7.12"
  }
 },
 "nbformat": 4,
 "nbformat_minor": 5
}
