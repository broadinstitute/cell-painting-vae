{
 "cells": [
  {
   "cell_type": "markdown",
   "metadata": {},
   "source": [
    "# Train a VAE on Cell Painting LINCS Data"
   ]
  },
  {
   "cell_type": "code",
   "execution_count": 1,
   "metadata": {},
   "outputs": [],
   "source": [
    "import sys\n",
    "import pathlib\n",
    "import numpy as np\n",
    "import pandas as pd\n",
    "sys.path.insert(0, \"../../scripts\")\n",
    "from utils import load_data\n",
    "\n",
    "\n",
    "from pycytominer.cyto_utils import infer_cp_features\n",
    "\n",
    "\n",
    "import matplotlib.pyplot as plt\n",
    "from matplotlib.pyplot import figure\n",
    "\n",
    "from sklearn.decomposition import PCA\n",
    "from tensorflow import keras\n",
    "\n",
    "from vae import VAE\n",
    "\n",
    "from tensorflow.keras.models import Model, Sequential\n",
    "import seaborn\n",
    "import random as python_random\n",
    "import tensorflow as tf\n"
   ]
  },
  {
   "cell_type": "code",
   "execution_count": 2,
   "metadata": {},
   "outputs": [],
   "source": [
    "# %load_ext nb_black"
   ]
  },
  {
   "cell_type": "code",
   "execution_count": 3,
   "metadata": {},
   "outputs": [],
   "source": [
    "# np.random.seed(123)\n",
    "# python_random.seed(123)\n",
    "# tf.random.set_random_seed(1234)"
   ]
  },
  {
   "cell_type": "code",
   "execution_count": 4,
   "metadata": {},
   "outputs": [
    {
     "name": "stderr",
     "output_type": "stream",
     "text": [
      "/home/ubuntu/miniconda3/envs/cell-painting-vae/lib/python3.7/site-packages/IPython/core/interactiveshell.py:3361: DtypeWarning: Columns (18,19) have mixed types.Specify dtype option on import or set low_memory=False.\n",
      "  if (await self.run_code(code, result,  async_=asy)):\n"
     ]
    }
   ],
   "source": [
    "data_splits = [\"train\", \"test\", \"valid\",\"complete\"]\n",
    "data_dict = load_data(data_splits)"
   ]
  },
  {
   "cell_type": "code",
   "execution_count": 5,
   "metadata": {},
   "outputs": [],
   "source": [
    "# Prepare data for training\n",
    "meta_features = infer_cp_features(data_dict[\"train\"], metadata=True)\n",
    "cp_features = infer_cp_features(data_dict[\"train\"])\n",
    "\n",
    "train_features_df = data_dict[\"train\"].reindex(cp_features, axis=\"columns\")\n",
    "train_meta_df = data_dict[\"train\"].reindex(meta_features, axis=\"columns\")\n",
    "\n",
    "test_features_df = data_dict[\"test\"].reindex(cp_features, axis=\"columns\")\n",
    "test_meta_df = data_dict[\"test\"].reindex(meta_features, axis=\"columns\")\n",
    "\n",
    "valid_features_df = data_dict[\"valid\"].reindex(cp_features, axis=\"columns\")\n",
    "Valid_meta_df = data_dict[\"valid\"].reindex(meta_features, axis=\"columns\")\n",
    "\n",
    "\n",
    "complete_features_df = data_dict[\"complete\"].reindex(cp_features, axis=\"columns\")\n",
    "complete_meta_df = data_dict[\"complete\"].reindex(meta_features, axis=\"columns\")\n"
   ]
  },
  {
   "cell_type": "code",
   "execution_count": 6,
   "metadata": {},
   "outputs": [
    {
     "name": "stdout",
     "output_type": "stream",
     "text": [
      "(40242, 685)\n"
     ]
    },
    {
     "data": {
      "text/html": [
       "<div>\n",
       "<style scoped>\n",
       "    .dataframe tbody tr th:only-of-type {\n",
       "        vertical-align: middle;\n",
       "    }\n",
       "\n",
       "    .dataframe tbody tr th {\n",
       "        vertical-align: top;\n",
       "    }\n",
       "\n",
       "    .dataframe thead th {\n",
       "        text-align: right;\n",
       "    }\n",
       "</style>\n",
       "<table border=\"1\" class=\"dataframe\">\n",
       "  <thead>\n",
       "    <tr style=\"text-align: right;\">\n",
       "      <th></th>\n",
       "      <th>Cells_AreaShape_Compactness</th>\n",
       "      <th>Cells_AreaShape_Eccentricity</th>\n",
       "      <th>Cells_AreaShape_Extent</th>\n",
       "      <th>Cells_AreaShape_FormFactor</th>\n",
       "      <th>Cells_AreaShape_MedianRadius</th>\n",
       "      <th>Cells_AreaShape_Orientation</th>\n",
       "      <th>Cells_AreaShape_Solidity</th>\n",
       "      <th>Cells_AreaShape_Zernike_0_0</th>\n",
       "      <th>Cells_AreaShape_Zernike_1_1</th>\n",
       "      <th>Cells_AreaShape_Zernike_2_0</th>\n",
       "      <th>...</th>\n",
       "      <th>Nuclei_Texture_SumEntropy_DNA_5_0</th>\n",
       "      <th>Nuclei_Texture_SumEntropy_Mito_5_0</th>\n",
       "      <th>Nuclei_Texture_SumEntropy_RNA_20_0</th>\n",
       "      <th>Nuclei_Texture_SumEntropy_RNA_5_0</th>\n",
       "      <th>Nuclei_Texture_SumVariance_DNA_20_0</th>\n",
       "      <th>Nuclei_Texture_SumVariance_RNA_20_0</th>\n",
       "      <th>Nuclei_Texture_Variance_DNA_20_0</th>\n",
       "      <th>Nuclei_Texture_Variance_ER_20_0</th>\n",
       "      <th>Nuclei_Texture_Variance_RNA_10_0</th>\n",
       "      <th>Nuclei_Texture_Variance_RNA_20_0</th>\n",
       "    </tr>\n",
       "  </thead>\n",
       "  <tbody>\n",
       "    <tr>\n",
       "      <th>0</th>\n",
       "      <td>0.19790</td>\n",
       "      <td>0.69605</td>\n",
       "      <td>0.40400</td>\n",
       "      <td>0.30834</td>\n",
       "      <td>0.19317</td>\n",
       "      <td>0.71895</td>\n",
       "      <td>0.38837</td>\n",
       "      <td>0.38668</td>\n",
       "      <td>0.62494</td>\n",
       "      <td>0.87362</td>\n",
       "      <td>...</td>\n",
       "      <td>0.61045</td>\n",
       "      <td>0.41907</td>\n",
       "      <td>0.64945</td>\n",
       "      <td>0.65199</td>\n",
       "      <td>0.22660</td>\n",
       "      <td>0.32108</td>\n",
       "      <td>0.29776</td>\n",
       "      <td>0.26173</td>\n",
       "      <td>0.34524</td>\n",
       "      <td>0.32151</td>\n",
       "    </tr>\n",
       "    <tr>\n",
       "      <th>1</th>\n",
       "      <td>0.18605</td>\n",
       "      <td>0.68873</td>\n",
       "      <td>0.41051</td>\n",
       "      <td>0.31982</td>\n",
       "      <td>0.19885</td>\n",
       "      <td>0.72510</td>\n",
       "      <td>0.39552</td>\n",
       "      <td>0.38362</td>\n",
       "      <td>0.65094</td>\n",
       "      <td>0.89679</td>\n",
       "      <td>...</td>\n",
       "      <td>0.61393</td>\n",
       "      <td>0.38269</td>\n",
       "      <td>0.63814</td>\n",
       "      <td>0.68204</td>\n",
       "      <td>0.23700</td>\n",
       "      <td>0.32808</td>\n",
       "      <td>0.27981</td>\n",
       "      <td>0.26893</td>\n",
       "      <td>0.34938</td>\n",
       "      <td>0.33179</td>\n",
       "    </tr>\n",
       "    <tr>\n",
       "      <th>2</th>\n",
       "      <td>0.19083</td>\n",
       "      <td>0.66276</td>\n",
       "      <td>0.38585</td>\n",
       "      <td>0.31437</td>\n",
       "      <td>0.20415</td>\n",
       "      <td>0.71380</td>\n",
       "      <td>0.38701</td>\n",
       "      <td>0.36699</td>\n",
       "      <td>0.60932</td>\n",
       "      <td>0.88492</td>\n",
       "      <td>...</td>\n",
       "      <td>0.60850</td>\n",
       "      <td>0.41850</td>\n",
       "      <td>0.63529</td>\n",
       "      <td>0.65208</td>\n",
       "      <td>0.22852</td>\n",
       "      <td>0.32710</td>\n",
       "      <td>0.29371</td>\n",
       "      <td>0.27159</td>\n",
       "      <td>0.33871</td>\n",
       "      <td>0.31965</td>\n",
       "    </tr>\n",
       "  </tbody>\n",
       "</table>\n",
       "<p>3 rows × 685 columns</p>\n",
       "</div>"
      ],
      "text/plain": [
       "   Cells_AreaShape_Compactness  Cells_AreaShape_Eccentricity  \\\n",
       "0                      0.19790                       0.69605   \n",
       "1                      0.18605                       0.68873   \n",
       "2                      0.19083                       0.66276   \n",
       "\n",
       "   Cells_AreaShape_Extent  Cells_AreaShape_FormFactor  \\\n",
       "0                 0.40400                     0.30834   \n",
       "1                 0.41051                     0.31982   \n",
       "2                 0.38585                     0.31437   \n",
       "\n",
       "   Cells_AreaShape_MedianRadius  Cells_AreaShape_Orientation  \\\n",
       "0                       0.19317                      0.71895   \n",
       "1                       0.19885                      0.72510   \n",
       "2                       0.20415                      0.71380   \n",
       "\n",
       "   Cells_AreaShape_Solidity  Cells_AreaShape_Zernike_0_0  \\\n",
       "0                   0.38837                      0.38668   \n",
       "1                   0.39552                      0.38362   \n",
       "2                   0.38701                      0.36699   \n",
       "\n",
       "   Cells_AreaShape_Zernike_1_1  Cells_AreaShape_Zernike_2_0  ...  \\\n",
       "0                      0.62494                      0.87362  ...   \n",
       "1                      0.65094                      0.89679  ...   \n",
       "2                      0.60932                      0.88492  ...   \n",
       "\n",
       "   Nuclei_Texture_SumEntropy_DNA_5_0  Nuclei_Texture_SumEntropy_Mito_5_0  \\\n",
       "0                            0.61045                             0.41907   \n",
       "1                            0.61393                             0.38269   \n",
       "2                            0.60850                             0.41850   \n",
       "\n",
       "   Nuclei_Texture_SumEntropy_RNA_20_0  Nuclei_Texture_SumEntropy_RNA_5_0  \\\n",
       "0                             0.64945                            0.65199   \n",
       "1                             0.63814                            0.68204   \n",
       "2                             0.63529                            0.65208   \n",
       "\n",
       "   Nuclei_Texture_SumVariance_DNA_20_0  Nuclei_Texture_SumVariance_RNA_20_0  \\\n",
       "0                              0.22660                              0.32108   \n",
       "1                              0.23700                              0.32808   \n",
       "2                              0.22852                              0.32710   \n",
       "\n",
       "   Nuclei_Texture_Variance_DNA_20_0  Nuclei_Texture_Variance_ER_20_0  \\\n",
       "0                           0.29776                          0.26173   \n",
       "1                           0.27981                          0.26893   \n",
       "2                           0.29371                          0.27159   \n",
       "\n",
       "   Nuclei_Texture_Variance_RNA_10_0  Nuclei_Texture_Variance_RNA_20_0  \n",
       "0                           0.34524                           0.32151  \n",
       "1                           0.34938                           0.33179  \n",
       "2                           0.33871                           0.31965  \n",
       "\n",
       "[3 rows x 685 columns]"
      ]
     },
     "execution_count": 6,
     "metadata": {},
     "output_type": "execute_result"
    }
   ],
   "source": [
    "print(train_features_df.shape)\n",
    "train_features_df.head(3)"
   ]
  },
  {
   "cell_type": "code",
   "execution_count": 7,
   "metadata": {
    "scrolled": false
   },
   "outputs": [
    {
     "name": "stdout",
     "output_type": "stream",
     "text": [
      "(5030, 685)\n"
     ]
    },
    {
     "data": {
      "text/html": [
       "<div>\n",
       "<style scoped>\n",
       "    .dataframe tbody tr th:only-of-type {\n",
       "        vertical-align: middle;\n",
       "    }\n",
       "\n",
       "    .dataframe tbody tr th {\n",
       "        vertical-align: top;\n",
       "    }\n",
       "\n",
       "    .dataframe thead th {\n",
       "        text-align: right;\n",
       "    }\n",
       "</style>\n",
       "<table border=\"1\" class=\"dataframe\">\n",
       "  <thead>\n",
       "    <tr style=\"text-align: right;\">\n",
       "      <th></th>\n",
       "      <th>Cells_AreaShape_Compactness</th>\n",
       "      <th>Cells_AreaShape_Eccentricity</th>\n",
       "      <th>Cells_AreaShape_Extent</th>\n",
       "      <th>Cells_AreaShape_FormFactor</th>\n",
       "      <th>Cells_AreaShape_MedianRadius</th>\n",
       "      <th>Cells_AreaShape_Orientation</th>\n",
       "      <th>Cells_AreaShape_Solidity</th>\n",
       "      <th>Cells_AreaShape_Zernike_0_0</th>\n",
       "      <th>Cells_AreaShape_Zernike_1_1</th>\n",
       "      <th>Cells_AreaShape_Zernike_2_0</th>\n",
       "      <th>...</th>\n",
       "      <th>Nuclei_Texture_SumEntropy_DNA_5_0</th>\n",
       "      <th>Nuclei_Texture_SumEntropy_Mito_5_0</th>\n",
       "      <th>Nuclei_Texture_SumEntropy_RNA_20_0</th>\n",
       "      <th>Nuclei_Texture_SumEntropy_RNA_5_0</th>\n",
       "      <th>Nuclei_Texture_SumVariance_DNA_20_0</th>\n",
       "      <th>Nuclei_Texture_SumVariance_RNA_20_0</th>\n",
       "      <th>Nuclei_Texture_Variance_DNA_20_0</th>\n",
       "      <th>Nuclei_Texture_Variance_ER_20_0</th>\n",
       "      <th>Nuclei_Texture_Variance_RNA_10_0</th>\n",
       "      <th>Nuclei_Texture_Variance_RNA_20_0</th>\n",
       "    </tr>\n",
       "  </thead>\n",
       "  <tbody>\n",
       "    <tr>\n",
       "      <th>0</th>\n",
       "      <td>0.19050</td>\n",
       "      <td>0.68937</td>\n",
       "      <td>0.39383</td>\n",
       "      <td>0.33072</td>\n",
       "      <td>0.20185</td>\n",
       "      <td>0.72292</td>\n",
       "      <td>0.38085</td>\n",
       "      <td>0.37504</td>\n",
       "      <td>0.61905</td>\n",
       "      <td>0.88361</td>\n",
       "      <td>...</td>\n",
       "      <td>0.60356</td>\n",
       "      <td>0.39345</td>\n",
       "      <td>0.63470</td>\n",
       "      <td>0.63406</td>\n",
       "      <td>0.23588</td>\n",
       "      <td>0.36061</td>\n",
       "      <td>0.30092</td>\n",
       "      <td>0.23638</td>\n",
       "      <td>0.36015</td>\n",
       "      <td>0.32779</td>\n",
       "    </tr>\n",
       "    <tr>\n",
       "      <th>1</th>\n",
       "      <td>0.18661</td>\n",
       "      <td>0.67731</td>\n",
       "      <td>0.39621</td>\n",
       "      <td>0.32318</td>\n",
       "      <td>0.20716</td>\n",
       "      <td>0.70964</td>\n",
       "      <td>0.39401</td>\n",
       "      <td>0.37779</td>\n",
       "      <td>0.60275</td>\n",
       "      <td>0.88912</td>\n",
       "      <td>...</td>\n",
       "      <td>0.60936</td>\n",
       "      <td>0.40380</td>\n",
       "      <td>0.64406</td>\n",
       "      <td>0.64859</td>\n",
       "      <td>0.22752</td>\n",
       "      <td>0.29811</td>\n",
       "      <td>0.29430</td>\n",
       "      <td>0.25475</td>\n",
       "      <td>0.34154</td>\n",
       "      <td>0.32013</td>\n",
       "    </tr>\n",
       "    <tr>\n",
       "      <th>2</th>\n",
       "      <td>0.18626</td>\n",
       "      <td>0.67036</td>\n",
       "      <td>0.41101</td>\n",
       "      <td>0.31863</td>\n",
       "      <td>0.20182</td>\n",
       "      <td>0.71139</td>\n",
       "      <td>0.40302</td>\n",
       "      <td>0.38979</td>\n",
       "      <td>0.59188</td>\n",
       "      <td>0.86857</td>\n",
       "      <td>...</td>\n",
       "      <td>0.61009</td>\n",
       "      <td>0.40904</td>\n",
       "      <td>0.64250</td>\n",
       "      <td>0.63285</td>\n",
       "      <td>0.23931</td>\n",
       "      <td>0.33179</td>\n",
       "      <td>0.28571</td>\n",
       "      <td>0.24980</td>\n",
       "      <td>0.34516</td>\n",
       "      <td>0.32968</td>\n",
       "    </tr>\n",
       "  </tbody>\n",
       "</table>\n",
       "<p>3 rows × 685 columns</p>\n",
       "</div>"
      ],
      "text/plain": [
       "   Cells_AreaShape_Compactness  Cells_AreaShape_Eccentricity  \\\n",
       "0                      0.19050                       0.68937   \n",
       "1                      0.18661                       0.67731   \n",
       "2                      0.18626                       0.67036   \n",
       "\n",
       "   Cells_AreaShape_Extent  Cells_AreaShape_FormFactor  \\\n",
       "0                 0.39383                     0.33072   \n",
       "1                 0.39621                     0.32318   \n",
       "2                 0.41101                     0.31863   \n",
       "\n",
       "   Cells_AreaShape_MedianRadius  Cells_AreaShape_Orientation  \\\n",
       "0                       0.20185                      0.72292   \n",
       "1                       0.20716                      0.70964   \n",
       "2                       0.20182                      0.71139   \n",
       "\n",
       "   Cells_AreaShape_Solidity  Cells_AreaShape_Zernike_0_0  \\\n",
       "0                   0.38085                      0.37504   \n",
       "1                   0.39401                      0.37779   \n",
       "2                   0.40302                      0.38979   \n",
       "\n",
       "   Cells_AreaShape_Zernike_1_1  Cells_AreaShape_Zernike_2_0  ...  \\\n",
       "0                      0.61905                      0.88361  ...   \n",
       "1                      0.60275                      0.88912  ...   \n",
       "2                      0.59188                      0.86857  ...   \n",
       "\n",
       "   Nuclei_Texture_SumEntropy_DNA_5_0  Nuclei_Texture_SumEntropy_Mito_5_0  \\\n",
       "0                            0.60356                             0.39345   \n",
       "1                            0.60936                             0.40380   \n",
       "2                            0.61009                             0.40904   \n",
       "\n",
       "   Nuclei_Texture_SumEntropy_RNA_20_0  Nuclei_Texture_SumEntropy_RNA_5_0  \\\n",
       "0                             0.63470                            0.63406   \n",
       "1                             0.64406                            0.64859   \n",
       "2                             0.64250                            0.63285   \n",
       "\n",
       "   Nuclei_Texture_SumVariance_DNA_20_0  Nuclei_Texture_SumVariance_RNA_20_0  \\\n",
       "0                              0.23588                              0.36061   \n",
       "1                              0.22752                              0.29811   \n",
       "2                              0.23931                              0.33179   \n",
       "\n",
       "   Nuclei_Texture_Variance_DNA_20_0  Nuclei_Texture_Variance_ER_20_0  \\\n",
       "0                           0.30092                          0.23638   \n",
       "1                           0.29430                          0.25475   \n",
       "2                           0.28571                          0.24980   \n",
       "\n",
       "   Nuclei_Texture_Variance_RNA_10_0  Nuclei_Texture_Variance_RNA_20_0  \n",
       "0                           0.36015                           0.32779  \n",
       "1                           0.34154                           0.32013  \n",
       "2                           0.34516                           0.32968  \n",
       "\n",
       "[3 rows x 685 columns]"
      ]
     },
     "execution_count": 7,
     "metadata": {},
     "output_type": "execute_result"
    }
   ],
   "source": [
    "print(test_features_df.shape)\n",
    "test_features_df.head(3)"
   ]
  },
  {
   "cell_type": "code",
   "execution_count": 8,
   "metadata": {
    "scrolled": false
   },
   "outputs": [
    {
     "name": "stdout",
     "output_type": "stream",
     "text": [
      "(50303, 685)\n"
     ]
    },
    {
     "data": {
      "text/html": [
       "<div>\n",
       "<style scoped>\n",
       "    .dataframe tbody tr th:only-of-type {\n",
       "        vertical-align: middle;\n",
       "    }\n",
       "\n",
       "    .dataframe tbody tr th {\n",
       "        vertical-align: top;\n",
       "    }\n",
       "\n",
       "    .dataframe thead th {\n",
       "        text-align: right;\n",
       "    }\n",
       "</style>\n",
       "<table border=\"1\" class=\"dataframe\">\n",
       "  <thead>\n",
       "    <tr style=\"text-align: right;\">\n",
       "      <th></th>\n",
       "      <th>Cells_AreaShape_Compactness</th>\n",
       "      <th>Cells_AreaShape_Eccentricity</th>\n",
       "      <th>Cells_AreaShape_Extent</th>\n",
       "      <th>Cells_AreaShape_FormFactor</th>\n",
       "      <th>Cells_AreaShape_MedianRadius</th>\n",
       "      <th>Cells_AreaShape_Orientation</th>\n",
       "      <th>Cells_AreaShape_Solidity</th>\n",
       "      <th>Cells_AreaShape_Zernike_0_0</th>\n",
       "      <th>Cells_AreaShape_Zernike_1_1</th>\n",
       "      <th>Cells_AreaShape_Zernike_2_0</th>\n",
       "      <th>...</th>\n",
       "      <th>Nuclei_Texture_SumEntropy_DNA_5_0</th>\n",
       "      <th>Nuclei_Texture_SumEntropy_Mito_5_0</th>\n",
       "      <th>Nuclei_Texture_SumEntropy_RNA_20_0</th>\n",
       "      <th>Nuclei_Texture_SumEntropy_RNA_5_0</th>\n",
       "      <th>Nuclei_Texture_SumVariance_DNA_20_0</th>\n",
       "      <th>Nuclei_Texture_SumVariance_RNA_20_0</th>\n",
       "      <th>Nuclei_Texture_Variance_DNA_20_0</th>\n",
       "      <th>Nuclei_Texture_Variance_ER_20_0</th>\n",
       "      <th>Nuclei_Texture_Variance_RNA_10_0</th>\n",
       "      <th>Nuclei_Texture_Variance_RNA_20_0</th>\n",
       "    </tr>\n",
       "  </thead>\n",
       "  <tbody>\n",
       "    <tr>\n",
       "      <th>0</th>\n",
       "      <td>0.19575</td>\n",
       "      <td>0.67566</td>\n",
       "      <td>0.40288</td>\n",
       "      <td>0.32633</td>\n",
       "      <td>0.20267</td>\n",
       "      <td>0.71477</td>\n",
       "      <td>0.39122</td>\n",
       "      <td>0.38048</td>\n",
       "      <td>0.61184</td>\n",
       "      <td>0.88375</td>\n",
       "      <td>...</td>\n",
       "      <td>0.60865</td>\n",
       "      <td>0.38869</td>\n",
       "      <td>0.65364</td>\n",
       "      <td>0.65716</td>\n",
       "      <td>0.24912</td>\n",
       "      <td>0.33129</td>\n",
       "      <td>0.28864</td>\n",
       "      <td>0.27106</td>\n",
       "      <td>0.35254</td>\n",
       "      <td>0.32675</td>\n",
       "    </tr>\n",
       "    <tr>\n",
       "      <th>1</th>\n",
       "      <td>0.18472</td>\n",
       "      <td>0.66556</td>\n",
       "      <td>0.39721</td>\n",
       "      <td>0.30968</td>\n",
       "      <td>0.20009</td>\n",
       "      <td>0.71345</td>\n",
       "      <td>0.39953</td>\n",
       "      <td>0.37314</td>\n",
       "      <td>0.61074</td>\n",
       "      <td>0.87695</td>\n",
       "      <td>...</td>\n",
       "      <td>0.60682</td>\n",
       "      <td>0.39779</td>\n",
       "      <td>0.64013</td>\n",
       "      <td>0.63120</td>\n",
       "      <td>0.24380</td>\n",
       "      <td>0.30471</td>\n",
       "      <td>0.28554</td>\n",
       "      <td>0.27852</td>\n",
       "      <td>0.35157</td>\n",
       "      <td>0.31637</td>\n",
       "    </tr>\n",
       "    <tr>\n",
       "      <th>2</th>\n",
       "      <td>0.18254</td>\n",
       "      <td>0.69650</td>\n",
       "      <td>0.39596</td>\n",
       "      <td>0.33502</td>\n",
       "      <td>0.20420</td>\n",
       "      <td>0.72770</td>\n",
       "      <td>0.39590</td>\n",
       "      <td>0.37023</td>\n",
       "      <td>0.60264</td>\n",
       "      <td>0.88038</td>\n",
       "      <td>...</td>\n",
       "      <td>0.60665</td>\n",
       "      <td>0.39705</td>\n",
       "      <td>0.66616</td>\n",
       "      <td>0.62889</td>\n",
       "      <td>0.25125</td>\n",
       "      <td>0.33549</td>\n",
       "      <td>0.29656</td>\n",
       "      <td>0.25706</td>\n",
       "      <td>0.33868</td>\n",
       "      <td>0.31901</td>\n",
       "    </tr>\n",
       "  </tbody>\n",
       "</table>\n",
       "<p>3 rows × 685 columns</p>\n",
       "</div>"
      ],
      "text/plain": [
       "   Cells_AreaShape_Compactness  Cells_AreaShape_Eccentricity  \\\n",
       "0                      0.19575                       0.67566   \n",
       "1                      0.18472                       0.66556   \n",
       "2                      0.18254                       0.69650   \n",
       "\n",
       "   Cells_AreaShape_Extent  Cells_AreaShape_FormFactor  \\\n",
       "0                 0.40288                     0.32633   \n",
       "1                 0.39721                     0.30968   \n",
       "2                 0.39596                     0.33502   \n",
       "\n",
       "   Cells_AreaShape_MedianRadius  Cells_AreaShape_Orientation  \\\n",
       "0                       0.20267                      0.71477   \n",
       "1                       0.20009                      0.71345   \n",
       "2                       0.20420                      0.72770   \n",
       "\n",
       "   Cells_AreaShape_Solidity  Cells_AreaShape_Zernike_0_0  \\\n",
       "0                   0.39122                      0.38048   \n",
       "1                   0.39953                      0.37314   \n",
       "2                   0.39590                      0.37023   \n",
       "\n",
       "   Cells_AreaShape_Zernike_1_1  Cells_AreaShape_Zernike_2_0  ...  \\\n",
       "0                      0.61184                      0.88375  ...   \n",
       "1                      0.61074                      0.87695  ...   \n",
       "2                      0.60264                      0.88038  ...   \n",
       "\n",
       "   Nuclei_Texture_SumEntropy_DNA_5_0  Nuclei_Texture_SumEntropy_Mito_5_0  \\\n",
       "0                            0.60865                             0.38869   \n",
       "1                            0.60682                             0.39779   \n",
       "2                            0.60665                             0.39705   \n",
       "\n",
       "   Nuclei_Texture_SumEntropy_RNA_20_0  Nuclei_Texture_SumEntropy_RNA_5_0  \\\n",
       "0                             0.65364                            0.65716   \n",
       "1                             0.64013                            0.63120   \n",
       "2                             0.66616                            0.62889   \n",
       "\n",
       "   Nuclei_Texture_SumVariance_DNA_20_0  Nuclei_Texture_SumVariance_RNA_20_0  \\\n",
       "0                              0.24912                              0.33129   \n",
       "1                              0.24380                              0.30471   \n",
       "2                              0.25125                              0.33549   \n",
       "\n",
       "   Nuclei_Texture_Variance_DNA_20_0  Nuclei_Texture_Variance_ER_20_0  \\\n",
       "0                           0.28864                          0.27106   \n",
       "1                           0.28554                          0.27852   \n",
       "2                           0.29656                          0.25706   \n",
       "\n",
       "   Nuclei_Texture_Variance_RNA_10_0  Nuclei_Texture_Variance_RNA_20_0  \n",
       "0                           0.35254                           0.32675  \n",
       "1                           0.35157                           0.31637  \n",
       "2                           0.33868                           0.31901  \n",
       "\n",
       "[3 rows x 685 columns]"
      ]
     },
     "execution_count": 8,
     "metadata": {},
     "output_type": "execute_result"
    }
   ],
   "source": [
    "print(complete_features_df.shape)\n",
    "complete_features_df.head(3)"
   ]
  },
  {
   "cell_type": "code",
   "execution_count": 9,
   "metadata": {},
   "outputs": [],
   "source": [
    "# VAE of one layer\n",
    "# encoder_architecture = [500,250,100]\n",
    "# decoder_architecture = [100,250,500]\n",
    "encoder_architecture = [250]\n",
    "decoder_architecture = [250]\n",
    "\n",
    "\n",
    "# encoder_architecture = [500,500,250,100]\n",
    "# decoder_architecture = [100,250,500,500]\n",
    "\n"
   ]
  },
  {
   "cell_type": "code",
   "execution_count": 35,
   "metadata": {},
   "outputs": [],
   "source": [
    "# model from optimal hyperparameters for onelayer obtained from 1.optimize\n",
    "# cp_vae = VAE(\n",
    "#     input_dim=train_features_df.shape[1],\n",
    "#     latent_dim=5,\n",
    "#     batch_size=32,\n",
    "#     encoder_batch_norm=True,\n",
    "#     epochs=14,\n",
    "#     learning_rate=0.001,\n",
    "#     encoder_architecture=encoder_architecture,\n",
    "#     decoder_architecture=decoder_architecture,\n",
    "#     beta=1,\n",
    "#     verbose=True,\n",
    "# )\n",
    "# cp_vae = VAE(\n",
    "#     input_dim=train_features_df.shape[1],\n",
    "#     latent_dim=45,\n",
    "#     batch_size=128,\n",
    "#     encoder_batch_norm=False,\n",
    "#     epochs=50,\n",
    "#     learning_rate=0.0001,\n",
    "#     encoder_architecture=encoder_architecture,\n",
    "#     decoder_architecture=decoder_architecture,\n",
    "#     beta=1,\n",
    "#     verbose=True,\n",
    "# )\n",
    "# cp_vae = VAE(\n",
    "#     input_dim=train_features_df.shape[1],\n",
    "#     latent_dim=80,\n",
    "#     batch_size=192,\n",
    "#     encoder_batch_norm=False,\n",
    "#     epochs=300,\n",
    "#     learning_rate=0.001,\n",
    "#     encoder_architecture=encoder_architecture,\n",
    "#     decoder_architecture=decoder_architecture,\n",
    "#     beta=1.0,\n",
    "#     verbose=True,\n",
    "# )\n",
    "# cp_vae = VAE(\n",
    "#     input_dim=train_features_df.shape[1],\n",
    "#     latent_dim=80,\n",
    "#     batch_size=192,\n",
    "#     encoder_batch_norm=False,\n",
    "#     epochs=200,\n",
    "#     learning_rate=0.001,\n",
    "#     encoder_architecture=encoder_architecture,\n",
    "#     decoder_architecture=decoder_architecture,\n",
    "#     beta=1.0,\n",
    "#     verbose=True,\n",
    "# )\n",
    "# cp_vae = VAE(\n",
    "#     input_dim=train_features_df.shape[1],\n",
    "#     latent_dim=5,\n",
    "#     batch_size=320,\n",
    "#     encoder_batch_norm=True,\n",
    "#     epochs=50,\n",
    "#     learning_rate=0.01,\n",
    "#     encoder_architecture=encoder_architecture,\n",
    "#     decoder_architecture=decoder_architecture,\n",
    "#     beta=50,\n",
    "#     verbose=True,\n",
    "# )\n",
    "cp_vae = VAE(\n",
    "    input_dim=train_features_df.shape[1],\n",
    "    latent_dim=25,\n",
    "    batch_size=160,\n",
    "    encoder_batch_norm=True,\n",
    "    epochs=100,\n",
    "    learning_rate=0.001,\n",
    "    encoder_architecture=encoder_architecture,\n",
    "    decoder_architecture=decoder_architecture,\n",
    "    beta=0.05,\n",
    "    verbose=True,\n",
    ")\n",
    "cp_vae.compile_vae()"
   ]
  },
  {
   "cell_type": "code",
   "execution_count": 36,
   "metadata": {
    "scrolled": false
   },
   "outputs": [
    {
     "name": "stdout",
     "output_type": "stream",
     "text": [
      "Epoch 1/100\n",
      "252/252 [==============================] - 3s 7ms/step - loss: 40.7898 - val_loss: 7.5916\n",
      "Epoch 2/100\n",
      "252/252 [==============================] - 2s 6ms/step - loss: 2.8462 - val_loss: 1.8102\n",
      "Epoch 3/100\n",
      "252/252 [==============================] - 2s 6ms/step - loss: 1.4638 - val_loss: 1.1149\n",
      "Epoch 4/100\n",
      "252/252 [==============================] - 2s 6ms/step - loss: 1.0455 - val_loss: 0.9580\n",
      "Epoch 5/100\n",
      "252/252 [==============================] - 2s 6ms/step - loss: 0.9085 - val_loss: 0.8508\n",
      "Epoch 6/100\n",
      "252/252 [==============================] - 2s 6ms/step - loss: 0.8964 - val_loss: 0.8247\n",
      "Epoch 7/100\n",
      "252/252 [==============================] - 2s 6ms/step - loss: 0.8655 - val_loss: 0.8107\n",
      "Epoch 8/100\n",
      "252/252 [==============================] - 2s 6ms/step - loss: 0.8412 - val_loss: 0.7942\n",
      "Epoch 9/100\n",
      "252/252 [==============================] - 2s 7ms/step - loss: 0.8469 - val_loss: 0.7832\n",
      "Epoch 10/100\n",
      "252/252 [==============================] - 2s 6ms/step - loss: 0.8179 - val_loss: 0.7751\n",
      "Epoch 11/100\n",
      "252/252 [==============================] - 2s 6ms/step - loss: 0.8383 - val_loss: 0.7806\n",
      "Epoch 12/100\n",
      "252/252 [==============================] - 2s 6ms/step - loss: 0.8206 - val_loss: 0.7692\n",
      "Epoch 13/100\n",
      "252/252 [==============================] - 2s 6ms/step - loss: 0.8147 - val_loss: 0.7754\n",
      "Epoch 14/100\n",
      "252/252 [==============================] - 2s 6ms/step - loss: 0.8210 - val_loss: 0.7734\n",
      "Epoch 15/100\n",
      "252/252 [==============================] - 2s 6ms/step - loss: 0.8062 - val_loss: 0.7792\n",
      "Epoch 16/100\n",
      "252/252 [==============================] - 2s 6ms/step - loss: 0.8237 - val_loss: 0.7703\n",
      "Epoch 17/100\n",
      "252/252 [==============================] - 2s 6ms/step - loss: 0.8108 - val_loss: 0.7623\n",
      "Epoch 18/100\n",
      "252/252 [==============================] - 2s 6ms/step - loss: 0.8135 - val_loss: 0.7653\n",
      "Epoch 19/100\n",
      "252/252 [==============================] - 2s 6ms/step - loss: 0.8263 - val_loss: 0.7593\n",
      "Epoch 20/100\n",
      "252/252 [==============================] - 2s 6ms/step - loss: 0.8126 - val_loss: 0.7593\n",
      "Epoch 21/100\n",
      "252/252 [==============================] - 2s 6ms/step - loss: 0.8190 - val_loss: 0.7634\n",
      "Epoch 22/100\n",
      "252/252 [==============================] - 2s 6ms/step - loss: 0.7926 - val_loss: 0.7610\n",
      "Epoch 23/100\n",
      "252/252 [==============================] - 2s 6ms/step - loss: 0.8086 - val_loss: 0.7884\n",
      "Epoch 24/100\n",
      "252/252 [==============================] - 2s 6ms/step - loss: 0.8140 - val_loss: 0.7533\n",
      "Epoch 25/100\n",
      "252/252 [==============================] - 2s 6ms/step - loss: 0.8049 - val_loss: 0.8476\n",
      "Epoch 26/100\n",
      "252/252 [==============================] - 2s 6ms/step - loss: 0.8091 - val_loss: 0.7639\n",
      "Epoch 27/100\n",
      "252/252 [==============================] - 2s 6ms/step - loss: 0.8032 - val_loss: 0.7412\n",
      "Epoch 28/100\n",
      "252/252 [==============================] - 2s 6ms/step - loss: 0.7892 - val_loss: 0.7376\n",
      "Epoch 29/100\n",
      "252/252 [==============================] - 2s 6ms/step - loss: 0.7878 - val_loss: 0.7568\n",
      "Epoch 30/100\n",
      "252/252 [==============================] - 2s 6ms/step - loss: 0.7781 - val_loss: 0.7425\n",
      "Epoch 31/100\n",
      "252/252 [==============================] - 2s 6ms/step - loss: 0.7899 - val_loss: 0.7315\n",
      "Epoch 32/100\n",
      "252/252 [==============================] - 2s 6ms/step - loss: 0.7895 - val_loss: 0.7397\n",
      "Epoch 33/100\n",
      "252/252 [==============================] - 2s 6ms/step - loss: 0.7791 - val_loss: 0.7300\n",
      "Epoch 34/100\n",
      "252/252 [==============================] - 2s 6ms/step - loss: 0.7824 - val_loss: 0.7353\n",
      "Epoch 35/100\n",
      "252/252 [==============================] - 2s 6ms/step - loss: 0.7618 - val_loss: 0.7487\n",
      "Epoch 36/100\n",
      "252/252 [==============================] - 2s 6ms/step - loss: 0.7813 - val_loss: 0.7115\n",
      "Epoch 37/100\n",
      "252/252 [==============================] - 2s 6ms/step - loss: 0.7560 - val_loss: 0.7681\n",
      "Epoch 38/100\n",
      "252/252 [==============================] - 2s 6ms/step - loss: 0.7586 - val_loss: 0.7206\n",
      "Epoch 39/100\n",
      "252/252 [==============================] - 2s 6ms/step - loss: 0.7543 - val_loss: 0.6945\n",
      "Epoch 40/100\n",
      "252/252 [==============================] - 2s 6ms/step - loss: 0.7526 - val_loss: 0.7099\n",
      "Epoch 41/100\n",
      "252/252 [==============================] - 2s 6ms/step - loss: 0.7392 - val_loss: 0.7574\n",
      "Epoch 42/100\n",
      "252/252 [==============================] - 2s 6ms/step - loss: 0.7403 - val_loss: 0.7293\n",
      "Epoch 43/100\n",
      "252/252 [==============================] - 2s 6ms/step - loss: 0.7344 - val_loss: 0.6889\n",
      "Epoch 44/100\n",
      "252/252 [==============================] - 2s 6ms/step - loss: 0.7197 - val_loss: 0.7119\n",
      "Epoch 45/100\n",
      "252/252 [==============================] - 2s 6ms/step - loss: 0.7281 - val_loss: 0.6835\n",
      "Epoch 46/100\n",
      "252/252 [==============================] - 2s 6ms/step - loss: 0.7379 - val_loss: 0.6836\n",
      "Epoch 47/100\n",
      "252/252 [==============================] - 2s 6ms/step - loss: 0.7126 - val_loss: 0.7356\n",
      "Epoch 48/100\n",
      "252/252 [==============================] - 2s 6ms/step - loss: 0.7442 - val_loss: 0.6797\n",
      "Epoch 49/100\n",
      "252/252 [==============================] - 2s 6ms/step - loss: 0.7224 - val_loss: 0.6754\n",
      "Epoch 50/100\n",
      "252/252 [==============================] - 2s 6ms/step - loss: 0.7228 - val_loss: 0.6804\n",
      "Epoch 51/100\n",
      "252/252 [==============================] - 2s 6ms/step - loss: 0.6972 - val_loss: 0.6881\n",
      "Epoch 52/100\n",
      "252/252 [==============================] - 2s 6ms/step - loss: 0.7031 - val_loss: 0.6815\n",
      "Epoch 53/100\n",
      "252/252 [==============================] - 2s 6ms/step - loss: 0.6946 - val_loss: 0.6797\n",
      "Epoch 54/100\n",
      "252/252 [==============================] - 2s 6ms/step - loss: 0.7145 - val_loss: 0.6830\n",
      "Epoch 55/100\n",
      "252/252 [==============================] - 2s 6ms/step - loss: 0.7180 - val_loss: 0.7371\n",
      "Epoch 56/100\n",
      "252/252 [==============================] - 2s 6ms/step - loss: 0.6972 - val_loss: 0.6653\n",
      "Epoch 57/100\n",
      "252/252 [==============================] - 2s 6ms/step - loss: 0.6979 - val_loss: 0.7032\n",
      "Epoch 58/100\n",
      "252/252 [==============================] - 2s 6ms/step - loss: 0.7037 - val_loss: 0.6675\n",
      "Epoch 59/100\n",
      "252/252 [==============================] - 2s 6ms/step - loss: 0.7120 - val_loss: 0.6923\n",
      "Epoch 60/100\n",
      "252/252 [==============================] - 2s 6ms/step - loss: 0.7016 - val_loss: 0.6571\n",
      "Epoch 61/100\n",
      "252/252 [==============================] - 2s 6ms/step - loss: 0.7002 - val_loss: 0.6726\n",
      "Epoch 62/100\n",
      "252/252 [==============================] - 2s 6ms/step - loss: 0.7005 - val_loss: 0.6565\n",
      "Epoch 63/100\n",
      "252/252 [==============================] - 2s 6ms/step - loss: 0.6960 - val_loss: 0.6638\n",
      "Epoch 64/100\n",
      "252/252 [==============================] - 2s 6ms/step - loss: 0.6993 - val_loss: 0.6603\n",
      "Epoch 65/100\n",
      "252/252 [==============================] - 2s 6ms/step - loss: 0.6900 - val_loss: 0.6818\n",
      "Epoch 66/100\n",
      "252/252 [==============================] - 2s 6ms/step - loss: 0.6869 - val_loss: 0.6779\n",
      "Epoch 67/100\n",
      "252/252 [==============================] - 2s 6ms/step - loss: 0.6989 - val_loss: 0.6823\n",
      "Epoch 68/100\n",
      "252/252 [==============================] - 2s 6ms/step - loss: 0.6922 - val_loss: 0.6973\n",
      "Epoch 69/100\n",
      "252/252 [==============================] - 2s 6ms/step - loss: 0.6971 - val_loss: 0.6508\n",
      "Epoch 70/100\n",
      "252/252 [==============================] - 2s 6ms/step - loss: 0.6930 - val_loss: 0.6644\n",
      "Epoch 71/100\n",
      "252/252 [==============================] - 2s 6ms/step - loss: 0.6785 - val_loss: 0.6892\n",
      "Epoch 72/100\n",
      "252/252 [==============================] - 2s 6ms/step - loss: 0.6855 - val_loss: 0.6602\n",
      "Epoch 73/100\n",
      "252/252 [==============================] - 2s 6ms/step - loss: 0.6757 - val_loss: 0.6480\n",
      "Epoch 74/100\n",
      "252/252 [==============================] - 2s 6ms/step - loss: 0.6807 - val_loss: 0.6832\n",
      "Epoch 75/100\n",
      "252/252 [==============================] - 2s 6ms/step - loss: 0.6884 - val_loss: 0.6557\n",
      "Epoch 76/100\n",
      "252/252 [==============================] - 2s 6ms/step - loss: 0.6917 - val_loss: 0.6549\n",
      "Epoch 77/100\n",
      "252/252 [==============================] - 2s 6ms/step - loss: 0.6810 - val_loss: 0.6521\n",
      "Epoch 78/100\n",
      "252/252 [==============================] - 2s 6ms/step - loss: 0.6775 - val_loss: 0.6494\n",
      "Epoch 79/100\n",
      "252/252 [==============================] - 2s 6ms/step - loss: 0.7002 - val_loss: 0.6477\n",
      "Epoch 80/100\n",
      "252/252 [==============================] - 2s 6ms/step - loss: 0.6792 - val_loss: 0.6591\n",
      "Epoch 81/100\n"
     ]
    },
    {
     "name": "stdout",
     "output_type": "stream",
     "text": [
      "252/252 [==============================] - 2s 6ms/step - loss: 0.6826 - val_loss: 0.6635\n",
      "Epoch 82/100\n",
      "252/252 [==============================] - 2s 6ms/step - loss: 0.6780 - val_loss: 0.6582\n",
      "Epoch 83/100\n",
      "252/252 [==============================] - 2s 6ms/step - loss: 0.6751 - val_loss: 0.6515\n",
      "Epoch 84/100\n",
      "252/252 [==============================] - 2s 6ms/step - loss: 0.6796 - val_loss: 0.6626\n",
      "Epoch 85/100\n",
      "252/252 [==============================] - 2s 6ms/step - loss: 0.6835 - val_loss: 0.6490\n",
      "Epoch 86/100\n",
      "252/252 [==============================] - 2s 6ms/step - loss: 0.6802 - val_loss: 0.6490\n",
      "Epoch 87/100\n",
      "252/252 [==============================] - 2s 6ms/step - loss: 0.6824 - val_loss: 0.7109\n",
      "Epoch 88/100\n",
      "252/252 [==============================] - 2s 6ms/step - loss: 0.6850 - val_loss: 0.6616\n",
      "Epoch 89/100\n",
      "252/252 [==============================] - 2s 6ms/step - loss: 0.6684 - val_loss: 0.6396\n",
      "Epoch 90/100\n",
      "252/252 [==============================] - 2s 6ms/step - loss: 0.6788 - val_loss: 0.6543\n",
      "Epoch 91/100\n",
      "252/252 [==============================] - 2s 6ms/step - loss: 0.6848 - val_loss: 0.6405\n",
      "Epoch 92/100\n",
      "252/252 [==============================] - 2s 6ms/step - loss: 0.6700 - val_loss: 0.6972\n",
      "Epoch 93/100\n",
      "252/252 [==============================] - 2s 6ms/step - loss: 0.6761 - val_loss: 0.6394\n",
      "Epoch 94/100\n",
      "252/252 [==============================] - 2s 6ms/step - loss: 0.6869 - val_loss: 0.6398\n",
      "Epoch 95/100\n",
      "252/252 [==============================] - 2s 6ms/step - loss: 0.6696 - val_loss: 0.6631\n",
      "Epoch 96/100\n",
      "252/252 [==============================] - 2s 6ms/step - loss: 0.6792 - val_loss: 0.6519\n",
      "Epoch 97/100\n",
      "252/252 [==============================] - 2s 6ms/step - loss: 0.6867 - val_loss: 0.6969\n",
      "Epoch 98/100\n",
      "252/252 [==============================] - 2s 6ms/step - loss: 0.6864 - val_loss: 0.6424\n",
      "Epoch 99/100\n",
      "252/252 [==============================] - 2s 6ms/step - loss: 0.6664 - val_loss: 0.6404\n",
      "Epoch 100/100\n",
      "252/252 [==============================] - 2s 6ms/step - loss: 0.6676 - val_loss: 0.6394\n"
     ]
    }
   ],
   "source": [
    "cp_vae.train(x_train=train_features_df, x_test=valid_features_df)"
   ]
  },
  {
   "cell_type": "code",
   "execution_count": 37,
   "metadata": {},
   "outputs": [
    {
     "data": {
      "text/plain": [
       "<tensorflow.python.keras.engine.functional.Functional at 0x7f8eb41d1b10>"
      ]
     },
     "execution_count": 37,
     "metadata": {},
     "output_type": "execute_result"
    }
   ],
   "source": [
    "cp_vae.vae"
   ]
  },
  {
   "cell_type": "code",
   "execution_count": 38,
   "metadata": {},
   "outputs": [
    {
     "data": {
      "text/html": [
       "<div>\n",
       "<style scoped>\n",
       "    .dataframe tbody tr th:only-of-type {\n",
       "        vertical-align: middle;\n",
       "    }\n",
       "\n",
       "    .dataframe tbody tr th {\n",
       "        vertical-align: top;\n",
       "    }\n",
       "\n",
       "    .dataframe thead th {\n",
       "        text-align: right;\n",
       "    }\n",
       "</style>\n",
       "<table border=\"1\" class=\"dataframe\">\n",
       "  <thead>\n",
       "    <tr style=\"text-align: right;\">\n",
       "      <th></th>\n",
       "      <th>loss</th>\n",
       "      <th>val_loss</th>\n",
       "    </tr>\n",
       "  </thead>\n",
       "  <tbody>\n",
       "    <tr>\n",
       "      <th>0</th>\n",
       "      <td>14.367666</td>\n",
       "      <td>7.591573</td>\n",
       "    </tr>\n",
       "    <tr>\n",
       "      <th>1</th>\n",
       "      <td>2.405485</td>\n",
       "      <td>1.810245</td>\n",
       "    </tr>\n",
       "    <tr>\n",
       "      <th>2</th>\n",
       "      <td>1.322589</td>\n",
       "      <td>1.114856</td>\n",
       "    </tr>\n",
       "    <tr>\n",
       "      <th>3</th>\n",
       "      <td>1.011588</td>\n",
       "      <td>0.957970</td>\n",
       "    </tr>\n",
       "    <tr>\n",
       "      <th>4</th>\n",
       "      <td>0.910566</td>\n",
       "      <td>0.850794</td>\n",
       "    </tr>\n",
       "    <tr>\n",
       "      <th>...</th>\n",
       "      <td>...</td>\n",
       "      <td>...</td>\n",
       "    </tr>\n",
       "    <tr>\n",
       "      <th>95</th>\n",
       "      <td>0.677304</td>\n",
       "      <td>0.651933</td>\n",
       "    </tr>\n",
       "    <tr>\n",
       "      <th>96</th>\n",
       "      <td>0.677290</td>\n",
       "      <td>0.696907</td>\n",
       "    </tr>\n",
       "    <tr>\n",
       "      <th>97</th>\n",
       "      <td>0.677350</td>\n",
       "      <td>0.642426</td>\n",
       "    </tr>\n",
       "    <tr>\n",
       "      <th>98</th>\n",
       "      <td>0.677860</td>\n",
       "      <td>0.640382</td>\n",
       "    </tr>\n",
       "    <tr>\n",
       "      <th>99</th>\n",
       "      <td>0.675323</td>\n",
       "      <td>0.639443</td>\n",
       "    </tr>\n",
       "  </tbody>\n",
       "</table>\n",
       "<p>100 rows × 2 columns</p>\n",
       "</div>"
      ],
      "text/plain": [
       "         loss  val_loss\n",
       "0   14.367666  7.591573\n",
       "1    2.405485  1.810245\n",
       "2    1.322589  1.114856\n",
       "3    1.011588  0.957970\n",
       "4    0.910566  0.850794\n",
       "..        ...       ...\n",
       "95   0.677304  0.651933\n",
       "96   0.677290  0.696907\n",
       "97   0.677350  0.642426\n",
       "98   0.677860  0.640382\n",
       "99   0.675323  0.639443\n",
       "\n",
       "[100 rows x 2 columns]"
      ]
     },
     "execution_count": 38,
     "metadata": {},
     "output_type": "execute_result"
    }
   ],
   "source": [
    "# Save training performance\n",
    "history_df = pd.DataFrame(cp_vae.vae.history.history)\n",
    "history_df"
   ]
  },
  {
   "cell_type": "code",
   "execution_count": 39,
   "metadata": {},
   "outputs": [],
   "source": [
    "history_df.to_csv('level4_training.csv')"
   ]
  },
  {
   "cell_type": "code",
   "execution_count": 40,
   "metadata": {},
   "outputs": [],
   "source": [
    "history_df = pd.read_csv('level4_training.csv')"
   ]
  },
  {
   "cell_type": "code",
   "execution_count": 41,
   "metadata": {
    "scrolled": false
   },
   "outputs": [
    {
     "data": {
      "image/png": "[encoded data removed]",
      "text/plain": [
       "<Figure size 720x360 with 1 Axes>"
      ]
     },
     "metadata": {
      "needs_background": "light"
     },
     "output_type": "display_data"
    }
   ],
   "source": [
    "plt.figure(figsize=(10, 5))\n",
    "plt.plot(history_df[\"loss\"], label=\"Training data\")\n",
    "plt.plot(history_df[\"val_loss\"], label=\"Validation data\")\n",
    "plt.title(\"Loss for VAE training on Cell Painting Level 4 data\")\n",
    "plt.ylabel(\"MSE + KL Divergence\")\n",
    "plt.xlabel(\"No. Epoch\")\n",
    "plt.legend()\n",
    "plt.show()"
   ]
  },
  {
   "cell_type": "code",
   "execution_count": 42,
   "metadata": {},
   "outputs": [
    {
     "name": "stdout",
     "output_type": "stream",
     "text": [
      "158/158 [==============================] - 0s 1ms/step - loss: 0.6456\n"
     ]
    },
    {
     "data": {
      "text/plain": [
       "0.6456254124641418"
      ]
     },
     "execution_count": 42,
     "metadata": {},
     "output_type": "execute_result"
    }
   ],
   "source": [
    "cp_vae.vae.evaluate(test_features_df)"
   ]
  },
  {
   "cell_type": "code",
   "execution_count": 43,
   "metadata": {},
   "outputs": [
    {
     "data": {
      "text/plain": [
       "53.46813041348983"
      ]
     },
     "execution_count": 43,
     "metadata": {},
     "output_type": "execute_result"
    }
   ],
   "source": [
    "reconstruction = pd.DataFrame(cp_vae.vae.predict(test_features_df), columns=cp_features)\n",
    "(sum(sum((np.array(test_features_df) - np.array(reconstruction)) ** 2))) ** 0.5"
   ]
  },
  {
   "cell_type": "code",
   "execution_count": 44,
   "metadata": {
    "scrolled": true
   },
   "outputs": [
    {
     "data": {
      "text/plain": [
       "<AxesSubplot:>"
      ]
     },
     "execution_count": 44,
     "metadata": {},
     "output_type": "execute_result"
    },
    {
     "data": {
      "image/png": "[encoded data removed]",
      "text/plain": [
       "<Figure size 720x720 with 2 Axes>"
      ]
     },
     "metadata": {
      "needs_background": "light"
     },
     "output_type": "display_data"
    }
   ],
   "source": [
    "#latent space heatmap\n",
    "fig, ax = plt.subplots(figsize=(10, 10))\n",
    "encoder = cp_vae.encoder_block[\"encoder\"]\n",
    "latent = np.array(encoder.predict(test_features_df)[2])\n",
    "seaborn.heatmap(latent, ax=ax)"
   ]
  },
  {
   "cell_type": "code",
   "execution_count": 45,
   "metadata": {},
   "outputs": [],
   "source": [
    "#original vs reconstructed heatmap\n",
    "#use these 3 lines if you need to regenerate it\n",
    "# encoder = keras.models.load_model(\"level4Encoder\")\n",
    "# decoder = keras.models.load_model(\"level4Decoder\")\n",
    "# reconstruction = pd.DataFrame(decoder.predict(encoder.predict(test_features_df)[2]), columns=cp_features)\n",
    "\n",
    "reconstruction = pd.DataFrame(cp_vae.vae.predict(test_features_df), columns=cp_features)\n",
    "pca = PCA(n_components=2).fit(test_features_df)\n",
    "pca_reconstructed_latent_df = pd.DataFrame(pca.transform(reconstruction))\n",
    "pca_test_latent_df = pd.DataFrame(pca.transform(test_features_df))\n",
    "# fig, (ax1, ax2) = plt.subplots(1, 2, figsize=(15, 10))\n",
    "# seaborn.heatmap(test_features_df, ax=ax1)\n",
    "# seaborn.heatmap(reconstruction, ax=ax2)\n",
    "# plt.show()"
   ]
  },
  {
   "cell_type": "code",
   "execution_count": 46,
   "metadata": {},
   "outputs": [
    {
     "data": {
      "text/plain": [
       "<matplotlib.collections.PathCollection at 0x7f8eb41fe4d0>"
      ]
     },
     "execution_count": 46,
     "metadata": {},
     "output_type": "execute_result"
    },
    {
     "data": {
      "image/png": "[encoded data removed]",
      "text/plain": [
       "<Figure size 800x800 with 1 Axes>"
      ]
     },
     "metadata": {
      "needs_background": "light"
     },
     "output_type": "display_data"
    }
   ],
   "source": [
    "figure(figsize=(10, 10), dpi=80)\n",
    "plt.scatter(pca_test_latent_df[0],pca_test_latent_df[1], marker = \".\", alpha = 0.5)\n",
    "plt.scatter(pca_reconstructed_latent_df[0],pca_reconstructed_latent_df[1], marker = \".\", alpha = 0.5)"
   ]
  },
  {
   "cell_type": "code",
   "execution_count": 47,
   "metadata": {},
   "outputs": [],
   "source": [
    "# #difference between original and reconstructed heatmap\n",
    "# difference = abs(reconstruction - test_features_df)\n",
    "# fig, ax = plt.subplots(figsize=(10, 10))\n",
    "# seaborn.heatmap(difference, ax=ax, cmap=\"Blues\")"
   ]
  },
  {
   "cell_type": "code",
   "execution_count": 48,
   "metadata": {
    "scrolled": false
   },
   "outputs": [],
   "source": [
    "# #encoder heatmap\n",
    "# weights = cp_vae.encoder_block[\"encoder\"].get_weights()\n",
    "# fig, ax = plt.subplots(figsize=(10, 10))\n",
    "# seaborn.heatmap(weights[0], ax=ax)"
   ]
  },
  {
   "cell_type": "code",
   "execution_count": 49,
   "metadata": {
    "scrolled": false
   },
   "outputs": [],
   "source": [
    "# latent_dims = np.arange(1,51)\n",
    "# reconstructions = []\n",
    "\n",
    "# for latent_dim in latent_dims:\n",
    "#     cp_vae2 = VAE(\n",
    "#         input_dim=train_features_df.shape[1],\n",
    "#         latent_dim=latent_dim,\n",
    "#         batch_size=32,\n",
    "#         encoder_batch_norm=True,\n",
    "#         epochs=14,\n",
    "#         learning_rate=0.01,\n",
    "#         encoder_architecture=encoder_architecture,\n",
    "#         decoder_architecture=decoder_architecture,\n",
    "#         beta=1,\n",
    "#         verbose=True,\n",
    "#     )\n",
    "#     cp_vae2.compile_vae()\n",
    "#     cp_vae2.train(x_train=train_features_df, x_test=test_features_df)\n",
    "#     reconstruction = pd.DataFrame(cp_vae2.vae.predict(test_features_df), columns=cp_features)\n",
    "#     reconstructions.append(reconstruction)\n"
   ]
  },
  {
   "cell_type": "code",
   "execution_count": 50,
   "metadata": {},
   "outputs": [],
   "source": [
    "# frobenius_norms = []\n",
    "# for reconstruction in reconstructions:\n",
    "#     frobenius_norms.append(\n",
    "#         (sum(sum((np.array(test_features_df) - np.array(reconstruction)) ** 2))) ** 0.5\n",
    "#     )"
   ]
  },
  {
   "cell_type": "code",
   "execution_count": 51,
   "metadata": {},
   "outputs": [],
   "source": [
    "# plt.plot(frobenius_norms)\n",
    "# plt.xlabel(\"latent_dim\")\n",
    "# plt.ylabel(\"Frobenius Norm\")\n",
    "# plt.title(\"Cell Painting VAE\")\n",
    "# plt.show()"
   ]
  },
  {
   "cell_type": "code",
   "execution_count": 52,
   "metadata": {},
   "outputs": [],
   "source": [
    "decoder = cp_vae.decoder_block[\"decoder\"]"
   ]
  },
  {
   "cell_type": "code",
   "execution_count": 53,
   "metadata": {},
   "outputs": [
    {
     "data": {
      "text/plain": [
       "<matplotlib.collections.PathCollection at 0x7f8e985048d0>"
      ]
     },
     "execution_count": 53,
     "metadata": {},
     "output_type": "execute_result"
    },
    {
     "data": {
      "image/png": "[encoded data removed]",
      "text/plain": [
       "<Figure size 1152x576 with 2 Axes>"
      ]
     },
     "metadata": {
      "needs_background": "light"
     },
     "output_type": "display_data"
    }
   ],
   "source": [
    "simulated_df = pd.DataFrame(np.random.normal(size=(5000, 25)), columns=np.arange(0,25))\n",
    "reconstruction_of_simulated = decoder.predict(simulated_df)\n",
    "pca_reconstruction_of_simulated = pd.DataFrame(pca.transform(reconstruction_of_simulated))\n",
    "fig, (ax1,ax2) = plt.subplots(1, 2, figsize=(16,8), sharey = True, sharex = True)\n",
    "ax1.scatter(pca_test_latent_df[0],pca_test_latent_df[1], marker = \".\", alpha = 0.5)\n",
    "ax2.scatter(pca_reconstruction_of_simulated[0],pca_reconstruction_of_simulated[1], marker = \".\", alpha = 0.5)"
   ]
  },
  {
   "cell_type": "code",
   "execution_count": 54,
   "metadata": {},
   "outputs": [],
   "source": [
    "#NOTE: IF YOU RUN THIS, YOU WILL NOT BE ABLE TO REPRODUCE THE EXACT RESULTS IN THE EXPERIMENT\n",
    "latent_complete = np.array(encoder.predict(complete_features_df)[2])\n",
    "latent_df = pd.DataFrame(latent_complete)\n",
    "latent_df.to_csv(\"../3.application/level4Latent.csv\")"
   ]
  },
  {
   "cell_type": "code",
   "execution_count": 55,
   "metadata": {
    "scrolled": true
   },
   "outputs": [
    {
     "name": "stdout",
     "output_type": "stream",
     "text": [
      "INFO:tensorflow:Assets written to: level4Decoder/assets\n"
     ]
    }
   ],
   "source": [
    "#NOTE: IF YOU RUN THIS, YOU WILL NOT BE ABLE TO REPRODUCE THE EXACT RESULTS IN THE EXPERIMENT\n",
    "decoder.save(\"level4Decoder\")"
   ]
  },
  {
   "cell_type": "code",
   "execution_count": 56,
   "metadata": {},
   "outputs": [
    {
     "name": "stdout",
     "output_type": "stream",
     "text": [
      "INFO:tensorflow:Assets written to: level4Encoder/assets\n"
     ]
    }
   ],
   "source": [
    "encoder.save(\"level4Encoder\")"
   ]
  }
 ],
 "metadata": {
  "kernelspec": {
   "display_name": "Python 3",
   "language": "python",
   "name": "python3"
  },
  "language_info": {
   "codemirror_mode": {
    "name": "ipython",
    "version": 3
   },
   "file_extension": ".py",
   "mimetype": "text/x-python",
   "name": "python",
   "nbconvert_exporter": "python",
   "pygments_lexer": "ipython3",
   "version": "3.7.10"
  }
 },
 "nbformat": 4,
 "nbformat_minor": 4
}
