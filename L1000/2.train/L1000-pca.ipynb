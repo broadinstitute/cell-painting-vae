{
 "cells": [
  {
   "cell_type": "markdown",
   "metadata": {},
   "source": [
    "# Train a VAE on Cell Painting LINCS Data"
   ]
  },
  {
   "cell_type": "code",
   "execution_count": 4,
   "metadata": {},
   "outputs": [],
   "source": [
    "import sys\n",
    "import pathlib\n",
    "import numpy as np\n",
    "import pandas as pd\n",
    "\n",
    "from tensorflow import keras\n",
    "\n",
    "sys.path.insert(0, \"../../scripts\")\n",
    "from utils import load_data, infer_L1000_features\n",
    "from vae import VAE\n",
    "import matplotlib.pyplot as plt\n",
    "\n",
    "from sklearn.decomposition import PCA\n"
   ]
  },
  {
   "cell_type": "code",
   "execution_count": 5,
   "metadata": {},
   "outputs": [],
   "source": [
    "# %load_ext nb_black"
   ]
  },
  {
   "cell_type": "code",
   "execution_count": 6,
   "metadata": {},
   "outputs": [],
   "source": [
    "# np.random.seed(123)\n",
    "# python_random.seed(123)\n",
    "# tf.random.set_random_seed(1234)"
   ]
  },
  {
   "cell_type": "code",
   "execution_count": 7,
   "metadata": {},
   "outputs": [],
   "source": [
    "# data_splits = [\"train\", \"valid\", \"test\", \"complete\"]\n",
    "data_splits = [\"test\"]\n",
    "data_dict = load_data(data_splits, dataset=\"L1000\")"
   ]
  },
  {
   "cell_type": "code",
   "execution_count": 8,
   "metadata": {},
   "outputs": [],
   "source": [
    "# Prepare data for training\n",
    "\n",
    "meta_features = infer_L1000_features(data_dict[\"test\"], metadata=True)\n",
    "profile_features = infer_L1000_features(data_dict[\"test\"])\n",
    "\n",
    "# train_features_df = data_dict[\"train\"].reindex(profile_features, axis=\"columns\")\n",
    "# train_meta_df = data_dict[\"train\"].reindex(meta_features, axis=\"columns\")\n",
    "\n",
    "# valid_features_df = data_dict[\"valid\"].reindex(profile_features, axis=\"columns\")\n",
    "# valid_meta_df = data_dict[\"valid\"].reindex(meta_features, axis=\"columns\")\n",
    "\n",
    "test_features_df = data_dict[\"test\"].reindex(profile_features, axis=\"columns\")\n",
    "test_meta_df = data_dict[\"test\"].reindex(meta_features, axis=\"columns\")\n",
    "\n",
    "# complete_features_df = data_dict[\"complete\"].reindex(profile_features, axis=\"columns\")\n",
    "# complete_meta_df = data_dict[\"complete\"].reindex(meta_features, axis=\"columns\")"
   ]
  },
  {
   "cell_type": "code",
   "execution_count": 9,
   "metadata": {},
   "outputs": [],
   "source": [
    "components = np.arange(1, 51)\n",
    "reconstructions = []\n",
    "for component in components:\n",
    "    pca = PCA(n_components=component)\n",
    "    principalComponents = pca.fit_transform(test_features_df)\n",
    "    reconstruction = pca.inverse_transform(principalComponents)\n",
    "    reconstructions.append(reconstruction)\n"
   ]
  },
  {
   "cell_type": "code",
   "execution_count": 10,
   "metadata": {},
   "outputs": [],
   "source": [
    "frobenius_norms = []\n",
    "test_features = np.array(test_features_df)\n",
    "for reconstruction in reconstructions:\n",
    "    frobenius_norms.append(\n",
    "        (sum(sum((test_features - reconstruction) ** 2))) ** 0.5\n",
    "    )"
   ]
  },
  {
   "cell_type": "code",
   "execution_count": 11,
   "metadata": {},
   "outputs": [
    {
     "data": {
      "text/plain": [
       "Text(0.5, 1.0, 'L1000 pca')"
      ]
     },
     "execution_count": 11,
     "metadata": {},
     "output_type": "execute_result"
    },
    {
     "data": {
      "image/png": "[encoded data removed]",
      "text/plain": [
       "<Figure size 432x288 with 1 Axes>"
      ]
     },
     "metadata": {
      "needs_background": "light"
     },
     "output_type": "display_data"
    }
   ],
   "source": [
    "plt.plot(frobenius_norms)\n",
    "plt.title('L1000 pca')"
   ]
  },
  {
   "cell_type": "code",
   "execution_count": null,
   "metadata": {},
   "outputs": [],
   "source": []
  }
 ],
 "metadata": {
  "kernelspec": {
   "display_name": "Python 3",
   "language": "python",
   "name": "python3"
  },
  "language_info": {
   "codemirror_mode": {
    "name": "ipython",
    "version": 3
   },
   "file_extension": ".py",
   "mimetype": "text/x-python",
   "name": "python",
   "nbconvert_exporter": "python",
   "pygments_lexer": "ipython3",
   "version": "3.7.10"
  }
 },
 "nbformat": 4,
 "nbformat_minor": 4
}
