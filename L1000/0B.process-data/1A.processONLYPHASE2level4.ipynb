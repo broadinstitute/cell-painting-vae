{
 "cells": [
  {
   "cell_type": "code",
   "execution_count": 26,
   "metadata": {},
   "outputs": [],
   "source": [
    "import pandas as pd\n",
    "import cmapPy.pandasGEXpress.parse as parse\n",
    "import numpy as np\n",
    "import matplotlib.pyplot as plt"
   ]
  },
  {
   "cell_type": "code",
   "execution_count": 27,
   "metadata": {},
   "outputs": [],
   "source": [
    "input_dir = '../0A.download-data/data/'\n",
    "output_dir = 'data/'"
   ]
  },
  {
   "cell_type": "code",
   "execution_count": 28,
   "metadata": {},
   "outputs": [],
   "source": [
    "phase2_gctoo = parse.parse(input_dir + 'GSE70138_Broad_LINCS_Level4_ZSPCINF_mlr12k_n345976x12328_2017-03-06.gctx')"
   ]
  },
  {
   "cell_type": "code",
   "execution_count": 29,
   "metadata": {},
   "outputs": [],
   "source": [
    "phase2_data_df = phase2_gctoo.data_df.transpose()"
   ]
  },
  {
   "cell_type": "code",
   "execution_count": 30,
   "metadata": {},
   "outputs": [],
   "source": [
    "gene_info = pd.read_csv(input_dir + 'GSE92742_Broad_LINCS_gene_info.txt.gz', sep = \"\\t\")\n",
    "landmark_genes = np.char.mod('%d',gene_info[gene_info.pr_is_lm == 1].pr_gene_id)"
   ]
  },
  {
   "cell_type": "code",
   "execution_count": 31,
   "metadata": {},
   "outputs": [],
   "source": [
    "#slicing the dataframe to only include landmark genes\n",
    "phase2_data_df = phase2_data_df.loc[:,phase2_data_df.columns.isin(landmark_genes)]"
   ]
  },
  {
   "cell_type": "code",
   "execution_count": 32,
   "metadata": {
    "scrolled": false
   },
   "outputs": [
    {
     "data": {
      "text/html": [
       "<div>\n",
       "<style scoped>\n",
       "    .dataframe tbody tr th:only-of-type {\n",
       "        vertical-align: middle;\n",
       "    }\n",
       "\n",
       "    .dataframe tbody tr th {\n",
       "        vertical-align: top;\n",
       "    }\n",
       "\n",
       "    .dataframe thead th {\n",
       "        text-align: right;\n",
       "    }\n",
       "</style>\n",
       "<table border=\"1\" class=\"dataframe\">\n",
       "  <thead>\n",
       "    <tr style=\"text-align: right;\">\n",
       "      <th></th>\n",
       "      <th>cid</th>\n",
       "      <th>cell_id</th>\n",
       "      <th>pert_id</th>\n",
       "      <th>780</th>\n",
       "      <th>7849</th>\n",
       "      <th>6193</th>\n",
       "      <th>23</th>\n",
       "      <th>9552</th>\n",
       "      <th>387</th>\n",
       "      <th>10921</th>\n",
       "      <th>...</th>\n",
       "      <th>54681</th>\n",
       "      <th>11000</th>\n",
       "      <th>6915</th>\n",
       "      <th>6253</th>\n",
       "      <th>7264</th>\n",
       "      <th>5467</th>\n",
       "      <th>2767</th>\n",
       "      <th>23038</th>\n",
       "      <th>57048</th>\n",
       "      <th>79716</th>\n",
       "    </tr>\n",
       "  </thead>\n",
       "  <tbody>\n",
       "    <tr>\n",
       "      <th>0</th>\n",
       "      <td>REP.A001_A375_24H_X1_B22:A03</td>\n",
       "      <td>A375</td>\n",
       "      <td>DMSO</td>\n",
       "      <td>14.8204</td>\n",
       "      <td>0.0000</td>\n",
       "      <td>-3.5241</td>\n",
       "      <td>-0.3428</td>\n",
       "      <td>-0.7251</td>\n",
       "      <td>1.9822</td>\n",
       "      <td>0.0000</td>\n",
       "      <td>...</td>\n",
       "      <td>1.0894</td>\n",
       "      <td>0.5645</td>\n",
       "      <td>-1.8231</td>\n",
       "      <td>0.3870</td>\n",
       "      <td>0.3750</td>\n",
       "      <td>-1.6591</td>\n",
       "      <td>1.0853</td>\n",
       "      <td>-0.6720</td>\n",
       "      <td>4.2066</td>\n",
       "      <td>-0.8088</td>\n",
       "    </tr>\n",
       "    <tr>\n",
       "      <th>1</th>\n",
       "      <td>REP.A001_A375_24H_X1_B22:A04</td>\n",
       "      <td>A375</td>\n",
       "      <td>DMSO</td>\n",
       "      <td>-0.5200</td>\n",
       "      <td>4.3134</td>\n",
       "      <td>-0.1895</td>\n",
       "      <td>-0.8369</td>\n",
       "      <td>0.2381</td>\n",
       "      <td>0.5766</td>\n",
       "      <td>0.0000</td>\n",
       "      <td>...</td>\n",
       "      <td>-0.3895</td>\n",
       "      <td>-0.9399</td>\n",
       "      <td>-2.0347</td>\n",
       "      <td>-0.0523</td>\n",
       "      <td>0.4840</td>\n",
       "      <td>1.0437</td>\n",
       "      <td>1.5125</td>\n",
       "      <td>0.8923</td>\n",
       "      <td>-0.3861</td>\n",
       "      <td>-0.7052</td>\n",
       "    </tr>\n",
       "    <tr>\n",
       "      <th>2</th>\n",
       "      <td>REP.A001_A375_24H_X1_B22:A05</td>\n",
       "      <td>A375</td>\n",
       "      <td>DMSO</td>\n",
       "      <td>-1.0369</td>\n",
       "      <td>-1.1246</td>\n",
       "      <td>-1.4647</td>\n",
       "      <td>0.4273</td>\n",
       "      <td>0.4431</td>\n",
       "      <td>-1.1235</td>\n",
       "      <td>-12.0546</td>\n",
       "      <td>...</td>\n",
       "      <td>-0.6745</td>\n",
       "      <td>0.7303</td>\n",
       "      <td>0.0000</td>\n",
       "      <td>2.0305</td>\n",
       "      <td>-2.7835</td>\n",
       "      <td>-0.6745</td>\n",
       "      <td>1.0125</td>\n",
       "      <td>-1.5032</td>\n",
       "      <td>0.2059</td>\n",
       "      <td>-0.5938</td>\n",
       "    </tr>\n",
       "    <tr>\n",
       "      <th>3</th>\n",
       "      <td>REP.A001_A375_24H_X1_B22:A06</td>\n",
       "      <td>A375</td>\n",
       "      <td>DMSO</td>\n",
       "      <td>-0.3005</td>\n",
       "      <td>-0.4670</td>\n",
       "      <td>-0.4353</td>\n",
       "      <td>-0.5573</td>\n",
       "      <td>-0.4323</td>\n",
       "      <td>0.3482</td>\n",
       "      <td>1.0573</td>\n",
       "      <td>...</td>\n",
       "      <td>0.1747</td>\n",
       "      <td>-1.2211</td>\n",
       "      <td>-1.4653</td>\n",
       "      <td>0.7859</td>\n",
       "      <td>0.0736</td>\n",
       "      <td>-0.5149</td>\n",
       "      <td>1.2331</td>\n",
       "      <td>-0.9634</td>\n",
       "      <td>-1.3643</td>\n",
       "      <td>-0.6409</td>\n",
       "    </tr>\n",
       "    <tr>\n",
       "      <th>4</th>\n",
       "      <td>REP.A001_A375_24H_X1_B22:A07</td>\n",
       "      <td>A375</td>\n",
       "      <td>BRD-K25114078</td>\n",
       "      <td>0.4163</td>\n",
       "      <td>-0.2225</td>\n",
       "      <td>-0.3267</td>\n",
       "      <td>0.9273</td>\n",
       "      <td>0.0202</td>\n",
       "      <td>-0.8309</td>\n",
       "      <td>0.0000</td>\n",
       "      <td>...</td>\n",
       "      <td>0.4600</td>\n",
       "      <td>-0.8484</td>\n",
       "      <td>-0.2192</td>\n",
       "      <td>-0.6556</td>\n",
       "      <td>-1.9697</td>\n",
       "      <td>-0.0608</td>\n",
       "      <td>3.5454</td>\n",
       "      <td>-7.9314</td>\n",
       "      <td>0.7707</td>\n",
       "      <td>-0.1372</td>\n",
       "    </tr>\n",
       "  </tbody>\n",
       "</table>\n",
       "<p>5 rows × 981 columns</p>\n",
       "</div>"
      ],
      "text/plain": [
       "                            cid cell_id        pert_id      780    7849  \\\n",
       "0  REP.A001_A375_24H_X1_B22:A03    A375           DMSO  14.8204  0.0000   \n",
       "1  REP.A001_A375_24H_X1_B22:A04    A375           DMSO  -0.5200  4.3134   \n",
       "2  REP.A001_A375_24H_X1_B22:A05    A375           DMSO  -1.0369 -1.1246   \n",
       "3  REP.A001_A375_24H_X1_B22:A06    A375           DMSO  -0.3005 -0.4670   \n",
       "4  REP.A001_A375_24H_X1_B22:A07    A375  BRD-K25114078   0.4163 -0.2225   \n",
       "\n",
       "     6193      23    9552     387    10921  ...   54681   11000    6915  \\\n",
       "0 -3.5241 -0.3428 -0.7251  1.9822   0.0000  ...  1.0894  0.5645 -1.8231   \n",
       "1 -0.1895 -0.8369  0.2381  0.5766   0.0000  ... -0.3895 -0.9399 -2.0347   \n",
       "2 -1.4647  0.4273  0.4431 -1.1235 -12.0546  ... -0.6745  0.7303  0.0000   \n",
       "3 -0.4353 -0.5573 -0.4323  0.3482   1.0573  ...  0.1747 -1.2211 -1.4653   \n",
       "4 -0.3267  0.9273  0.0202 -0.8309   0.0000  ...  0.4600 -0.8484 -0.2192   \n",
       "\n",
       "     6253    7264    5467    2767   23038   57048   79716  \n",
       "0  0.3870  0.3750 -1.6591  1.0853 -0.6720  4.2066 -0.8088  \n",
       "1 -0.0523  0.4840  1.0437  1.5125  0.8923 -0.3861 -0.7052  \n",
       "2  2.0305 -2.7835 -0.6745  1.0125 -1.5032  0.2059 -0.5938  \n",
       "3  0.7859  0.0736 -0.5149  1.2331 -0.9634 -1.3643 -0.6409  \n",
       "4 -0.6556 -1.9697 -0.0608  3.5454 -7.9314  0.7707 -0.1372  \n",
       "\n",
       "[5 rows x 981 columns]"
      ]
     },
     "execution_count": 32,
     "metadata": {},
     "output_type": "execute_result"
    }
   ],
   "source": [
    "#add pert_id and cell_id metadata column to phase2_data_df\n",
    "phase2_sig_info = pd.read_csv(input_dir + 'GSE70138_Broad_LINCS_inst_info_2017-03-06.txt.gz', sep = \"\\t\").set_index('inst_id').reindex(index=phase2_data_df.index)\n",
    "phase2_sig_info = phase2_sig_info.loc[:,phase2_sig_info.columns.isin(['pert_id','cell_id'])]\n",
    "phase2_df = pd.concat([phase2_sig_info,phase2_data_df], axis=1).reset_index()\n",
    "phase2_df.head()"
   ]
  },
  {
   "cell_type": "code",
   "execution_count": 33,
   "metadata": {},
   "outputs": [],
   "source": [
    "# np.max(phase2_df['780'])"
   ]
  },
  {
   "cell_type": "code",
   "execution_count": 34,
   "metadata": {},
   "outputs": [],
   "source": [
    "# print(phase2_df.shape)\n",
    "# phase2_df.groupby('cell_id').count().sort_values('cid')"
   ]
  },
  {
   "cell_type": "code",
   "execution_count": null,
   "metadata": {},
   "outputs": [],
   "source": []
  },
  {
   "cell_type": "code",
   "execution_count": 35,
   "metadata": {},
   "outputs": [],
   "source": [
    "#add inchikey metadata column to phase2_data_df\n",
    "# phase2_pert_info = pd.read_csv(input_dir + \"GSE70138_Broad_LINCS_pert_info.txt.gz\", sep = '\\t').set_index('pert_id').reindex(index=phase2_df.pert_id)\n",
    "# phase2_pert_info = phase2_pert_info.loc[:,phase2_pert_info.columns == 'inchi_key']\n",
    "# phase2_pert_info['inchi_key'] = phase2_pert_info.inchi_key.str.split(\"-\").str[0]\n",
    "# phase2_pert_info = phase2_pert_info.rename(columns={\"inchi_key\": \"inchi_key_prefix\"})\n",
    "# phase2_df = phase2_df.set_index(\"pert_id\")\n",
    "# phase2_df = pd.concat([phase2_pert_info, phase2_df], axis=1).reset_index()\n",
    "# phase2_df.head()"
   ]
  },
  {
   "cell_type": "code",
   "execution_count": 36,
   "metadata": {
    "scrolled": true
   },
   "outputs": [],
   "source": [
    "#combine phase1 and phase 2, and add rna_plate metadata feature\n",
    "# combined_df = pd.concat([phase1_df,phase2_df])\n",
    "# phase2_df['cid'] = phase2_df.cid.str.split(\":\").str[0]\n",
    "# phase2_df = phase2_df.rename(columns={\"cid\": \"rna_plate\"})\n",
    "# print(combined_df.shape)\n",
    "# combined_df.head()"
   ]
  },
  {
   "cell_type": "code",
   "execution_count": 37,
   "metadata": {},
   "outputs": [],
   "source": [
    "# cell_painting_df = pd.read_csv('https://github.com/yuenler/cell-painting-vae/raw/master/0.preprocessing/data/cell_painting_complete.tsv.gz', sep = \"\\t\")\n",
    "# cell_painting_pert_id = cell_painting_df.Metadata_broad_sample.to_list()\n",
    "# for i in range(len(cell_painting_pert_id)):\n",
    "#     if cell_painting_pert_id[i][:3] == \"BRD\":\n",
    "#         cell_painting_pert_id[i] = cell_painting_pert_id[i][:13]"
   ]
  },
  {
   "cell_type": "code",
   "execution_count": null,
   "metadata": {},
   "outputs": [],
   "source": []
  },
  {
   "cell_type": "code",
   "execution_count": 38,
   "metadata": {},
   "outputs": [],
   "source": [
    "# # ids = pd.read_csv(\"data/repurposing_samples_20200324.txt\", sep = \"\\t\").loc[:,['broad_id','deprecated_broad_id']].dropna().reset_index(drop = True)\n",
    "# cell_painting_inchi = pd.read_csv(\"https://github.com/broadinstitute/lincs-cell-painting/raw/master/metadata/moa/repurposing_info_external_moa_map_resolved.tsv\", sep = \"\\t\").loc[:,['broad_sample','InChIKey14']].dropna().set_index('broad_sample').reindex(index = cell_painting_df.Metadata_broad_sample)\n",
    "# cell_painting_df = cell_painting_df.set_index(\"Metadata_broad_sample\")\n",
    "# cell_painting_df = pd.concat([cell_painting_inchi, cell_painting_df], axis=1).reset_index()\n",
    "# # temp_ids = pd.DataFrame(columns = ['broad_id','deprecated_broad_id'])\n",
    "\n",
    "# # for index, row in ids.iterrows():\n",
    "# #     split_rows = row.deprecated_broad_id.split(\"|\")\n",
    "# #     for split_row in split_rows:\n",
    "# #         temp_ids = temp_ids.append({'broad_id':row.broad_id, 'deprecated_broad_id':split_row}, ignore_index = True)\n",
    "\n",
    "# # ids = pd.DataFrame(temp_ids)\n",
    "\n",
    "# # ids.broad_id = ids.broad_id.apply(lambda x: str(x)[:13]).to_list()\n",
    "# # ids.deprecated_broad_id = ids.deprecated_broad_id.apply(lambda x: str(x)[:13]).to_list()\n",
    "# # ids = ids.set_index('deprecated_broad_id').to_dict()['broad_id']\n",
    "# # len(ids)\n",
    "# cell_painting_df"
   ]
  },
  {
   "cell_type": "code",
   "execution_count": 39,
   "metadata": {},
   "outputs": [],
   "source": [
    "# combined_df = combined_df.replace({\"pert_id\": ids})"
   ]
  },
  {
   "cell_type": "code",
   "execution_count": 40,
   "metadata": {},
   "outputs": [],
   "source": [
    "# for i in range(len(cell_painting_pert_id)):\n",
    "#     if cell_painting_pert_id[i] in ids.keys():\n",
    "#         cell_painting_pert_id[i] = ids[cell_painting_pert_id[i]]"
   ]
  },
  {
   "cell_type": "code",
   "execution_count": 41,
   "metadata": {
    "scrolled": true
   },
   "outputs": [],
   "source": [
    "# cell_painting_inchi = cell_painting_df.InChIKey14.to_list()\n",
    "# overlapped_df = combined_df[combined_df.inchi_key_prefix.isin(cell_painting_inchi)].reset_index(drop = True)\n",
    "# print(overlapped_df.shape)\n",
    "# overlapped_df.head()\n",
    "# overlapped_df\n",
    "# # overlapped_df = combined_df[combined_df.pert_id.isin(cell_painting_pert_id)].reset_index(drop = True)\n",
    "# # print(overlapped_df.shape)\n",
    "# # overlapped_df.head()\n",
    "# # overlapped_df"
   ]
  },
  {
   "cell_type": "code",
   "execution_count": 42,
   "metadata": {
    "scrolled": true
   },
   "outputs": [],
   "source": [
    "# A549_overlapped_df = overlapped_df[overlapped_df.cell_id == \"A549\"]\n",
    "# print(A549_overlapped_df.shape)\n",
    "# A549_overlapped_df.head()"
   ]
  },
  {
   "cell_type": "code",
   "execution_count": 43,
   "metadata": {},
   "outputs": [],
   "source": [
    "# hi = np.unique(overlapped_df.inchi_key_prefix.to_list())\n",
    "# unique_cell= np.unique(cell_painting_inchi)\n",
    "# count = 0\n",
    "# nah = 0\n",
    "# for i in range(len(unique_cell)):\n",
    "#     if unique_cell[i] in hi:\n",
    "#         count += 1\n",
    "#     else:\n",
    "#         nah += 1\n",
    "# # cell_painting_pert_id\n",
    "# print(count)\n",
    "# print(nah)\n",
    "# len(hi)\n",
    "# len(np.unique(hi))"
   ]
  },
  {
   "cell_type": "code",
   "execution_count": 44,
   "metadata": {},
   "outputs": [],
   "source": [
    "# np.sort(cell_line_grouping.pert_id)"
   ]
  },
  {
   "cell_type": "code",
   "execution_count": 45,
   "metadata": {
    "scrolled": true
   },
   "outputs": [],
   "source": [
    "# # overlap the right one when calculating\n",
    "# highest_perts = cell_line_grouping.pert_id[cell_line_grouping.pert_id > 10000]\n",
    "# highest_perts.plot.bar()"
   ]
  },
  {
   "cell_type": "code",
   "execution_count": 46,
   "metadata": {
    "scrolled": true
   },
   "outputs": [],
   "source": [
    "# highest_inchi = cell_line_grouping.inchi_key_prefix[cell_line_grouping.inchi_key_prefix > 3500]\n",
    "# highest_inchi.plot.bar()"
   ]
  },
  {
   "cell_type": "code",
   "execution_count": 47,
   "metadata": {},
   "outputs": [],
   "source": [
    "# cell_line_grouping_overlap = overlapped_df.groupby('cell_id').nunique()"
   ]
  },
  {
   "cell_type": "code",
   "execution_count": 48,
   "metadata": {},
   "outputs": [],
   "source": [
    "# cell_line_grouping_overlap.inchi_key_prefix"
   ]
  },
  {
   "cell_type": "code",
   "execution_count": 49,
   "metadata": {},
   "outputs": [],
   "source": [
    "# highest_perts_overlap = cell_line_grouping_overlap.pert_id[cell_line_grouping.pert_id > 10000]\n",
    "# highest_perts_overlap.plot.bar()"
   ]
  },
  {
   "cell_type": "code",
   "execution_count": 50,
   "metadata": {},
   "outputs": [],
   "source": [
    "# highest_inchi_overlap = cell_line_grouping_overlap.inchi_key_prefix[cell_line_grouping_overlap.inchi_key_prefix > 700]\n",
    "# highest_inchi_overlap.plot.bar()"
   ]
  },
  {
   "cell_type": "code",
   "execution_count": 51,
   "metadata": {},
   "outputs": [],
   "source": [
    "# A549_overlapped_df.to_csv(output_dir + 'L1000_A549_overlap.tsv.gz', sep = '\\t', index = False)"
   ]
  },
  {
   "cell_type": "code",
   "execution_count": 52,
   "metadata": {},
   "outputs": [],
   "source": [
    "# overlapped_df.to_csv(output_dir + 'L1000_overlap.tsv.gz', sep = '\\t', index = False)"
   ]
  },
  {
   "cell_type": "code",
   "execution_count": 53,
   "metadata": {},
   "outputs": [],
   "source": [
    "phase2_df.to_csv(output_dir + 'L1000_phase2.tsv.gz', sep = '\\t', index = False)"
   ]
  },
  {
   "cell_type": "code",
   "execution_count": null,
   "metadata": {},
   "outputs": [],
   "source": []
  }
 ],
 "metadata": {
  "kernelspec": {
   "display_name": "Python 3",
   "language": "python",
   "name": "python3"
  },
  "language_info": {
   "codemirror_mode": {
    "name": "ipython",
    "version": 3
   },
   "file_extension": ".py",
   "mimetype": "text/x-python",
   "name": "python",
   "nbconvert_exporter": "python",
   "pygments_lexer": "ipython3",
   "version": "3.7.10"
  }
 },
 "nbformat": 4,
 "nbformat_minor": 4
}
