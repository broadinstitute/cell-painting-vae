{
 "cells": [
  {
   "cell_type": "markdown",
   "metadata": {},
   "source": [
    "# Split the L1000 Data into Training/Testing/Validation Sets\n",
    "\n",
    "Split the data 80% training, 10% testing, 10% validation, balanced by platemap."
   ]
  },
  {
   "cell_type": "code",
   "execution_count": 1,
   "metadata": {},
   "outputs": [],
   "source": [
    "import sys\n",
    "import pathlib\n",
    "import numpy as np\n",
    "import pandas as pd\n",
    "\n",
    "from sklearn.model_selection import train_test_split\n",
    "\n",
    "from pycytominer import feature_select\n",
    "from pycytominer.cyto_utils import infer_cp_features\n",
    "\n",
    "sys.path.insert(0, \"../../scripts\")\n",
    "from utils import transform, infer_L1000_features"
   ]
  },
  {
   "cell_type": "code",
   "execution_count": 2,
   "metadata": {},
   "outputs": [],
   "source": [
    "# %load_ext nb_black"
   ]
  },
  {
   "cell_type": "code",
   "execution_count": 3,
   "metadata": {},
   "outputs": [],
   "source": [
    "seed = 9876\n",
    "test_split = 0.2\n",
    "\n",
    "output_dir = pathlib.Path(\"data\")\n",
    "output_dir.mkdir(exist_ok=True)"
   ]
  },
  {
   "cell_type": "code",
   "execution_count": 13,
   "metadata": {
    "scrolled": true
   },
   "outputs": [
    {
     "name": "stdout",
     "output_type": "stream",
     "text": [
      "(27837, 978)\n"
     ]
    },
    {
     "data": {
      "text/html": [
       "<div>\n",
       "<style scoped>\n",
       "    .dataframe tbody tr th:only-of-type {\n",
       "        vertical-align: middle;\n",
       "    }\n",
       "\n",
       "    .dataframe tbody tr th {\n",
       "        vertical-align: top;\n",
       "    }\n",
       "\n",
       "    .dataframe thead th {\n",
       "        text-align: right;\n",
       "    }\n",
       "</style>\n",
       "<table border=\"1\" class=\"dataframe\">\n",
       "  <thead>\n",
       "    <tr style=\"text-align: right;\">\n",
       "      <th></th>\n",
       "      <th>200814_at</th>\n",
       "      <th>222103_at</th>\n",
       "      <th>201453_x_at</th>\n",
       "      <th>204131_s_at</th>\n",
       "      <th>200059_s_at</th>\n",
       "      <th>205067_at</th>\n",
       "      <th>213702_x_at</th>\n",
       "      <th>214435_x_at</th>\n",
       "      <th>201334_s_at</th>\n",
       "      <th>213721_at</th>\n",
       "      <th>...</th>\n",
       "      <th>204662_at</th>\n",
       "      <th>203047_at</th>\n",
       "      <th>203343_at</th>\n",
       "      <th>217995_at</th>\n",
       "      <th>218450_at</th>\n",
       "      <th>212536_at</th>\n",
       "      <th>218529_at</th>\n",
       "      <th>211071_s_at</th>\n",
       "      <th>203341_at</th>\n",
       "      <th>205379_at</th>\n",
       "    </tr>\n",
       "  </thead>\n",
       "  <tbody>\n",
       "    <tr>\n",
       "      <th>0</th>\n",
       "      <td>0.3547</td>\n",
       "      <td>-0.4940</td>\n",
       "      <td>-0.1721</td>\n",
       "      <td>-0.0339</td>\n",
       "      <td>-0.4355</td>\n",
       "      <td>1.8263</td>\n",
       "      <td>-0.1316</td>\n",
       "      <td>0.0853</td>\n",
       "      <td>-0.4660</td>\n",
       "      <td>-0.3113</td>\n",
       "      <td>...</td>\n",
       "      <td>-0.1345</td>\n",
       "      <td>-0.1423</td>\n",
       "      <td>0.1349</td>\n",
       "      <td>0.3684</td>\n",
       "      <td>-3.1025</td>\n",
       "      <td>-0.6226</td>\n",
       "      <td>-3.7452</td>\n",
       "      <td>-1.3157</td>\n",
       "      <td>1.0145</td>\n",
       "      <td>0.1046</td>\n",
       "    </tr>\n",
       "    <tr>\n",
       "      <th>1</th>\n",
       "      <td>-0.2130</td>\n",
       "      <td>0.4931</td>\n",
       "      <td>-0.8768</td>\n",
       "      <td>-0.6968</td>\n",
       "      <td>-1.7018</td>\n",
       "      <td>-0.3779</td>\n",
       "      <td>-0.6745</td>\n",
       "      <td>-1.9799</td>\n",
       "      <td>-1.1429</td>\n",
       "      <td>-1.3309</td>\n",
       "      <td>...</td>\n",
       "      <td>0.5892</td>\n",
       "      <td>3.2737</td>\n",
       "      <td>-15.1256</td>\n",
       "      <td>0.5294</td>\n",
       "      <td>-0.6672</td>\n",
       "      <td>3.7304</td>\n",
       "      <td>0.6153</td>\n",
       "      <td>-1.4900</td>\n",
       "      <td>0.9750</td>\n",
       "      <td>-1.8243</td>\n",
       "    </tr>\n",
       "  </tbody>\n",
       "</table>\n",
       "<p>2 rows × 978 columns</p>\n",
       "</div>"
      ],
      "text/plain": [
       "   200814_at  222103_at  201453_x_at  204131_s_at  200059_s_at  205067_at  \\\n",
       "0     0.3547    -0.4940      -0.1721      -0.0339      -0.4355     1.8263   \n",
       "1    -0.2130     0.4931      -0.8768      -0.6968      -1.7018    -0.3779   \n",
       "\n",
       "   213702_x_at  214435_x_at  201334_s_at  213721_at  ...  204662_at  \\\n",
       "0      -0.1316       0.0853      -0.4660    -0.3113  ...    -0.1345   \n",
       "1      -0.6745      -1.9799      -1.1429    -1.3309  ...     0.5892   \n",
       "\n",
       "   203047_at  203343_at  217995_at  218450_at  212536_at  218529_at  \\\n",
       "0    -0.1423     0.1349     0.3684    -3.1025    -0.6226    -3.7452   \n",
       "1     3.2737   -15.1256     0.5294    -0.6672     3.7304     0.6153   \n",
       "\n",
       "   211071_s_at  203341_at  205379_at  \n",
       "0      -1.3157     1.0145     0.1046  \n",
       "1      -1.4900     0.9750    -1.8243  \n",
       "\n",
       "[2 rows x 978 columns]"
      ]
     },
     "execution_count": 13,
     "metadata": {},
     "output_type": "execute_result"
    }
   ],
   "source": [
    "# Load data\n",
    "phase2_L1000_df = pd.read_csv(\"../1.process-data/data/L1000_adenyi.tsv.gz\", sep=\"\\t\")\n",
    "\n",
    "print(phase2_L1000_df.shape)\n",
    "phase2_L1000_df.head(2)"
   ]
  },
  {
   "cell_type": "code",
   "execution_count": 6,
   "metadata": {
    "scrolled": true
   },
   "outputs": [],
   "source": [
    "# features = infer_L1000_features(phase2_L1000_df)\n",
    "# meta_features = infer_L1000_features(phase2_L1000_df, metadata=True"
   ]
  },
  {
   "cell_type": "code",
   "execution_count": 14,
   "metadata": {},
   "outputs": [
    {
     "data": {
      "text/plain": [
       "Index(['200814_at', '222103_at', '201453_x_at', '204131_s_at', '200059_s_at',\n",
       "       '205067_at', '213702_x_at', '214435_x_at', '201334_s_at', '213721_at',\n",
       "       ...\n",
       "       '204662_at', '203047_at', '203343_at', '217995_at', '218450_at',\n",
       "       '212536_at', '218529_at', '211071_s_at', '203341_at', '205379_at'],\n",
       "      dtype='object', length=978)"
      ]
     },
     "execution_count": 14,
     "metadata": {},
     "output_type": "execute_result"
    }
   ],
   "source": [
    "phase2_L1000_df.columns"
   ]
  },
  {
   "cell_type": "code",
   "execution_count": 15,
   "metadata": {},
   "outputs": [],
   "source": [
    "# Zero One Normalize Data\n",
    "phase2_L1000_df = transform(\n",
    "    phase2_L1000_df, features=phase2_L1000_df.columns.to_list(), meta_features=[], operation = \"-1+1\"\n",
    ")"
   ]
  },
  {
   "cell_type": "code",
   "execution_count": 16,
   "metadata": {},
   "outputs": [],
   "source": [
    "# Split data into 80% train, 20% test\n",
    "train_df, test_df = train_test_split(\n",
    "    phase2_L1000_df,\n",
    "    test_size=test_split,\n",
    "    random_state=seed,\n",
    "#     stratify=phase2_L1000_df.cell_id,\n",
    ")"
   ]
  },
  {
   "cell_type": "code",
   "execution_count": 17,
   "metadata": {},
   "outputs": [],
   "source": [
    "# Split test data into 50% validation, 50% test\n",
    "test_df, valid_df = train_test_split(\n",
    "    test_df,\n",
    "    test_size=0.5,\n",
    "    random_state=seed,\n",
    "#     stratify=test_df.cell_id,\n",
    ")"
   ]
  },
  {
   "cell_type": "code",
   "execution_count": 18,
   "metadata": {
    "scrolled": true
   },
   "outputs": [
    {
     "name": "stdout",
     "output_type": "stream",
     "text": [
      "(22269, 978)\n",
      "(2784, 978)\n",
      "(2784, 978)\n"
     ]
    }
   ],
   "source": [
    "print(train_df.shape)\n",
    "print(test_df.shape)\n",
    "print(valid_df.shape)"
   ]
  },
  {
   "cell_type": "code",
   "execution_count": 21,
   "metadata": {},
   "outputs": [],
   "source": [
    "# Output data splits\n",
    "train_file = pathlib.Path(output_dir, \"L1000adenyi_train.tsv.gz\")\n",
    "test_file = pathlib.Path(output_dir, \"L1000adenyi_test.tsv.gz\")\n",
    "valid_file = pathlib.Path(output_dir, \"L1000adenyi_valid.tsv.gz\")\n",
    "complete_file = pathlib.Path(output_dir, \"L1000adenyi_complete.tsv.gz\")\n",
    "\n",
    "train_df.to_csv(train_file, sep=\"\\t\", index=False, float_format=\"%.5g\")\n",
    "test_df.to_csv(test_file, sep=\"\\t\", index=False, float_format=\"%.5g\")\n",
    "valid_df.to_csv(valid_file, sep=\"\\t\", index=False, float_format=\"%.5g\")\n",
    "phase2_L1000_df.to_csv(complete_file, sep=\"\\t\", index=False, float_format=\"%.5g\")"
   ]
  }
 ],
 "metadata": {
  "kernelspec": {
   "display_name": "Python 3",
   "language": "python",
   "name": "python3"
  },
  "language_info": {
   "codemirror_mode": {
    "name": "ipython",
    "version": 3
   },
   "file_extension": ".py",
   "mimetype": "text/x-python",
   "name": "python",
   "nbconvert_exporter": "python",
   "pygments_lexer": "ipython3",
   "version": "3.7.10"
  }
 },
 "nbformat": 4,
 "nbformat_minor": 4
}
