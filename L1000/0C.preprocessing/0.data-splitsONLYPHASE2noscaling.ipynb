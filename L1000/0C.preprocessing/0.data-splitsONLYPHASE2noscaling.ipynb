{
 "cells": [
  {
   "cell_type": "markdown",
   "metadata": {},
   "source": [
    "# Split the L1000 Data into Training/Testing/Validation Sets\n",
    "\n",
    "Split the data 80% training, 10% testing, 10% validation, balanced by platemap."
   ]
  },
  {
   "cell_type": "code",
   "execution_count": 1,
   "metadata": {},
   "outputs": [],
   "source": [
    "import sys\n",
    "import pathlib\n",
    "import numpy as np\n",
    "import pandas as pd\n",
    "\n",
    "from sklearn.model_selection import train_test_split\n",
    "\n",
    "from pycytominer import feature_select\n",
    "from pycytominer.cyto_utils import infer_cp_features\n",
    "\n",
    "sys.path.insert(0, \"../../scripts\")\n",
    "from utils import transform, infer_L1000_features"
   ]
  },
  {
   "cell_type": "code",
   "execution_count": 2,
   "metadata": {},
   "outputs": [],
   "source": [
    "# %load_ext nb_black"
   ]
  },
  {
   "cell_type": "code",
   "execution_count": 3,
   "metadata": {},
   "outputs": [],
   "source": [
    "seed = 9876\n",
    "test_split = 0.2\n",
    "\n",
    "output_dir = pathlib.Path(\"data\")\n",
    "output_dir.mkdir(exist_ok=True)"
   ]
  },
  {
   "cell_type": "code",
   "execution_count": 4,
   "metadata": {
    "scrolled": false
   },
   "outputs": [
    {
     "name": "stderr",
     "output_type": "stream",
     "text": [
      "/home/ubuntu/miniconda3/envs/cell-painting-vae/lib/python3.7/site-packages/IPython/core/interactiveshell.py:3170: DtypeWarning: Columns (3) have mixed types.Specify dtype option on import or set low_memory=False.\n",
      "  interactivity=interactivity, compiler=compiler, result=result)\n"
     ]
    },
    {
     "name": "stdout",
     "output_type": "stream",
     "text": [
      "(118050, 982)\n"
     ]
    },
    {
     "data": {
      "text/html": [
       "<div>\n",
       "<style scoped>\n",
       "    .dataframe tbody tr th:only-of-type {\n",
       "        vertical-align: middle;\n",
       "    }\n",
       "\n",
       "    .dataframe tbody tr th {\n",
       "        vertical-align: top;\n",
       "    }\n",
       "\n",
       "    .dataframe thead th {\n",
       "        text-align: right;\n",
       "    }\n",
       "</style>\n",
       "<table border=\"1\" class=\"dataframe\">\n",
       "  <thead>\n",
       "    <tr style=\"text-align: right;\">\n",
       "      <th></th>\n",
       "      <th>cid</th>\n",
       "      <th>pert_id</th>\n",
       "      <th>cell_id</th>\n",
       "      <th>pert_idose</th>\n",
       "      <th>780</th>\n",
       "      <th>7849</th>\n",
       "      <th>6193</th>\n",
       "      <th>23</th>\n",
       "      <th>9552</th>\n",
       "      <th>387</th>\n",
       "      <th>...</th>\n",
       "      <th>54681</th>\n",
       "      <th>11000</th>\n",
       "      <th>6915</th>\n",
       "      <th>6253</th>\n",
       "      <th>7264</th>\n",
       "      <th>5467</th>\n",
       "      <th>2767</th>\n",
       "      <th>23038</th>\n",
       "      <th>57048</th>\n",
       "      <th>79716</th>\n",
       "    </tr>\n",
       "  </thead>\n",
       "  <tbody>\n",
       "    <tr>\n",
       "      <th>0</th>\n",
       "      <td>REP.A001_A375_24H:A03</td>\n",
       "      <td>DMSO</td>\n",
       "      <td>A375</td>\n",
       "      <td>-666</td>\n",
       "      <td>4.264143</td>\n",
       "      <td>0.057249</td>\n",
       "      <td>-2.139334</td>\n",
       "      <td>-0.221784</td>\n",
       "      <td>-0.376555</td>\n",
       "      <td>1.913788</td>\n",
       "      <td>...</td>\n",
       "      <td>5.246200</td>\n",
       "      <td>0.057058</td>\n",
       "      <td>-1.256173</td>\n",
       "      <td>-0.025255</td>\n",
       "      <td>0.168856</td>\n",
       "      <td>-1.639110</td>\n",
       "      <td>0.685100</td>\n",
       "      <td>-0.419421</td>\n",
       "      <td>1.716090</td>\n",
       "      <td>-0.472335</td>\n",
       "    </tr>\n",
       "    <tr>\n",
       "      <th>1</th>\n",
       "      <td>REP.A001_A375_24H:A04</td>\n",
       "      <td>DMSO</td>\n",
       "      <td>A375</td>\n",
       "      <td>-666</td>\n",
       "      <td>-0.382211</td>\n",
       "      <td>0.304313</td>\n",
       "      <td>-0.995923</td>\n",
       "      <td>-0.670833</td>\n",
       "      <td>-0.648242</td>\n",
       "      <td>0.621605</td>\n",
       "      <td>...</td>\n",
       "      <td>0.206695</td>\n",
       "      <td>-0.010866</td>\n",
       "      <td>-0.872055</td>\n",
       "      <td>-0.223754</td>\n",
       "      <td>0.074144</td>\n",
       "      <td>0.093595</td>\n",
       "      <td>0.326673</td>\n",
       "      <td>1.048097</td>\n",
       "      <td>-0.505179</td>\n",
       "      <td>-0.618324</td>\n",
       "    </tr>\n",
       "  </tbody>\n",
       "</table>\n",
       "<p>2 rows × 982 columns</p>\n",
       "</div>"
      ],
      "text/plain": [
       "                     cid pert_id cell_id pert_idose       780      7849  \\\n",
       "0  REP.A001_A375_24H:A03    DMSO    A375       -666  4.264143  0.057249   \n",
       "1  REP.A001_A375_24H:A04    DMSO    A375       -666 -0.382211  0.304313   \n",
       "\n",
       "       6193        23      9552       387  ...     54681     11000      6915  \\\n",
       "0 -2.139334 -0.221784 -0.376555  1.913788  ...  5.246200  0.057058 -1.256173   \n",
       "1 -0.995923 -0.670833 -0.648242  0.621605  ...  0.206695 -0.010866 -0.872055   \n",
       "\n",
       "       6253      7264      5467      2767     23038     57048     79716  \n",
       "0 -0.025255  0.168856 -1.639110  0.685100 -0.419421  1.716090 -0.472335  \n",
       "1 -0.223754  0.074144  0.093595  0.326673  1.048097 -0.505179 -0.618324  \n",
       "\n",
       "[2 rows x 982 columns]"
      ]
     },
     "execution_count": 4,
     "metadata": {},
     "output_type": "execute_result"
    }
   ],
   "source": [
    "# Load data\n",
    "phase2_L1000_df = pd.read_csv(\"../0B.process-data/data/L1000_phase2.tsv.gz\", sep=\"\\t\")\n",
    "\n",
    "print(phase2_L1000_df.shape)\n",
    "phase2_L1000_df.head(2)"
   ]
  },
  {
   "cell_type": "code",
   "execution_count": 5,
   "metadata": {},
   "outputs": [],
   "source": [
    "# phase2_L1000_df['pert_id_cell_id'] = phase2_L1000_df['pert_id'] + '_' + phase2_L1000_df['cell_id']"
   ]
  },
  {
   "cell_type": "code",
   "execution_count": 6,
   "metadata": {},
   "outputs": [],
   "source": [
    "# pert_id_cell_id = np.array(phase2_L1000_df.pert_id_cell_id)\n",
    "# unique, counts = np.unique(pert_id_cell_id, return_counts=True)\n",
    "# count_of_pert_id_cell_id = dict(zip(unique, counts))"
   ]
  },
  {
   "cell_type": "code",
   "execution_count": 7,
   "metadata": {},
   "outputs": [],
   "source": [
    "# valid_pert_id_cell_id = []\n",
    "# for key in count_of_pert_id_cell_id:\n",
    "#     if count_of_pert_id_cell_id[key] > 2:\n",
    "#         valid_pert_id_cell_id.append(key)"
   ]
  },
  {
   "cell_type": "code",
   "execution_count": 8,
   "metadata": {},
   "outputs": [],
   "source": [
    "# phase2_L1000_df = phase2_L1000_df[phase2_L1000_df.pert_id_cell_id.isin(valid_pert_id_cell_id)]"
   ]
  },
  {
   "cell_type": "code",
   "execution_count": 9,
   "metadata": {
    "scrolled": true
   },
   "outputs": [],
   "source": [
    "features = infer_L1000_features(phase2_L1000_df)\n",
    "meta_features = infer_L1000_features(phase2_L1000_df, metadata=True)"
   ]
  },
  {
   "cell_type": "code",
   "execution_count": 10,
   "metadata": {},
   "outputs": [],
   "source": [
    "# Zero One Normalize Data\n",
    "# phase2_L1000_df = transform(\n",
    "#     phase2_L1000_df, features=features, meta_features=meta_features, operation = \"-1+1\"\n",
    "# )"
   ]
  },
  {
   "cell_type": "code",
   "execution_count": 11,
   "metadata": {},
   "outputs": [],
   "source": [
    "# Split data into 80% train, 20% test\n",
    "train_df, test_df = train_test_split(\n",
    "    phase2_L1000_df,\n",
    "    test_size=test_split,\n",
    "    random_state=seed,\n",
    "    stratify=phase2_L1000_df.cell_id,\n",
    ")"
   ]
  },
  {
   "cell_type": "code",
   "execution_count": 12,
   "metadata": {},
   "outputs": [],
   "source": [
    "# Split test data into 50% validation, 50% test\n",
    "test_df, valid_df = train_test_split(\n",
    "    test_df,\n",
    "    test_size=0.5,\n",
    "    random_state=seed,\n",
    "    stratify=test_df.cell_id,\n",
    ")"
   ]
  },
  {
   "cell_type": "code",
   "execution_count": 13,
   "metadata": {
    "scrolled": true
   },
   "outputs": [
    {
     "name": "stdout",
     "output_type": "stream",
     "text": [
      "(94440, 982)\n",
      "(11805, 982)\n",
      "(11805, 982)\n"
     ]
    }
   ],
   "source": [
    "print(train_df.shape)\n",
    "print(test_df.shape)\n",
    "print(valid_df.shape)"
   ]
  },
  {
   "cell_type": "code",
   "execution_count": 14,
   "metadata": {},
   "outputs": [],
   "source": [
    "# Output data splits\n",
    "train_file = pathlib.Path(output_dir, \"L1000PHASE2noscaling_train.tsv.gz\")\n",
    "test_file = pathlib.Path(output_dir, \"L1000PHASE2noscaling_test.tsv.gz\")\n",
    "valid_file = pathlib.Path(output_dir, \"L1000PHASE2noscaling_valid.tsv.gz\")\n",
    "complete_file = pathlib.Path(output_dir, \"L1000PHASE2noscaling_complete.tsv.gz\")\n",
    "\n",
    "# train_df.to_csv(train_file, sep=\"\\t\", index=False, float_format=\"%.5g\")\n",
    "# test_df.to_csv(test_file, sep=\"\\t\", index=False, float_format=\"%.5g\")\n",
    "# valid_df.to_csv(valid_file, sep=\"\\t\", index=False, float_format=\"%.5g\")\n",
    "phase2_L1000_df.to_csv(complete_file, sep=\"\\t\", index=False, float_format=\"%.5g\")"
   ]
  }
 ],
 "metadata": {
  "kernelspec": {
   "display_name": "Python 3",
   "language": "python",
   "name": "python3"
  },
  "language_info": {
   "codemirror_mode": {
    "name": "ipython",
    "version": 3
   },
   "file_extension": ".py",
   "mimetype": "text/x-python",
   "name": "python",
   "nbconvert_exporter": "python",
   "pygments_lexer": "ipython3",
   "version": "3.7.10"
  }
 },
 "nbformat": 4,
 "nbformat_minor": 4
}
