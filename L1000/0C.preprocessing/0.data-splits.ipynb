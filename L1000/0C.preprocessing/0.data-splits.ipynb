{
 "cells": [
  {
   "cell_type": "markdown",
   "metadata": {},
   "source": [
    "# Split the L1000 Data into Training/Testing/Validation Sets\n",
    "\n",
    "Split the data 80% training, 10% testing, 10% validation, balanced by platemap."
   ]
  },
  {
   "cell_type": "code",
   "execution_count": 1,
   "metadata": {},
   "outputs": [],
   "source": [
    "import sys\n",
    "import pathlib\n",
    "import numpy as np\n",
    "import pandas as pd\n",
    "\n",
    "from sklearn.model_selection import train_test_split\n",
    "\n",
    "from pycytominer import feature_select\n",
    "from pycytominer.cyto_utils import infer_cp_features\n",
    "\n",
    "sys.path.insert(0, \"../../scripts\")\n",
    "from utils import transform, infer_L1000_features"
   ]
  },
  {
   "cell_type": "code",
   "execution_count": 2,
   "metadata": {},
   "outputs": [],
   "source": [
    "# %load_ext nb_black"
   ]
  },
  {
   "cell_type": "code",
   "execution_count": 3,
   "metadata": {},
   "outputs": [],
   "source": [
    "seed = 9876\n",
    "test_split = 0.2\n",
    "\n",
    "output_dir = pathlib.Path(\"data\")\n",
    "output_dir.mkdir(exist_ok=True)"
   ]
  },
  {
   "cell_type": "code",
   "execution_count": 4,
   "metadata": {
    "scrolled": true
   },
   "outputs": [
    {
     "name": "stderr",
     "output_type": "stream",
     "text": [
      "/home/ubuntu/miniconda3/envs/cell-painting-vae/lib/python3.7/site-packages/IPython/core/interactiveshell.py:3166: DtypeWarning: Columns (1) have mixed types.Specify dtype option on import or set low_memory=False.\n",
      "  interactivity=interactivity, compiler=compiler, result=result)\n"
     ]
    },
    {
     "name": "stdout",
     "output_type": "stream",
     "text": [
      "(591697, 982)\n"
     ]
    },
    {
     "data": {
      "text/html": [
       "<div>\n",
       "<style scoped>\n",
       "    .dataframe tbody tr th:only-of-type {\n",
       "        vertical-align: middle;\n",
       "    }\n",
       "\n",
       "    .dataframe tbody tr th {\n",
       "        vertical-align: top;\n",
       "    }\n",
       "\n",
       "    .dataframe thead th {\n",
       "        text-align: right;\n",
       "    }\n",
       "</style>\n",
       "<table border=\"1\" class=\"dataframe\">\n",
       "  <thead>\n",
       "    <tr style=\"text-align: right;\">\n",
       "      <th></th>\n",
       "      <th>pert_id</th>\n",
       "      <th>inchi_key_prefix</th>\n",
       "      <th>rna_plate</th>\n",
       "      <th>cell_id</th>\n",
       "      <th>5720</th>\n",
       "      <th>466</th>\n",
       "      <th>6009</th>\n",
       "      <th>2309</th>\n",
       "      <th>387</th>\n",
       "      <th>3553</th>\n",
       "      <th>...</th>\n",
       "      <th>9738</th>\n",
       "      <th>6793</th>\n",
       "      <th>7358</th>\n",
       "      <th>58472</th>\n",
       "      <th>50865</th>\n",
       "      <th>23200</th>\n",
       "      <th>51293</th>\n",
       "      <th>10962</th>\n",
       "      <th>10153</th>\n",
       "      <th>874</th>\n",
       "    </tr>\n",
       "  </thead>\n",
       "  <tbody>\n",
       "    <tr>\n",
       "      <th>0</th>\n",
       "      <td>BRD-A85280935</td>\n",
       "      <td>FTSUPYGMFAPCFZ</td>\n",
       "      <td>CPC005_A375_6H</td>\n",
       "      <td>A375</td>\n",
       "      <td>0.773769</td>\n",
       "      <td>-0.818468</td>\n",
       "      <td>0.189572</td>\n",
       "      <td>-0.146031</td>\n",
       "      <td>-0.654002</td>\n",
       "      <td>0.206183</td>\n",
       "      <td>...</td>\n",
       "      <td>-1.191830</td>\n",
       "      <td>-0.061229</td>\n",
       "      <td>-0.505697</td>\n",
       "      <td>0.339170</td>\n",
       "      <td>-0.133465</td>\n",
       "      <td>0.651272</td>\n",
       "      <td>0.196972</td>\n",
       "      <td>0.000822</td>\n",
       "      <td>-0.118087</td>\n",
       "      <td>-0.540854</td>\n",
       "    </tr>\n",
       "    <tr>\n",
       "      <th>1</th>\n",
       "      <td>BRD-A07824748</td>\n",
       "      <td>ZONYXWQDUYMKFB</td>\n",
       "      <td>CPC005_A375_6H</td>\n",
       "      <td>A375</td>\n",
       "      <td>-0.645586</td>\n",
       "      <td>-0.810749</td>\n",
       "      <td>0.459060</td>\n",
       "      <td>-0.224676</td>\n",
       "      <td>-0.335681</td>\n",
       "      <td>2.804548</td>\n",
       "      <td>...</td>\n",
       "      <td>-1.836194</td>\n",
       "      <td>1.507439</td>\n",
       "      <td>-0.571273</td>\n",
       "      <td>1.174893</td>\n",
       "      <td>4.993051</td>\n",
       "      <td>0.908271</td>\n",
       "      <td>-2.183036</td>\n",
       "      <td>-1.593815</td>\n",
       "      <td>-0.200885</td>\n",
       "      <td>-1.985022</td>\n",
       "    </tr>\n",
       "  </tbody>\n",
       "</table>\n",
       "<p>2 rows × 982 columns</p>\n",
       "</div>"
      ],
      "text/plain": [
       "         pert_id inchi_key_prefix       rna_plate cell_id      5720       466  \\\n",
       "0  BRD-A85280935   FTSUPYGMFAPCFZ  CPC005_A375_6H    A375  0.773769 -0.818468   \n",
       "1  BRD-A07824748   ZONYXWQDUYMKFB  CPC005_A375_6H    A375 -0.645586 -0.810749   \n",
       "\n",
       "       6009      2309       387      3553  ...      9738      6793      7358  \\\n",
       "0  0.189572 -0.146031 -0.654002  0.206183  ... -1.191830 -0.061229 -0.505697   \n",
       "1  0.459060 -0.224676 -0.335681  2.804548  ... -1.836194  1.507439 -0.571273   \n",
       "\n",
       "      58472     50865     23200     51293     10962     10153       874  \n",
       "0  0.339170 -0.133465  0.651272  0.196972  0.000822 -0.118087 -0.540854  \n",
       "1  1.174893  4.993051  0.908271 -2.183036 -1.593815 -0.200885 -1.985022  \n",
       "\n",
       "[2 rows x 982 columns]"
      ]
     },
     "execution_count": 4,
     "metadata": {},
     "output_type": "execute_result"
    }
   ],
   "source": [
    "# Load data\n",
    "complete_L1000_df = pd.read_csv(\"../0B.process-data/data/L1000_full.tsv.gz\", sep=\"\\t\")\n",
    "\n",
    "print(complete_L1000_df.shape)\n",
    "complete_L1000_df.head(2)"
   ]
  },
  {
   "cell_type": "code",
   "execution_count": 5,
   "metadata": {},
   "outputs": [
    {
     "data": {
      "text/plain": [
       "pert_id                 ACHE\n",
       "rna_plate    AML001_CD34_24H\n",
       "cell_id                 A375\n",
       "5720              -10.000001\n",
       "466               -10.000001\n",
       "                  ...       \n",
       "23200                  -10.0\n",
       "51293             -10.000001\n",
       "10962             -10.000001\n",
       "10153                  -10.0\n",
       "874               -10.000001\n",
       "Length: 981, dtype: object"
      ]
     },
     "execution_count": 5,
     "metadata": {},
     "output_type": "execute_result"
    }
   ],
   "source": [
    "np.min(complete_L1000_df)"
   ]
  },
  {
   "cell_type": "code",
   "execution_count": 6,
   "metadata": {
    "scrolled": true
   },
   "outputs": [],
   "source": [
    "features = infer_L1000_features(complete_L1000_df)\n",
    "meta_features = infer_L1000_features(complete_L1000_df, metadata=True)"
   ]
  },
  {
   "cell_type": "code",
   "execution_count": 7,
   "metadata": {},
   "outputs": [],
   "source": [
    "# Zero One Normalize Data\n",
    "# complete_L1000_df = transform(\n",
    "#     complete_L1000_df, features=features, meta_features=meta_features\n",
    "# )\n",
    "\n",
    "# -1 to 1 Normalize Data\n",
    "# complete_L1000_df = transform(\n",
    "#     complete_L1000_df, features=features, meta_features=meta_features, operation = \"-1+1\"\n",
    "# )"
   ]
  },
  {
   "cell_type": "code",
   "execution_count": 8,
   "metadata": {},
   "outputs": [],
   "source": [
    "# Split data into 80% train, 20% test\n",
    "train_df, test_df = train_test_split(\n",
    "    complete_L1000_df,\n",
    "    test_size=test_split,\n",
    "    random_state=seed,\n",
    "    stratify=complete_L1000_df.cell_id,\n",
    ")"
   ]
  },
  {
   "cell_type": "code",
   "execution_count": 9,
   "metadata": {},
   "outputs": [],
   "source": [
    "# Split test data into 50% validation, 50% test\n",
    "test_df, valid_df = train_test_split(\n",
    "    test_df,\n",
    "    test_size=0.5,\n",
    "    random_state=seed,\n",
    "    stratify=test_df.cell_id,\n",
    ")"
   ]
  },
  {
   "cell_type": "code",
   "execution_count": 10,
   "metadata": {
    "scrolled": false
   },
   "outputs": [
    {
     "name": "stdout",
     "output_type": "stream",
     "text": [
      "(473357, 982)\n",
      "(59170, 982)\n",
      "(59170, 982)\n"
     ]
    }
   ],
   "source": [
    "print(train_df.shape)\n",
    "print(test_df.shape)\n",
    "print(valid_df.shape)"
   ]
  },
  {
   "cell_type": "code",
   "execution_count": 11,
   "metadata": {},
   "outputs": [],
   "source": [
    "# Output data splits\n",
    "train_file = pathlib.Path(output_dir, \"L1000noscaling_train.tsv.gz\")\n",
    "test_file = pathlib.Path(output_dir, \"L1000noscaling_test.tsv.gz\")\n",
    "valid_file = pathlib.Path(output_dir, \"L1000noscaling_valid.tsv.gz\")\n",
    "complete_file = pathlib.Path(output_dir, \"L1000noscaling_complete.tsv.gz\")\n",
    "\n",
    "# train_df.to_csv(train_file, sep=\"\\t\", index=False, float_format=\"%.5g\")\n",
    "# test_df.to_csv(test_file, sep=\"\\t\", index=False, float_format=\"%.5g\")\n",
    "# valid_df.to_csv(valid_file, sep=\"\\t\", index=False, float_format=\"%.5g\")\n",
    "complete_L1000_df.to_csv(complete_file, sep=\"\\t\", index=False, float_format=\"%.5g\")"
   ]
  }
 ],
 "metadata": {
  "kernelspec": {
   "display_name": "Python 3",
   "language": "python",
   "name": "python3"
  },
  "language_info": {
   "codemirror_mode": {
    "name": "ipython",
    "version": 3
   },
   "file_extension": ".py",
   "mimetype": "text/x-python",
   "name": "python",
   "nbconvert_exporter": "python",
   "pygments_lexer": "ipython3",
   "version": "3.7.10"
  }
 },
 "nbformat": 4,
 "nbformat_minor": 4
}
