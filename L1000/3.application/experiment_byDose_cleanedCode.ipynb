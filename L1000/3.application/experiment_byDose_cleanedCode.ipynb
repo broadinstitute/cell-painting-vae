{
 "cells": [
  {
   "cell_type": "code",
   "execution_count": 4,
   "metadata": {},
   "outputs": [],
   "source": [
    "import numpy as np\n",
    "import pandas as pd\n",
    "import sys\n",
    "sys.path.insert(0, \"../../scripts\")\n",
    "from utils import load_data, infer_L1000_features\n",
    "from tensorflow import keras\n",
    "\n",
    "import matplotlib.pyplot as plt\n",
    "\n",
    "from scipy.stats import pearsonr, ttest_ind, ttest_1samp\n",
    "import seaborn\n",
    "from sklearn.decomposition import PCA\n",
    "import random\n",
    "from sklearn.model_selection import train_test_split"
   ]
  },
  {
   "cell_type": "code",
   "execution_count": 5,
   "metadata": {},
   "outputs": [],
   "source": [
    "np.random.seed(82)\n",
    "NUM_RANDOM_SAMPLES = 1"
   ]
  },
  {
   "cell_type": "code",
   "execution_count": 6,
   "metadata": {},
   "outputs": [
    {
     "name": "stderr",
     "output_type": "stream",
     "text": [
      "/home/ubuntu/miniconda3/envs/cell-painting-vae/lib/python3.7/site-packages/IPython/core/interactiveshell.py:3361: DtypeWarning: Columns (3) have mixed types.Specify dtype option on import or set low_memory=False.\n",
      "  if (await self.run_code(code, result,  async_=asy)):\n"
     ]
    }
   ],
   "source": [
    "data_dict = load_data([\"complete\"], dataset = 'L1000')\n",
    "meta_features = infer_L1000_features(data_dict[\"complete\"], metadata=True)\n",
    "L1000_features = infer_L1000_features(data_dict[\"complete\"])\n",
    "\n",
    "data_dict[\"complete\"] = data_dict[\"complete\"].reset_index(drop = True)\n",
    "complete_features_df = data_dict[\"complete\"].reindex(L1000_features, axis=\"columns\")\n",
    "complete_meta_df = data_dict[\"complete\"].reindex(meta_features, axis=\"columns\")"
   ]
  },
  {
   "cell_type": "code",
   "execution_count": 7,
   "metadata": {},
   "outputs": [],
   "source": [
    "latent_dim = 65\n",
    "latent_space_columns = np.arange(0,latent_dim)\n",
    "latent_space_columns = [(latent_space_column) for latent_space_column in latent_space_columns]"
   ]
  },
  {
   "cell_type": "code",
   "execution_count": 8,
   "metadata": {},
   "outputs": [],
   "source": [
    "moa_df = pd.read_csv(\"repurposing_info_external_moa_map_resolved.tsv\",sep='\\t').set_index('broad_id').reindex(index=complete_meta_df['pert_id']).reset_index().drop('pert_id',axis = 1)"
   ]
  },
  {
   "cell_type": "code",
   "execution_count": 9,
   "metadata": {
    "scrolled": false
   },
   "outputs": [],
   "source": [
    "def generate_latent_df(latent_df):\n",
    "    meta_moa_latent_df = pd.concat([complete_meta_df,moa_df,latent_df], axis=1)\n",
    "\n",
    "    # fill negative control DMSO profiles, change the NaN MOA label to be DMSO\n",
    "    meta_moa_latent_df.loc[meta_moa_latent_df['pert_id'] == 'DMSO', 'moa'] = 'DMSO'\n",
    "\n",
    "    #drop profiles with NaN MOAs\n",
    "    meta_moa_latent_df = meta_moa_latent_df.dropna(subset=['moa']).reset_index(drop = True)\n",
    "\n",
    "    # add columns to the dataframe that are randomnly shuffled permutations of the MOA column\n",
    "    for i in range(NUM_RANDOM_SAMPLES):\n",
    "        random_moa_labels = meta_moa_latent_df[['moa','pert_idose']].sample(frac=1).reset_index(drop=True)    \n",
    "        random_moa_labels = random_moa_labels.rename(columns={'moa': 'random_moa_labels' + str(i), 'pert_idose': 'random_dose' + str(i)})\n",
    "        meta_moa_latent_df = pd.concat([random_moa_labels, meta_moa_latent_df], axis=1)\n",
    "        \n",
    "    return meta_moa_latent_df"
   ]
  },
  {
   "cell_type": "code",
   "execution_count": 10,
   "metadata": {},
   "outputs": [
    {
     "name": "stderr",
     "output_type": "stream",
     "text": [
      "/home/ubuntu/miniconda3/envs/cell-painting-vae/lib/python3.7/site-packages/tensorflow/python/keras/layers/core.py:1059: UserWarning: vae_utils is not loaded, but a Lambda layer uses it. It may cause errors.\n",
      "  , UserWarning)\n"
     ]
    },
    {
     "name": "stdout",
     "output_type": "stream",
     "text": [
      "WARNING:tensorflow:No training configuration found in save file, so the model was *not* compiled. Compile it manually.\n"
     ]
    }
   ],
   "source": [
    "# vae_latent_df = pd.read_csv(\"level4Latent.csv\").drop(\"Unnamed: 0\", axis = 1)\n",
    "encoder = keras.models.load_model(\"../2.train/L1000twolayerEncoder\")\n",
    "vae_latent_df = pd.DataFrame(encoder.predict(complete_features_df)[2])"
   ]
  },
  {
   "cell_type": "code",
   "execution_count": 11,
   "metadata": {},
   "outputs": [],
   "source": [
    "pca = PCA(n_components=latent_dim)\n",
    "pca_latent_df = pd.DataFrame(pca.fit_transform(complete_features_df), columns = latent_space_columns)"
   ]
  },
  {
   "cell_type": "code",
   "execution_count": 12,
   "metadata": {},
   "outputs": [],
   "source": [
    "meta_moa_vae_latent_df = generate_latent_df(vae_latent_df)\n",
    "meta_moa_pca_latent_df = generate_latent_df(pca_latent_df)\n",
    "meta_moa_complete_df = generate_latent_df(complete_features_df)"
   ]
  },
  {
   "cell_type": "code",
   "execution_count": 13,
   "metadata": {},
   "outputs": [],
   "source": [
    "moas_occurrence = pd.read_csv(\"moas_occurrence.tsv\", sep = \"\\t\")\n",
    "moas_occurrence.index = moas_occurrence['moa']\n",
    "moas_occurrence = moas_occurrence.drop('moa', axis = 1)\n",
    "\n",
    "#We only want moa combinations with enough data, so we pick A|B such that there are at least 5 A|B, 5 A, and 5 B.\n",
    "valid_pipes = moas_occurrence[((moas_occurrence != 0).all(axis = 1)) & (moas_occurrence['full moa occurrence'] > 0) & (moas_occurrence['moa1 occurrence'] > 0)& (moas_occurrence['moa2 occurrence'] > 0)].index\n",
    "valid_pipes = valid_pipes[valid_pipes.str.count(\"\\|\") == 1]"
   ]
  },
  {
   "cell_type": "code",
   "execution_count": 14,
   "metadata": {},
   "outputs": [],
   "source": [
    "def subset_by_moa(pipe, df_name, column):\n",
    "    moas = pipe.split(\"|\")\n",
    "    subset_df = pd.concat([df_name[df_name[column] == moas[0]],df_name[df_name[column] == moas[1]]])\n",
    "    return subset_df"
   ]
  },
  {
   "cell_type": "code",
   "execution_count": 15,
   "metadata": {},
   "outputs": [],
   "source": [
    "#calculate means for each A and B in each A|B.\n",
    "def calculate_means(meta_moa_latent_df, columns):\n",
    "    subset_means = []\n",
    "    subset_random_means = []\n",
    "\n",
    "    for pipe in valid_pipes:\n",
    "        subset = subset_by_moa(pipe, meta_moa_latent_df, 'moa')\n",
    "        subset_mean = subset.groupby(['moa','pert_idose'])[columns].mean()\n",
    "\n",
    "        subsets_random_mean = []\n",
    "        for i in range(NUM_RANDOM_SAMPLES):\n",
    "            moa_label = 'random_moa_labels' + str(i)\n",
    "            dose_label = 'random_dose' + str(i)\n",
    "            subset_random = subset_by_moa(pipe, meta_moa_latent_df, moa_label)\n",
    "            subset_random_mean = subset_random.groupby([moa_label, dose_label])[columns].mean()\n",
    "            subsets_random_mean.append(subset_random_mean)\n",
    "\n",
    "        subset_means.append(subset_mean)\n",
    "\n",
    "        subset_random_means.append(subsets_random_mean)\n",
    "    \n",
    "    return subset_means, subset_random_means"
   ]
  },
  {
   "cell_type": "code",
   "execution_count": 16,
   "metadata": {},
   "outputs": [],
   "source": [
    "subset_vae_means, subset_vae_random_means = calculate_means(meta_moa_vae_latent_df, latent_space_columns)\n",
    "subset_pca_means, subset_pca_random_means = calculate_means(meta_moa_pca_latent_df, latent_space_columns)\n",
    "subset_complete_means, subset_complete_random_means = calculate_means(meta_moa_complete_df, complete_features_df.columns)"
   ]
  },
  {
   "cell_type": "code",
   "execution_count": 17,
   "metadata": {},
   "outputs": [],
   "source": [
    "#calculate means for DMSO\n",
    "def calculate_dmso_means(meta_moa_latent_df, columns):\n",
    "    DMSO = meta_moa_latent_df[meta_moa_latent_df.moa == 'DMSO']\n",
    "    DMSO_means = np.mean(DMSO[columns])\n",
    "\n",
    "    DMSO_means_random = []\n",
    "\n",
    "    for i in range(NUM_RANDOM_SAMPLES):\n",
    "        label = 'random_moa_labels' + str(i)\n",
    "        DMSO_random = meta_moa_latent_df[meta_moa_latent_df[label] == 'DMSO']\n",
    "        DMSO_means_random.append(np.mean(DMSO_random[columns]))\n",
    "    return DMSO_means, DMSO_means_random"
   ]
  },
  {
   "cell_type": "code",
   "execution_count": 18,
   "metadata": {},
   "outputs": [],
   "source": [
    "DMSO_vae_means, DMSO_vae_means_random  = calculate_dmso_means(meta_moa_vae_latent_df, latent_space_columns)\n",
    "DMSO_pca_means, DMSO_pca_means_random = calculate_dmso_means(meta_moa_pca_latent_df, latent_space_columns)\n",
    "DMSO_complete_means, DMSO_complete_means_random = calculate_dmso_means(meta_moa_complete_df, complete_features_df.columns)"
   ]
  },
  {
   "cell_type": "code",
   "execution_count": 19,
   "metadata": {},
   "outputs": [],
   "source": [
    "def determine_overlapping_doses(subset_mean):\n",
    "    overlapping_doses = []\n",
    "    doses = subset_mean.index.get_level_values(1).to_list()\n",
    "    for dose in np.unique(doses):\n",
    "        if doses.count(dose) >= 2:\n",
    "            overlapping_doses.append(dose)\n",
    "    return overlapping_doses"
   ]
  },
  {
   "cell_type": "code",
   "execution_count": 20,
   "metadata": {},
   "outputs": [],
   "source": [
    "def LSA(A, B, D):\n",
    "    return A-D+B"
   ]
  },
  {
   "cell_type": "code",
   "execution_count": 21,
   "metadata": {},
   "outputs": [],
   "source": [
    "#perform latent space arithmetic\n",
    "def generate_post_LSA_representations(subset_means, subset_random_means, DMSO_means, DMSO_means_random):\n",
    "    representations_after_LSA = []\n",
    "    representations_after_LSA_random = []\n",
    "\n",
    "    for i in range(len(subset_means)):\n",
    "        doses = determine_overlapping_doses(subset_means[i])\n",
    "        representations_after_LSA_per_dose = []\n",
    "        representations_after_LSA_random_per_dose = []\n",
    "        \n",
    "        for dose in doses:\n",
    "            representation_after_LSA = LSA(subset_means[i].loc[valid_pipes[i].split(\"|\")[0]].loc[dose],subset_means[i].loc[valid_pipes[i].split(\"|\")[1]].loc[dose],DMSO_means)\n",
    "            representation_after_LSA = pd.DataFrame(representation_after_LSA).transpose()\n",
    "            representation_after_LSA.index = [dose]\n",
    "            representations_after_LSA_per_dose.append(representation_after_LSA)\n",
    "\n",
    "            LSA_random_1pipe = []\n",
    "            for j in range(NUM_RANDOM_SAMPLES):\n",
    "                representation_after_LSA_random = LSA(subset_random_means[i][j].loc[valid_pipes[i].split(\"|\")[0]].loc[dose],subset_random_means[i][j].loc[valid_pipes[i].split(\"|\")[1]].loc[dose],DMSO_means_random[j])\n",
    "                representation_after_LSA_random = pd.DataFrame(representation_after_LSA_random).transpose()\n",
    "                representation_after_LSA_random.index = [dose]\n",
    "                LSA_random_1pipe.append(representation_after_LSA_random)    \n",
    "\n",
    "            representations_after_LSA_random_per_dose.append(LSA_random_1pipe)\n",
    "\n",
    "        representations_after_LSA.append(representations_after_LSA_per_dose)\n",
    "        representations_after_LSA_random.append(representations_after_LSA_random_per_dose)\n",
    "    \n",
    "    return representations_after_LSA, representations_after_LSA_random"
   ]
  },
  {
   "cell_type": "code",
   "execution_count": 22,
   "metadata": {},
   "outputs": [],
   "source": [
    "representations_after_LSA_vae, representations_after_LSA_vae_random = generate_post_LSA_representations(subset_vae_means, subset_vae_random_means, DMSO_vae_means, DMSO_vae_means_random)\n",
    "representations_after_LSA_pca, representations_after_LSA_pca_random = generate_post_LSA_representations(subset_pca_means, subset_pca_random_means, DMSO_pca_means, DMSO_pca_means_random)\n",
    "representations_after_LSA_complete, representations_after_LSA_complete_random = generate_post_LSA_representations(subset_complete_means, subset_complete_random_means, DMSO_complete_means, DMSO_complete_means_random)"
   ]
  },
  {
   "cell_type": "code",
   "execution_count": 23,
   "metadata": {
    "scrolled": false
   },
   "outputs": [
    {
     "name": "stdout",
     "output_type": "stream",
     "text": [
      "WARNING:tensorflow:No training configuration found in save file, so the model was *not* compiled. Compile it manually.\n"
     ]
    }
   ],
   "source": [
    "decoder = keras.models.load_model(\"../2.train/L1000twolayerDecoder\")"
   ]
  },
  {
   "cell_type": "code",
   "execution_count": 24,
   "metadata": {
    "scrolled": false
   },
   "outputs": [],
   "source": [
    "#decode each latent space representation\n",
    "def decode_LSA_representations(representations_after_LSA, representations_after_LSA_random, model):\n",
    "    predictions = []\n",
    "    predictions_random = []\n",
    "\n",
    "    for i in range(len(representations_after_LSA)):\n",
    "\n",
    "        predictions_per_dose = pd.DataFrame()\n",
    "        predictions_random_per_dose = {}\n",
    "\n",
    "        for dose in range(len(representations_after_LSA[i])):\n",
    "            if model == 'vae':\n",
    "                prediction = decoder.predict(representations_after_LSA[i][dose])\n",
    "            elif model == 'pca':\n",
    "                prediction = pca.inverse_transform(representations_after_LSA[i][dose])\n",
    "            elif model == 'complete':    \n",
    "                prediction = representations_after_LSA[i][dose].values.tolist()\n",
    "            else:\n",
    "                print('\"model\" parameter must be \"vae\", \"pca\", or \"complete\"')\n",
    "            prediction = pd.DataFrame(prediction)\n",
    "            prediction.index = representations_after_LSA[i][dose].index\n",
    "            predictions_per_dose = predictions_per_dose.append(prediction)\n",
    "        \n",
    "            predictions_random_1pipe = []\n",
    "\n",
    "            for j in range(NUM_RANDOM_SAMPLES):\n",
    "                if model == 'vae':\n",
    "                    prediction_random = decoder.predict(representations_after_LSA_random[i][dose][j])\n",
    "                elif model == 'pca':\n",
    "                    prediction_random = pca.inverse_transform(representations_after_LSA_random[i][dose][j])\n",
    "                elif model == 'complete':\n",
    "                    prediction_random = representations_after_LSA_random[i][dose][j].values.tolist()\n",
    "                else:\n",
    "                    print('\"model\" parameter must be \"vae\", \"pca\", or \"complete\"')\n",
    "                \n",
    "                predictions_random_1pipe.append(prediction_random)\n",
    "                \n",
    "            \n",
    "            predictions_random_per_dose[representations_after_LSA[i][dose].index[0]] = predictions_random_1pipe\n",
    "        \n",
    "        predictions.append(predictions_per_dose)\n",
    "        predictions_random.append(predictions_random_per_dose)\n",
    "\n",
    "    return predictions, predictions_random"
   ]
  },
  {
   "cell_type": "code",
   "execution_count": 25,
   "metadata": {
    "scrolled": true
   },
   "outputs": [],
   "source": [
    "predictions_vae, predictions_vae_random = decode_LSA_representations(representations_after_LSA_vae, representations_after_LSA_vae_random, 'vae')\n",
    "predictions_pca, predictions_pca_random = decode_LSA_representations(representations_after_LSA_pca, representations_after_LSA_pca_random, 'pca')\n",
    "predictions_complete, predictions_complete_random = decode_LSA_representations(representations_after_LSA_complete, representations_after_LSA_complete_random, 'complete')"
   ]
  },
  {
   "cell_type": "code",
   "execution_count": 26,
   "metadata": {},
   "outputs": [],
   "source": [
    "mean_of_moas = meta_moa_complete_df.groupby(['moa','pert_idose']).mean().loc[:,'780':]\n",
    "mean_of_moas = mean_of_moas[mean_of_moas.index.get_level_values(0).str.contains('\\|')]"
   ]
  },
  {
   "cell_type": "code",
   "execution_count": 27,
   "metadata": {
    "scrolled": true
   },
   "outputs": [],
   "source": [
    "# calculates all L2 distances for both per MOA combo and general distribution comparison for all MOA combos\n",
    "def calculate_L2_distances(predictions, predictions_random):\n",
    "    L2 = []\n",
    "    L2_per_dose = {}\n",
    "    L2_random = []\n",
    "    \n",
    "    moa_dose = []\n",
    "    per_moa_pvalues = []\n",
    "    per_moa_tstat = []\n",
    "\n",
    "    for i in range(len(predictions)):\n",
    "        doses_1 = predictions[i].index.to_list()\n",
    "        doses_2 = mean_of_moas[mean_of_moas.index.get_level_values(0) == valid_pipes[i]].index.get_level_values(1).to_list()\n",
    "        doses = [dose for dose in doses_1 if dose in doses_2]\n",
    "        for dose in doses:\n",
    "            desired_moa = np.array(mean_of_moas[(mean_of_moas.index.get_level_values(0) == valid_pipes[i]) \n",
    "                                                & (mean_of_moas.index.get_level_values(1) == dose)])\n",
    "\n",
    "            L2_distance = np.linalg.norm(predictions[i].loc[dose]-desired_moa[0])\n",
    "            L2.append(L2_distance)\n",
    "            if dose not in L2_per_dose:\n",
    "                L2_per_dose[dose] = []\n",
    "            L2_per_dose[dose].append(L2_distance)\n",
    "\n",
    "            L2_random_per_moa = []\n",
    "            for j in range(NUM_RANDOM_SAMPLES):\n",
    "                L2_distance_random = np.linalg.norm(predictions_random[i][dose][j][0]-desired_moa[0])\n",
    "                L2_random_per_moa.append(L2_distance_random)\n",
    "\n",
    "            L2_random += L2_random_per_moa\n",
    "\n",
    "            tstat, pval = ttest_1samp(L2_random_per_moa, L2_distance)\n",
    "\n",
    "            moa_dose.append(valid_pipes[i] + ' ' + str(dose))\n",
    "            per_moa_pvalues.append(pval)\n",
    "            per_moa_tstat.append(tstat)\n",
    "    return L2_per_dose, L2, L2_random, moa_dose, per_moa_pvalues, per_moa_tstat"
   ]
  },
  {
   "cell_type": "code",
   "execution_count": 28,
   "metadata": {
    "scrolled": false
   },
   "outputs": [
    {
     "name": "stderr",
     "output_type": "stream",
     "text": [
      "/home/ubuntu/miniconda3/envs/cell-painting-vae/lib/python3.7/site-packages/numpy/core/fromnumeric.py:3622: RuntimeWarning: Degrees of freedom <= 0 for slice\n",
      "  **kwargs)\n",
      "/home/ubuntu/miniconda3/envs/cell-painting-vae/lib/python3.7/site-packages/numpy/core/_methods.py:226: RuntimeWarning: invalid value encountered in double_scalars\n",
      "  ret = ret.dtype.type(ret / rcount)\n"
     ]
    }
   ],
   "source": [
    "L2_vae_per_dose, L2_vae, L2_vae_random, moa_dose_vae, per_moa_pvalues_vae, per_moa_tstat_vae = calculate_L2_distances(predictions_vae, predictions_vae_random)\n",
    "L2_pca_per_dose, L2_pca, L2_pca_random, moa_dose_pca, per_moa_pvalues_pca, per_moa_tstat_pca = calculate_L2_distances(predictions_pca, predictions_pca_random)\n",
    "L2_complete_per_dose, L2_complete, L2_complete_random, moa_dose_complete, per_moa_pvalues_complete, per_moa_tstat_complete = calculate_L2_distances(predictions_complete, predictions_complete_random)"
   ]
  },
  {
   "cell_type": "code",
   "execution_count": 29,
   "metadata": {
    "scrolled": true
   },
   "outputs": [],
   "source": [
    "per_moa_performance_df = pd.DataFrame({\"dose_MOA\":moa_dose_vae,\"vae pvalue\":per_moa_pvalues_vae,\"vae tstat\":per_moa_tstat_vae,\"pca pvalue\":per_moa_pvalues_pca,\"pca tstat\":per_moa_tstat_pca})\n",
    "per_moa_performance_df.to_csv('ttest_per_moa.tsv', sep = '\\t')\n"
   ]
  },
  {
   "cell_type": "code",
   "execution_count": 30,
   "metadata": {
    "scrolled": true
   },
   "outputs": [
    {
     "data": {
      "text/html": [
       "<div>\n",
       "<style scoped>\n",
       "    .dataframe tbody tr th:only-of-type {\n",
       "        vertical-align: middle;\n",
       "    }\n",
       "\n",
       "    .dataframe tbody tr th {\n",
       "        vertical-align: top;\n",
       "    }\n",
       "\n",
       "    .dataframe thead th {\n",
       "        text-align: right;\n",
       "    }\n",
       "</style>\n",
       "<table border=\"1\" class=\"dataframe\">\n",
       "  <thead>\n",
       "    <tr style=\"text-align: right;\">\n",
       "      <th></th>\n",
       "      <th>dose_MOA</th>\n",
       "      <th>vae pvalue</th>\n",
       "      <th>vae tstat</th>\n",
       "      <th>pca pvalue</th>\n",
       "      <th>pca tstat</th>\n",
       "    </tr>\n",
       "  </thead>\n",
       "  <tbody>\n",
       "    <tr>\n",
       "      <th>0</th>\n",
       "      <td>NFkB pathway inhibitor|proteasome inhibitor 0....</td>\n",
       "      <td>NaN</td>\n",
       "      <td>NaN</td>\n",
       "      <td>NaN</td>\n",
       "      <td>NaN</td>\n",
       "    </tr>\n",
       "    <tr>\n",
       "      <th>1</th>\n",
       "      <td>NFkB pathway inhibitor|proteasome inhibitor 0....</td>\n",
       "      <td>NaN</td>\n",
       "      <td>NaN</td>\n",
       "      <td>NaN</td>\n",
       "      <td>NaN</td>\n",
       "    </tr>\n",
       "    <tr>\n",
       "      <th>2</th>\n",
       "      <td>NFkB pathway inhibitor|proteasome inhibitor 0....</td>\n",
       "      <td>NaN</td>\n",
       "      <td>NaN</td>\n",
       "      <td>NaN</td>\n",
       "      <td>NaN</td>\n",
       "    </tr>\n",
       "    <tr>\n",
       "      <th>3</th>\n",
       "      <td>NFkB pathway inhibitor|proteasome inhibitor 1....</td>\n",
       "      <td>NaN</td>\n",
       "      <td>NaN</td>\n",
       "      <td>NaN</td>\n",
       "      <td>NaN</td>\n",
       "    </tr>\n",
       "    <tr>\n",
       "      <th>4</th>\n",
       "      <td>NFkB pathway inhibitor|proteasome inhibitor 10...</td>\n",
       "      <td>NaN</td>\n",
       "      <td>NaN</td>\n",
       "      <td>NaN</td>\n",
       "      <td>NaN</td>\n",
       "    </tr>\n",
       "    <tr>\n",
       "      <th>...</th>\n",
       "      <td>...</td>\n",
       "      <td>...</td>\n",
       "      <td>...</td>\n",
       "      <td>...</td>\n",
       "      <td>...</td>\n",
       "    </tr>\n",
       "    <tr>\n",
       "      <th>496</th>\n",
       "      <td>adenosine reuptake inhibitor|phosphodiesterase...</td>\n",
       "      <td>NaN</td>\n",
       "      <td>NaN</td>\n",
       "      <td>NaN</td>\n",
       "      <td>NaN</td>\n",
       "    </tr>\n",
       "    <tr>\n",
       "      <th>497</th>\n",
       "      <td>adenosine reuptake inhibitor|phosphodiesterase...</td>\n",
       "      <td>NaN</td>\n",
       "      <td>NaN</td>\n",
       "      <td>NaN</td>\n",
       "      <td>NaN</td>\n",
       "    </tr>\n",
       "    <tr>\n",
       "      <th>498</th>\n",
       "      <td>adenosine reuptake inhibitor|phosphodiesterase...</td>\n",
       "      <td>NaN</td>\n",
       "      <td>NaN</td>\n",
       "      <td>NaN</td>\n",
       "      <td>NaN</td>\n",
       "    </tr>\n",
       "    <tr>\n",
       "      <th>499</th>\n",
       "      <td>adenosine reuptake inhibitor|phosphodiesterase...</td>\n",
       "      <td>NaN</td>\n",
       "      <td>NaN</td>\n",
       "      <td>NaN</td>\n",
       "      <td>NaN</td>\n",
       "    </tr>\n",
       "    <tr>\n",
       "      <th>500</th>\n",
       "      <td>adenosine reuptake inhibitor|phosphodiesterase...</td>\n",
       "      <td>NaN</td>\n",
       "      <td>NaN</td>\n",
       "      <td>NaN</td>\n",
       "      <td>NaN</td>\n",
       "    </tr>\n",
       "  </tbody>\n",
       "</table>\n",
       "<p>501 rows × 5 columns</p>\n",
       "</div>"
      ],
      "text/plain": [
       "                                              dose_MOA  vae pvalue  vae tstat  \\\n",
       "0    NFkB pathway inhibitor|proteasome inhibitor 0....         NaN        NaN   \n",
       "1    NFkB pathway inhibitor|proteasome inhibitor 0....         NaN        NaN   \n",
       "2    NFkB pathway inhibitor|proteasome inhibitor 0....         NaN        NaN   \n",
       "3    NFkB pathway inhibitor|proteasome inhibitor 1....         NaN        NaN   \n",
       "4    NFkB pathway inhibitor|proteasome inhibitor 10...         NaN        NaN   \n",
       "..                                                 ...         ...        ...   \n",
       "496  adenosine reuptake inhibitor|phosphodiesterase...         NaN        NaN   \n",
       "497  adenosine reuptake inhibitor|phosphodiesterase...         NaN        NaN   \n",
       "498  adenosine reuptake inhibitor|phosphodiesterase...         NaN        NaN   \n",
       "499  adenosine reuptake inhibitor|phosphodiesterase...         NaN        NaN   \n",
       "500  adenosine reuptake inhibitor|phosphodiesterase...         NaN        NaN   \n",
       "\n",
       "     pca pvalue  pca tstat  \n",
       "0           NaN        NaN  \n",
       "1           NaN        NaN  \n",
       "2           NaN        NaN  \n",
       "3           NaN        NaN  \n",
       "4           NaN        NaN  \n",
       "..          ...        ...  \n",
       "496         NaN        NaN  \n",
       "497         NaN        NaN  \n",
       "498         NaN        NaN  \n",
       "499         NaN        NaN  \n",
       "500         NaN        NaN  \n",
       "\n",
       "[501 rows x 5 columns]"
      ]
     },
     "execution_count": 30,
     "metadata": {},
     "output_type": "execute_result"
    }
   ],
   "source": [
    "per_moa_performance_df = per_moa_performance_df.sort_values('vae tstat')\n",
    "per_moa_performance_df"
   ]
  },
  {
   "cell_type": "code",
   "execution_count": 31,
   "metadata": {
    "scrolled": true
   },
   "outputs": [
    {
     "data": {
      "text/html": [
       "<div>\n",
       "<style scoped>\n",
       "    .dataframe tbody tr th:only-of-type {\n",
       "        vertical-align: middle;\n",
       "    }\n",
       "\n",
       "    .dataframe tbody tr th {\n",
       "        vertical-align: top;\n",
       "    }\n",
       "\n",
       "    .dataframe thead th {\n",
       "        text-align: right;\n",
       "    }\n",
       "</style>\n",
       "<table border=\"1\" class=\"dataframe\">\n",
       "  <thead>\n",
       "    <tr style=\"text-align: right;\">\n",
       "      <th></th>\n",
       "      <th>dose_MOA</th>\n",
       "      <th>vae pvalue</th>\n",
       "      <th>vae tstat</th>\n",
       "      <th>pca pvalue</th>\n",
       "      <th>pca tstat</th>\n",
       "    </tr>\n",
       "  </thead>\n",
       "  <tbody>\n",
       "  </tbody>\n",
       "</table>\n",
       "</div>"
      ],
      "text/plain": [
       "Empty DataFrame\n",
       "Columns: [dose_MOA, vae pvalue, vae tstat, pca pvalue, pca tstat]\n",
       "Index: []"
      ]
     },
     "execution_count": 31,
     "metadata": {},
     "output_type": "execute_result"
    }
   ],
   "source": [
    "well_predicted = per_moa_performance_df[per_moa_performance_df['vae tstat'] < 0]\n",
    "well_predicted.to_csv('well_predicted_level5.csv')\n",
    "well_predicted"
   ]
  },
  {
   "cell_type": "code",
   "execution_count": 32,
   "metadata": {},
   "outputs": [
    {
     "data": {
      "text/plain": [
       "Counter()"
      ]
     },
     "execution_count": 32,
     "metadata": {},
     "output_type": "execute_result"
    }
   ],
   "source": [
    "from collections import Counter\n",
    "Counter(well_predicted.head(20).dose_MOA.str.slice(0,4).to_list())"
   ]
  },
  {
   "cell_type": "code",
   "execution_count": 33,
   "metadata": {
    "scrolled": true
   },
   "outputs": [],
   "source": [
    "L2_vae_df = pd.DataFrame(L2_vae, columns = ['VAE Unshuffled'])\n",
    "L2_vae_random_df = pd.DataFrame(L2_vae_random, columns = ['VAE Shuffled'])\n",
    "L2_pca_df = pd.DataFrame(L2_pca, columns = ['PCA Unshuffled'])\n",
    "L2_pca_random_df = pd.DataFrame(L2_pca_random, columns = ['PCA Shuffled'])\n",
    "L2_complete_df = pd.DataFrame(L2_complete, columns = ['Complete Unshuffled'])\n",
    "L2_complete_random_df = pd.DataFrame(L2_complete_random, columns = ['Complete Shuffled'])\n",
    "L2_df = pd.concat([L2_vae_df, L2_vae_random_df, L2_pca_df, L2_pca_random_df, L2_complete_df, L2_complete_random_df], ignore_index = True, axis = 1)\n",
    "L2_df.columns = ['VAE Unshuffled','VAE Shuffled','PCA Unshuffled','PCA Shuffled','Complete Unshuffled','Complete Shuffled']\n",
    "L2_df.to_csv('L2_general.tsv', sep = '\\t')"
   ]
  },
  {
   "cell_type": "code",
   "execution_count": 34,
   "metadata": {
    "scrolled": true
   },
   "outputs": [
    {
     "data": {
      "image/png": "[encoded data removed]",
      "text/plain": [
       "<Figure size 1080x720 with 1 Axes>"
      ]
     },
     "metadata": {
      "needs_background": "light"
     },
     "output_type": "display_data"
    }
   ],
   "source": [
    "import matplotlib.ticker as plticker\n",
    "\n",
    "fig, ax = plt.subplots(figsize=(15, 10))\n",
    "ax = seaborn.violinplot(data = L2_df)\n",
    "ax.set(ylabel = \"L2 Distance\")\n",
    "plt.grid()\n",
    "\n",
    "plt.show()"
   ]
  },
  {
   "cell_type": "code",
   "execution_count": 35,
   "metadata": {},
   "outputs": [
    {
     "data": {
      "text/html": [
       "<div>\n",
       "<style scoped>\n",
       "    .dataframe tbody tr th:only-of-type {\n",
       "        vertical-align: middle;\n",
       "    }\n",
       "\n",
       "    .dataframe tbody tr th {\n",
       "        vertical-align: top;\n",
       "    }\n",
       "\n",
       "    .dataframe thead th {\n",
       "        text-align: right;\n",
       "    }\n",
       "</style>\n",
       "<table border=\"1\" class=\"dataframe\">\n",
       "  <thead>\n",
       "    <tr style=\"text-align: right;\">\n",
       "      <th></th>\n",
       "      <th>VAE Unshuffled</th>\n",
       "      <th>VAE Shuffled</th>\n",
       "      <th>PCA Unshuffled</th>\n",
       "      <th>PCA Shuffled</th>\n",
       "      <th>Complete Unshuffled</th>\n",
       "      <th>Complete Shuffled</th>\n",
       "    </tr>\n",
       "  </thead>\n",
       "  <tbody>\n",
       "    <tr>\n",
       "      <th>count</th>\n",
       "      <td>501.000000</td>\n",
       "      <td>501.000000</td>\n",
       "      <td>501.000000</td>\n",
       "      <td>501.000000</td>\n",
       "      <td>501.000000</td>\n",
       "      <td>501.000000</td>\n",
       "    </tr>\n",
       "    <tr>\n",
       "      <th>mean</th>\n",
       "      <td>18.508572</td>\n",
       "      <td>18.614942</td>\n",
       "      <td>20.962399</td>\n",
       "      <td>21.810026</td>\n",
       "      <td>23.206206</td>\n",
       "      <td>24.006303</td>\n",
       "    </tr>\n",
       "    <tr>\n",
       "      <th>std</th>\n",
       "      <td>12.113284</td>\n",
       "      <td>13.007511</td>\n",
       "      <td>11.111281</td>\n",
       "      <td>11.935111</td>\n",
       "      <td>11.278679</td>\n",
       "      <td>11.825596</td>\n",
       "    </tr>\n",
       "    <tr>\n",
       "      <th>min</th>\n",
       "      <td>4.895227</td>\n",
       "      <td>5.075052</td>\n",
       "      <td>5.194548</td>\n",
       "      <td>6.249210</td>\n",
       "      <td>6.287123</td>\n",
       "      <td>8.248601</td>\n",
       "    </tr>\n",
       "    <tr>\n",
       "      <th>25%</th>\n",
       "      <td>12.855607</td>\n",
       "      <td>12.883560</td>\n",
       "      <td>14.856605</td>\n",
       "      <td>15.910802</td>\n",
       "      <td>16.870392</td>\n",
       "      <td>17.636059</td>\n",
       "    </tr>\n",
       "    <tr>\n",
       "      <th>50%</th>\n",
       "      <td>15.187542</td>\n",
       "      <td>15.092087</td>\n",
       "      <td>18.116755</td>\n",
       "      <td>18.714651</td>\n",
       "      <td>20.906480</td>\n",
       "      <td>21.340944</td>\n",
       "    </tr>\n",
       "    <tr>\n",
       "      <th>75%</th>\n",
       "      <td>19.457825</td>\n",
       "      <td>18.724070</td>\n",
       "      <td>23.154206</td>\n",
       "      <td>23.142019</td>\n",
       "      <td>26.186522</td>\n",
       "      <td>26.082392</td>\n",
       "    </tr>\n",
       "    <tr>\n",
       "      <th>max</th>\n",
       "      <td>148.636840</td>\n",
       "      <td>147.982807</td>\n",
       "      <td>148.048873</td>\n",
       "      <td>143.426222</td>\n",
       "      <td>148.248666</td>\n",
       "      <td>143.884971</td>\n",
       "    </tr>\n",
       "  </tbody>\n",
       "</table>\n",
       "</div>"
      ],
      "text/plain": [
       "       VAE Unshuffled  VAE Shuffled  PCA Unshuffled  PCA Shuffled  \\\n",
       "count      501.000000    501.000000      501.000000    501.000000   \n",
       "mean        18.508572     18.614942       20.962399     21.810026   \n",
       "std         12.113284     13.007511       11.111281     11.935111   \n",
       "min          4.895227      5.075052        5.194548      6.249210   \n",
       "25%         12.855607     12.883560       14.856605     15.910802   \n",
       "50%         15.187542     15.092087       18.116755     18.714651   \n",
       "75%         19.457825     18.724070       23.154206     23.142019   \n",
       "max        148.636840    147.982807      148.048873    143.426222   \n",
       "\n",
       "       Complete Unshuffled  Complete Shuffled  \n",
       "count           501.000000         501.000000  \n",
       "mean             23.206206          24.006303  \n",
       "std              11.278679          11.825596  \n",
       "min               6.287123           8.248601  \n",
       "25%              16.870392          17.636059  \n",
       "50%              20.906480          21.340944  \n",
       "75%              26.186522          26.082392  \n",
       "max             148.248666         143.884971  "
      ]
     },
     "execution_count": 35,
     "metadata": {},
     "output_type": "execute_result"
    }
   ],
   "source": [
    "L2_df.describe()"
   ]
  },
  {
   "cell_type": "code",
   "execution_count": 36,
   "metadata": {},
   "outputs": [
    {
     "name": "stdout",
     "output_type": "stream",
     "text": [
      "Ttest_indResult(statistic=-0.13395124668758265, pvalue=0.8934680788941768)\n",
      "Ttest_indResult(statistic=-1.1634790517748246, pvalue=0.2449127299464227)\n",
      "Ttest_indResult(statistic=-1.095878716570985, pvalue=0.2733957032949023)\n"
     ]
    }
   ],
   "source": [
    "# computing a 2-tailed 2-sample t-test. In the paper, we compute the one-tailed p-value by dividing the follwing p-value by 2\n",
    "print(ttest_ind(L2_df['VAE Unshuffled'].dropna(), L2_df['VAE Shuffled']))\n",
    "print(ttest_ind(L2_df['PCA Unshuffled'].dropna(), L2_df['PCA Shuffled']))\n",
    "print(ttest_ind(L2_df['Complete Unshuffled'].dropna(), L2_df['Complete Shuffled']))\n",
    "#1.29\n"
   ]
  },
  {
   "cell_type": "code",
   "execution_count": 37,
   "metadata": {
    "scrolled": true
   },
   "outputs": [
    {
     "data": {
      "image/png": "[encoded data removed]",
      "text/plain": [
       "<Figure size 1080x720 with 1 Axes>"
      ]
     },
     "metadata": {
      "needs_background": "light"
     },
     "output_type": "display_data"
    }
   ],
   "source": [
    "L2_vae_per_dose_df = pd.DataFrame.from_dict(L2_vae_per_dose, orient='index').transpose()\n",
    "fig, ax = plt.subplots(figsize=(15, 10))\n",
    "ax = seaborn.violinplot(data = L2_vae_per_dose_df)\n",
    "ax.set(ylabel = \"L2 Distance\")\n",
    "plt.grid()\n",
    "\n",
    "plt.show()"
   ]
  },
  {
   "cell_type": "code",
   "execution_count": 38,
   "metadata": {},
   "outputs": [
    {
     "data": {
      "text/html": [
       "<div>\n",
       "<style scoped>\n",
       "    .dataframe tbody tr th:only-of-type {\n",
       "        vertical-align: middle;\n",
       "    }\n",
       "\n",
       "    .dataframe tbody tr th {\n",
       "        vertical-align: top;\n",
       "    }\n",
       "\n",
       "    .dataframe thead th {\n",
       "        text-align: right;\n",
       "    }\n",
       "</style>\n",
       "<table border=\"1\" class=\"dataframe\">\n",
       "  <thead>\n",
       "    <tr style=\"text-align: right;\">\n",
       "      <th></th>\n",
       "      <th>0.04 um</th>\n",
       "      <th>0.12 um</th>\n",
       "      <th>0.37 um</th>\n",
       "      <th>1.11 um</th>\n",
       "      <th>10.0 um</th>\n",
       "      <th>3.33 um</th>\n",
       "    </tr>\n",
       "  </thead>\n",
       "  <tbody>\n",
       "    <tr>\n",
       "      <th>count</th>\n",
       "      <td>85.000000</td>\n",
       "      <td>84.000000</td>\n",
       "      <td>83.000000</td>\n",
       "      <td>83.000000</td>\n",
       "      <td>83.000000</td>\n",
       "      <td>83.000000</td>\n",
       "    </tr>\n",
       "    <tr>\n",
       "      <th>mean</th>\n",
       "      <td>16.584607</td>\n",
       "      <td>17.218086</td>\n",
       "      <td>15.464825</td>\n",
       "      <td>17.840933</td>\n",
       "      <td>24.867975</td>\n",
       "      <td>19.136913</td>\n",
       "    </tr>\n",
       "    <tr>\n",
       "      <th>std</th>\n",
       "      <td>10.040050</td>\n",
       "      <td>15.724753</td>\n",
       "      <td>6.276746</td>\n",
       "      <td>9.239483</td>\n",
       "      <td>15.949346</td>\n",
       "      <td>10.261918</td>\n",
       "    </tr>\n",
       "    <tr>\n",
       "      <th>min</th>\n",
       "      <td>4.895227</td>\n",
       "      <td>5.302800</td>\n",
       "      <td>5.740975</td>\n",
       "      <td>6.134929</td>\n",
       "      <td>6.903832</td>\n",
       "      <td>6.118791</td>\n",
       "    </tr>\n",
       "    <tr>\n",
       "      <th>25%</th>\n",
       "      <td>12.707705</td>\n",
       "      <td>12.356963</td>\n",
       "      <td>12.208005</td>\n",
       "      <td>12.937271</td>\n",
       "      <td>14.546424</td>\n",
       "      <td>13.093785</td>\n",
       "    </tr>\n",
       "    <tr>\n",
       "      <th>50%</th>\n",
       "      <td>14.224739</td>\n",
       "      <td>14.591143</td>\n",
       "      <td>13.649381</td>\n",
       "      <td>15.325785</td>\n",
       "      <td>19.126469</td>\n",
       "      <td>15.908025</td>\n",
       "    </tr>\n",
       "    <tr>\n",
       "      <th>75%</th>\n",
       "      <td>17.745470</td>\n",
       "      <td>17.047963</td>\n",
       "      <td>17.668475</td>\n",
       "      <td>18.213120</td>\n",
       "      <td>27.698295</td>\n",
       "      <td>20.171692</td>\n",
       "    </tr>\n",
       "    <tr>\n",
       "      <th>max</th>\n",
       "      <td>73.461776</td>\n",
       "      <td>148.636840</td>\n",
       "      <td>41.088413</td>\n",
       "      <td>56.083355</td>\n",
       "      <td>90.571643</td>\n",
       "      <td>60.715690</td>\n",
       "    </tr>\n",
       "  </tbody>\n",
       "</table>\n",
       "</div>"
      ],
      "text/plain": [
       "         0.04 um     0.12 um    0.37 um    1.11 um    10.0 um    3.33 um\n",
       "count  85.000000   84.000000  83.000000  83.000000  83.000000  83.000000\n",
       "mean   16.584607   17.218086  15.464825  17.840933  24.867975  19.136913\n",
       "std    10.040050   15.724753   6.276746   9.239483  15.949346  10.261918\n",
       "min     4.895227    5.302800   5.740975   6.134929   6.903832   6.118791\n",
       "25%    12.707705   12.356963  12.208005  12.937271  14.546424  13.093785\n",
       "50%    14.224739   14.591143  13.649381  15.325785  19.126469  15.908025\n",
       "75%    17.745470   17.047963  17.668475  18.213120  27.698295  20.171692\n",
       "max    73.461776  148.636840  41.088413  56.083355  90.571643  60.715690"
      ]
     },
     "execution_count": 38,
     "metadata": {},
     "output_type": "execute_result"
    }
   ],
   "source": [
    "L2_vae_per_dose_df.describe()"
   ]
  }
 ],
 "metadata": {
  "kernelspec": {
   "display_name": "Python 3",
   "language": "python",
   "name": "python3"
  },
  "language_info": {
   "codemirror_mode": {
    "name": "ipython",
    "version": 3
   },
   "file_extension": ".py",
   "mimetype": "text/x-python",
   "name": "python",
   "nbconvert_exporter": "python",
   "pygments_lexer": "ipython3",
   "version": "3.7.10"
  }
 },
 "nbformat": 4,
 "nbformat_minor": 4
}
