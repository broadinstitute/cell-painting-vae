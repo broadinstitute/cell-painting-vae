{
 "cells": [
  {
   "cell_type": "code",
   "execution_count": 1,
   "id": "dramatic-endorsement",
   "metadata": {},
   "outputs": [],
   "source": [
    "import pandas as pd\n",
    "import sys\n",
    "sys.path.insert(0, \"../../scripts\")\n",
    "from utils import load_data, infer_L1000_features"
   ]
  },
  {
   "cell_type": "code",
   "execution_count": 2,
   "id": "f1d490c6",
   "metadata": {},
   "outputs": [],
   "source": [
    "folder = 'latentSpaces'"
   ]
  },
  {
   "cell_type": "code",
   "execution_count": 4,
   "id": "4d16c662",
   "metadata": {},
   "outputs": [],
   "source": [
    "data_splits = [\"complete\"]\n",
    "complete_df = load_data(data_splits, dataset='L1000')['complete']\n",
    "meta_columns = infer_L1000_features(complete_df, metadata = True)"
   ]
  },
  {
   "cell_type": "code",
   "execution_count": 6,
   "id": "a897e93a",
   "metadata": {},
   "outputs": [],
   "source": [
    "vaes = ['','_mmd','_vanilla']"
   ]
  },
  {
   "cell_type": "code",
   "execution_count": 7,
   "id": "forced-trace",
   "metadata": {},
   "outputs": [],
   "source": [
    "for vae in vaes:\n",
    "    latent_df = pd.read_csv(f'latentTwoLayer{vae}.csv').drop('Unnamed: 0', axis = 1)\n",
    "    combined_df = pd.concat([complete_df[meta_columns], latent_df], axis = 1)\n",
    "    if vae == '':\n",
    "        vae = '_beta'\n",
    "    combined_df.to_csv(folder + f'/L1000Latent{vae}_metadata.csv', index = False)"
   ]
  }
 ],
 "metadata": {
  "kernelspec": {
   "display_name": "Python 3",
   "language": "python",
   "name": "python3"
  },
  "language_info": {
   "codemirror_mode": {
    "name": "ipython",
    "version": 3
   },
   "file_extension": ".py",
   "mimetype": "text/x-python",
   "name": "python",
   "nbconvert_exporter": "python",
   "pygments_lexer": "ipython3",
   "version": "3.7.10"
  }
 },
 "nbformat": 4,
 "nbformat_minor": 5
}
