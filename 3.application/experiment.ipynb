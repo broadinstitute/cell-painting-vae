{
 "cells": [
  {
   "cell_type": "code",
   "execution_count": 1,
   "metadata": {},
   "outputs": [
    {
     "name": "stderr",
     "output_type": "stream",
     "text": [
      "/home/ubuntu/miniconda3/envs/cell-painting-vae/lib/python3.6/site-packages/tensorflow/python/framework/dtypes.py:526: FutureWarning: Passing (type, 1) or '1type' as a synonym of type is deprecated; in a future version of numpy, it will be understood as (type, (1,)) / '(1,)type'.\n",
      "  _np_qint8 = np.dtype([(\"qint8\", np.int8, 1)])\n",
      "/home/ubuntu/miniconda3/envs/cell-painting-vae/lib/python3.6/site-packages/tensorflow/python/framework/dtypes.py:527: FutureWarning: Passing (type, 1) or '1type' as a synonym of type is deprecated; in a future version of numpy, it will be understood as (type, (1,)) / '(1,)type'.\n",
      "  _np_quint8 = np.dtype([(\"quint8\", np.uint8, 1)])\n",
      "/home/ubuntu/miniconda3/envs/cell-painting-vae/lib/python3.6/site-packages/tensorflow/python/framework/dtypes.py:528: FutureWarning: Passing (type, 1) or '1type' as a synonym of type is deprecated; in a future version of numpy, it will be understood as (type, (1,)) / '(1,)type'.\n",
      "  _np_qint16 = np.dtype([(\"qint16\", np.int16, 1)])\n",
      "/home/ubuntu/miniconda3/envs/cell-painting-vae/lib/python3.6/site-packages/tensorflow/python/framework/dtypes.py:529: FutureWarning: Passing (type, 1) or '1type' as a synonym of type is deprecated; in a future version of numpy, it will be understood as (type, (1,)) / '(1,)type'.\n",
      "  _np_quint16 = np.dtype([(\"quint16\", np.uint16, 1)])\n",
      "/home/ubuntu/miniconda3/envs/cell-painting-vae/lib/python3.6/site-packages/tensorflow/python/framework/dtypes.py:530: FutureWarning: Passing (type, 1) or '1type' as a synonym of type is deprecated; in a future version of numpy, it will be understood as (type, (1,)) / '(1,)type'.\n",
      "  _np_qint32 = np.dtype([(\"qint32\", np.int32, 1)])\n",
      "/home/ubuntu/miniconda3/envs/cell-painting-vae/lib/python3.6/site-packages/tensorflow/python/framework/dtypes.py:535: FutureWarning: Passing (type, 1) or '1type' as a synonym of type is deprecated; in a future version of numpy, it will be understood as (type, (1,)) / '(1,)type'.\n",
      "  np_resource = np.dtype([(\"resource\", np.ubyte, 1)])\n"
     ]
    }
   ],
   "source": [
    "import numpy as np\n",
    "import pandas as pd\n",
    "from tensorflow import keras\n",
    "from pycytominer.cyto_utils import infer_cp_features\n",
    "import sys\n",
    "import matplotlib.pyplot as plt\n",
    "sys.path.insert(0, \"../scripts\")\n",
    "from utils import load_data\n",
    "from scipy.stats import pearsonr, ttest_ind\n",
    "import seaborn"
   ]
  },
  {
   "cell_type": "code",
   "execution_count": 2,
   "metadata": {},
   "outputs": [],
   "source": [
    "np.random.seed(82)"
   ]
  },
  {
   "cell_type": "code",
   "execution_count": 3,
   "metadata": {},
   "outputs": [],
   "source": [
    "data_dict = load_data([\"complete\"])\n",
    "meta_features = infer_cp_features(data_dict[\"complete\"], metadata=True)\n",
    "cp_features = infer_cp_features(data_dict[\"complete\"])\n",
    "\n",
    "complete_features_df = data_dict[\"complete\"].reindex(cp_features, axis=\"columns\")\n",
    "complete_meta_df = data_dict[\"complete\"].reindex(meta_features, axis=\"columns\")"
   ]
  },
  {
   "cell_type": "code",
   "execution_count": 4,
   "metadata": {},
   "outputs": [
    {
     "data": {
      "text/html": [
       "<div>\n",
       "<style scoped>\n",
       "    .dataframe tbody tr th:only-of-type {\n",
       "        vertical-align: middle;\n",
       "    }\n",
       "\n",
       "    .dataframe tbody tr th {\n",
       "        vertical-align: top;\n",
       "    }\n",
       "\n",
       "    .dataframe thead th {\n",
       "        text-align: right;\n",
       "    }\n",
       "</style>\n",
       "<table border=\"1\" class=\"dataframe\">\n",
       "  <thead>\n",
       "    <tr style=\"text-align: right;\">\n",
       "      <th></th>\n",
       "      <th>random_moa_labels</th>\n",
       "    </tr>\n",
       "  </thead>\n",
       "  <tbody>\n",
       "    <tr>\n",
       "      <th>0</th>\n",
       "      <td>NaN</td>\n",
       "    </tr>\n",
       "    <tr>\n",
       "      <th>1</th>\n",
       "      <td>aromatase inhibitor</td>\n",
       "    </tr>\n",
       "    <tr>\n",
       "      <th>2</th>\n",
       "      <td>MEK inhibitor</td>\n",
       "    </tr>\n",
       "    <tr>\n",
       "      <th>3</th>\n",
       "      <td>CCK receptor antagonist</td>\n",
       "    </tr>\n",
       "    <tr>\n",
       "      <th>4</th>\n",
       "      <td>serotonin receptor agonist</td>\n",
       "    </tr>\n",
       "    <tr>\n",
       "      <th>...</th>\n",
       "      <td>...</td>\n",
       "    </tr>\n",
       "    <tr>\n",
       "      <th>10363</th>\n",
       "      <td>dopamine receptor antagonist|serotonin recepto...</td>\n",
       "    </tr>\n",
       "    <tr>\n",
       "      <th>10364</th>\n",
       "      <td>proteasome inhibitor</td>\n",
       "    </tr>\n",
       "    <tr>\n",
       "      <th>10365</th>\n",
       "      <td>NFkB pathway inhibitor|proteasome inhibitor</td>\n",
       "    </tr>\n",
       "    <tr>\n",
       "      <th>10366</th>\n",
       "      <td>carbonic anhydrase inhibitor</td>\n",
       "    </tr>\n",
       "    <tr>\n",
       "      <th>10367</th>\n",
       "      <td>calmodulin antagonist</td>\n",
       "    </tr>\n",
       "  </tbody>\n",
       "</table>\n",
       "<p>10368 rows × 1 columns</p>\n",
       "</div>"
      ],
      "text/plain": [
       "                                       random_moa_labels\n",
       "0                                                    NaN\n",
       "1                                    aromatase inhibitor\n",
       "2                                          MEK inhibitor\n",
       "3                                CCK receptor antagonist\n",
       "4                             serotonin receptor agonist\n",
       "...                                                  ...\n",
       "10363  dopamine receptor antagonist|serotonin recepto...\n",
       "10364                               proteasome inhibitor\n",
       "10365        NFkB pathway inhibitor|proteasome inhibitor\n",
       "10366                       carbonic anhydrase inhibitor\n",
       "10367                              calmodulin antagonist\n",
       "\n",
       "[10368 rows x 1 columns]"
      ]
     },
     "execution_count": 4,
     "metadata": {},
     "output_type": "execute_result"
    }
   ],
   "source": [
    "latent_df = pd.read_csv(\"latent.csv\").drop(\"Unnamed: 0\", axis = 1)\n",
    "moa_df = pd.read_csv(\"repurposing_info_external_moa_map_resolved.tsv\",sep='\\t').set_index('broad_sample').reindex(index=complete_meta_df['Metadata_broad_sample']).reset_index().drop('Metadata_broad_sample',axis = 1)\n",
    "random_moa_labels = pd.DataFrame([moa_df.moa.sample(frac=1)]).transpose().reset_index().drop('index', axis = 1)\n",
    "random_moa_labels = random_moa_labels.rename(columns={'moa': 'random_moa_labels'})\n",
    "meta_moa_latent_df = pd.concat([complete_meta_df,moa_df,random_moa_labels,latent_df], axis=1)\n",
    "meta_moa_complete_df = pd.concat([complete_meta_df,moa_df,random_moa_labels,complete_features_df], axis=1)\n",
    "meta_moa_latent_df.head()\n",
    "random_moa_labels"
   ]
  },
  {
   "cell_type": "code",
   "execution_count": 5,
   "metadata": {
    "scrolled": true
   },
   "outputs": [
    {
     "data": {
      "text/plain": [
       "Index(['Metadata_Plate_Map_Name', 'Metadata_broad_sample',\n",
       "       'Metadata_pert_well', 'Metadata_mmoles_per_liter',\n",
       "       'Metadata_dose_recode', 'Metadata_unique_id', 'broad_id', 'pert_iname',\n",
       "       'InChIKey14', 'moa', 'target', 'broad_date', 'clinical_phase',\n",
       "       'alternative_moa', 'alternative_target', 'random_moa_labels', '0', '1',\n",
       "       '2', '3', '4'],\n",
       "      dtype='object')"
      ]
     },
     "execution_count": 5,
     "metadata": {},
     "output_type": "execute_result"
    }
   ],
   "source": [
    "meta_moa_latent_df.columns"
   ]
  },
  {
   "cell_type": "code",
   "execution_count": 6,
   "metadata": {},
   "outputs": [],
   "source": [
    "moas_occurrence = pd.read_csv(\"moas_occurrence.tsv\", sep = \"\\t\")\n",
    "moas_occurrence.index = moas_occurrence['moa']\n",
    "moas_occurrence = moas_occurrence.drop('moa', axis = 1)\n",
    "\n",
    "#We only want moa combinations with enough data, so we pick A|B such that there are at least 5 A|B, 5 A, and 5 B.\n",
    "valid_pipes = moas_occurrence[((moas_occurrence != 0).all(axis = 1)) & (moas_occurrence['full moa occurrence'] > 5) & (moas_occurrence['moa1 occurrence'] > 5)& (moas_occurrence['moa2 occurrence'] > 5)].index\n",
    "valid_pipes = valid_pipes[valid_pipes.str.count(\"\\|\") == 1]"
   ]
  },
  {
   "cell_type": "code",
   "execution_count": 7,
   "metadata": {},
   "outputs": [],
   "source": [
    "def subset_by_moa(pipe, df_name, column):\n",
    "    moas = pipe.split(\"|\")\n",
    "    subset_df = pd.concat([df_name[df_name[column] == moas[0]],df_name[df_name[column] == moas[1]]])\n",
    "    return subset_df\n",
    "\n",
    "def LSA(A, B, D):\n",
    "    return A-D+B"
   ]
  },
  {
   "cell_type": "code",
   "execution_count": 8,
   "metadata": {},
   "outputs": [
    {
     "data": {
      "text/plain": [
       "0   -0.036281\n",
       "1    0.011534\n",
       "2    0.343649\n",
       "3    0.006927\n",
       "4   -0.062942\n",
       "dtype: float64"
      ]
     },
     "execution_count": 8,
     "metadata": {},
     "output_type": "execute_result"
    }
   ],
   "source": [
    "#calculate means for each A and B in each A|B.\n",
    "subset_means = []\n",
    "subset_random_means = []\n",
    "valid_pipes_no_error = []\n",
    "for pipe in valid_pipes:\n",
    "    subset = subset_by_moa(pipe, meta_moa_latent_df, 'moa')\n",
    "    subset_random = subset_by_moa(pipe, meta_moa_latent_df, 'random_moa_labels')\n",
    "    subset_mean = subset.groupby(['moa'])[['0','1','2','3','4']].mean()\n",
    "    subset_random_mean = subset_random.groupby(['random_moa_labels'])[['0','1','2','3','4']].mean()\n",
    "    if subset_mean.shape[0] >= 2:\n",
    "        subset_means.append(subset_mean)\n",
    "        valid_pipes_no_error.append(pipe)\n",
    "    if subset_random_mean.shape[0] >= 2:\n",
    "        subset_random_means.append(subset_random_mean)\n",
    "\n",
    "\n",
    "#calculate means for DMSO\n",
    "DMSO = meta_moa_latent_df[meta_moa_latent_df.Metadata_broad_sample == 'DMSO']\n",
    "DMSO_means = np.mean(DMSO[['0','1','2','3','4']])\n",
    "DMSO_means"
   ]
  },
  {
   "cell_type": "code",
   "execution_count": 9,
   "metadata": {},
   "outputs": [],
   "source": [
    "#perform latent space arithmetic\n",
    "representations_after_LSA = []\n",
    "representations_after_LSA_random = []\n",
    "for i in range(len(subset_means)):\n",
    "    representation_after_LSA = LSA(subset_means[i].loc[valid_pipes_no_error[i].split(\"|\")[0]],subset_means[i].loc[valid_pipes_no_error[i].split(\"|\")[1]],DMSO_means)\n",
    "    representation_after_LSA = pd.DataFrame(representation_after_LSA).transpose()\n",
    "    representations_after_LSA.append(representation_after_LSA)\n",
    "    representation_after_LSA_random = LSA(subset_random_means[i].loc[valid_pipes_no_error[i].split(\"|\")[0]],subset_random_means[i].loc[valid_pipes_no_error[i].split(\"|\")[1]],DMSO_means)\n",
    "    representation_after_LSA_random = pd.DataFrame(representation_after_LSA_random).transpose()\n",
    "    representations_after_LSA_random.append(representation_after_LSA_random)"
   ]
  },
  {
   "cell_type": "code",
   "execution_count": 10,
   "metadata": {
    "scrolled": true
   },
   "outputs": [
    {
     "name": "stdout",
     "output_type": "stream",
     "text": [
      "WARNING:tensorflow:From /home/ubuntu/miniconda3/envs/cell-painting-vae/lib/python3.6/site-packages/tensorflow/python/ops/resource_variable_ops.py:435: colocate_with (from tensorflow.python.framework.ops) is deprecated and will be removed in a future version.\n",
      "Instructions for updating:\n",
      "Colocations handled automatically by placer.\n",
      "WARNING:tensorflow:No training configuration found in save file: the model was *not* compiled. Compile it manually.\n"
     ]
    }
   ],
   "source": [
    "#decode each latent space representation\n",
    "decoder = keras.models.load_model(\"../2.train/decoder\")\n",
    "reconstruction = pd.concat([moa_df,random_moa_labels,pd.DataFrame(decoder.predict(latent_df), columns = cp_features)], axis = 1)\n",
    "predictions = []\n",
    "predictions_random = []\n",
    "\n",
    "for i in range(len(representations_after_LSA)):\n",
    "    predictions.append(decoder.predict(representations_after_LSA[i]))\n",
    "    predictions_random.append(decoder.predict(representations_after_LSA_random[i]))\n",
    "predictions = np.array(predictions)\n",
    "predictions_random = np.array(predictions_random)"
   ]
  },
  {
   "cell_type": "code",
   "execution_count": 11,
   "metadata": {
    "scrolled": true
   },
   "outputs": [],
   "source": [
    "#analyze results to see how good each prediction is to the actual value ranked against its distance to the values for other MOAs\n",
    "mean_of_moas = meta_moa_complete_df.groupby(['moa']).mean().loc[:,'Cells_AreaShape_FormFactor':]\n",
    "performance_all_combo = []\n",
    "performance_all_combo_random = []\n",
    "\n",
    "for i in range(len(predictions)):\n",
    "    L2_distances = []\n",
    "    L2_distances_random = []\n",
    "    moas = []\n",
    "    for j in range(len(mean_of_moas)):\n",
    "        L2_distances.append(np.linalg.norm(mean_of_moas.iloc[j] - predictions[i][0]))\n",
    "        L2_distances_random.append(np.linalg.norm(mean_of_moas.iloc[j] - predictions_random[i][0]))\n",
    "        moas.append(mean_of_moas.index[j])\n",
    "    L2_distances = pd.DataFrame(L2_distances, columns = [\"distance\"])\n",
    "    L2_distances['moa'] = moas\n",
    "    L2_distances_random = pd.DataFrame(L2_distances_random, columns = [\"distance\"])\n",
    "    L2_distances_random['moa'] = moas\n",
    "    sorted_L2_distances = L2_distances.sort_values('distance').reset_index(drop = True)\n",
    "    sorted_L2_distances_random = L2_distances_random.sort_values('distance').reset_index(drop = True)\n",
    "    performance_all_combo.append(sorted_L2_distances[sorted_L2_distances.moa == valid_pipes_no_error[i]])\n",
    "    performance_all_combo_random.append(sorted_L2_distances_random[sorted_L2_distances_random.moa == valid_pipes_no_error[i]])"
   ]
  },
  {
   "cell_type": "code",
   "execution_count": 12,
   "metadata": {
    "scrolled": true
   },
   "outputs": [],
   "source": [
    "rankings = []\n",
    "rankings_random = []\n",
    "for i in range(len(performance_all_combo)):\n",
    "    rankings.append(performance_all_combo[i].index[0])\n",
    "    rankings_random.append(performance_all_combo_random[i].index[0])"
   ]
  },
  {
   "cell_type": "code",
   "execution_count": 13,
   "metadata": {},
   "outputs": [
    {
     "data": {
      "image/png": "[encoded data removed]",
      "text/plain": [
       "<Figure size 936x360 with 1 Axes>"
      ]
     },
     "metadata": {
      "needs_background": "light"
     },
     "output_type": "display_data"
    }
   ],
   "source": [
    "fig, ax = plt.subplots(figsize=(13, 5))\n",
    "plt.hist(rankings_random, alpha = 0.5, label = \"Shuffled\")\n",
    "plt.hist(rankings, alpha = 0.5, label = \"Unshuffled\")\n",
    "plt.legend()\n",
    "plt.xlabel('Ranking')\n",
    "plt.show()"
   ]
  },
  {
   "cell_type": "code",
   "execution_count": 14,
   "metadata": {},
   "outputs": [
    {
     "data": {
      "text/html": [
       "<div>\n",
       "<style scoped>\n",
       "    .dataframe tbody tr th:only-of-type {\n",
       "        vertical-align: middle;\n",
       "    }\n",
       "\n",
       "    .dataframe tbody tr th {\n",
       "        vertical-align: top;\n",
       "    }\n",
       "\n",
       "    .dataframe thead th {\n",
       "        text-align: right;\n",
       "    }\n",
       "</style>\n",
       "<table border=\"1\" class=\"dataframe\">\n",
       "  <thead>\n",
       "    <tr style=\"text-align: right;\">\n",
       "      <th></th>\n",
       "      <th>distance</th>\n",
       "      <th>moa</th>\n",
       "    </tr>\n",
       "  </thead>\n",
       "  <tbody>\n",
       "    <tr>\n",
       "      <th>2</th>\n",
       "      <td>0.320376</td>\n",
       "      <td>cyclooxygenase inhibitor|prostanoid receptor a...</td>\n",
       "    </tr>\n",
       "    <tr>\n",
       "      <th>3</th>\n",
       "      <td>2.385447</td>\n",
       "      <td>NFkB pathway inhibitor|proteasome inhibitor</td>\n",
       "    </tr>\n",
       "    <tr>\n",
       "      <th>5</th>\n",
       "      <td>0.294806</td>\n",
       "      <td>dopamine receptor antagonist|serotonin recepto...</td>\n",
       "    </tr>\n",
       "    <tr>\n",
       "      <th>28</th>\n",
       "      <td>0.983759</td>\n",
       "      <td>opioid receptor agonist|opioid receptor antago...</td>\n",
       "    </tr>\n",
       "    <tr>\n",
       "      <th>36</th>\n",
       "      <td>0.523466</td>\n",
       "      <td>FGFR inhibitor|VEGFR inhibitor</td>\n",
       "    </tr>\n",
       "    <tr>\n",
       "      <th>...</th>\n",
       "      <td>...</td>\n",
       "      <td>...</td>\n",
       "    </tr>\n",
       "    <tr>\n",
       "      <th>563</th>\n",
       "      <td>3.189039</td>\n",
       "      <td>dehydrogenase inhibitor|inositol monophosphata...</td>\n",
       "    </tr>\n",
       "    <tr>\n",
       "      <th>575</th>\n",
       "      <td>3.249705</td>\n",
       "      <td>DNA alkylating agent|DNA synthesis inhibitor</td>\n",
       "    </tr>\n",
       "    <tr>\n",
       "      <th>578</th>\n",
       "      <td>3.291789</td>\n",
       "      <td>SRC inhibitor|tubulin polymerization inhibitor</td>\n",
       "    </tr>\n",
       "    <tr>\n",
       "      <th>584</th>\n",
       "      <td>3.905597</td>\n",
       "      <td>microtubule inhibitor|tubulin polymerization i...</td>\n",
       "    </tr>\n",
       "    <tr>\n",
       "      <th>588</th>\n",
       "      <td>4.512147</td>\n",
       "      <td>Aurora kinase inhibitor|JAK inhibitor</td>\n",
       "    </tr>\n",
       "  </tbody>\n",
       "</table>\n",
       "<p>84 rows × 2 columns</p>\n",
       "</div>"
      ],
      "text/plain": [
       "     distance                                                moa\n",
       "2    0.320376  cyclooxygenase inhibitor|prostanoid receptor a...\n",
       "3    2.385447        NFkB pathway inhibitor|proteasome inhibitor\n",
       "5    0.294806  dopamine receptor antagonist|serotonin recepto...\n",
       "28   0.983759  opioid receptor agonist|opioid receptor antago...\n",
       "36   0.523466                     FGFR inhibitor|VEGFR inhibitor\n",
       "..        ...                                                ...\n",
       "563  3.189039  dehydrogenase inhibitor|inositol monophosphata...\n",
       "575  3.249705       DNA alkylating agent|DNA synthesis inhibitor\n",
       "578  3.291789     SRC inhibitor|tubulin polymerization inhibitor\n",
       "584  3.905597  microtubule inhibitor|tubulin polymerization i...\n",
       "588  4.512147              Aurora kinase inhibitor|JAK inhibitor\n",
       "\n",
       "[84 rows x 2 columns]"
      ]
     },
     "execution_count": 14,
     "metadata": {},
     "output_type": "execute_result"
    }
   ],
   "source": [
    "#to see which MOA combo performed the best\n",
    "ranking_moa = pd.DataFrame()\n",
    "for i in range(len(performance_all_combo)):\n",
    "    ranking_moa = ranking_moa.append(performance_all_combo[i])\n",
    "ranking_moa.sort_index()"
   ]
  },
  {
   "cell_type": "code",
   "execution_count": 15,
   "metadata": {},
   "outputs": [
    {
     "name": "stdout",
     "output_type": "stream",
     "text": [
      "316.95238095238096\n",
      "337.2142857142857\n"
     ]
    }
   ],
   "source": [
    "print(np.mean(rankings))\n",
    "print(np.mean(rankings_random))"
   ]
  },
  {
   "cell_type": "code",
   "execution_count": 16,
   "metadata": {
    "scrolled": true
   },
   "outputs": [
    {
     "data": {
      "image/png": "[encoded data removed]",
      "text/plain": [
       "<Figure size 720x720 with 1 Axes>"
      ]
     },
     "metadata": {
      "needs_background": "light"
     },
     "output_type": "display_data"
    }
   ],
   "source": [
    "L2 = []\n",
    "L2_random = []\n",
    "for i in range(len(valid_pipes)):\n",
    "    desired_moa = np.array(mean_of_moas[mean_of_moas.index == valid_pipes[i]])\n",
    "    L2.append(np.linalg.norm(predictions[i][0]-desired_moa[0]))\n",
    "    L2_random.append(np.linalg.norm(predictions_random[i][0]-desired_moa[0]))\n",
    "    \n",
    "fig, ax = plt.subplots(figsize=(10, 10))\n",
    "plt.rcParams.update({'font.size': 18})\n",
    "ax = plt.hist(L2_random, alpha = 0.7, label = \"random model\")\n",
    "plt.hist(L2, alpha = 0.7, label = \"real model\")\n",
    "plt.legend()\n",
    "plt.title('L2 Distance for random vs real model')\n",
    "plt.xlabel('L2 Distance')\n",
    "plt.show()"
   ]
  },
  {
   "cell_type": "code",
   "execution_count": 17,
   "metadata": {},
   "outputs": [
    {
     "data": {
      "image/png": "[encoded data removed]",
      "text/plain": [
       "<Figure size 720x720 with 1 Axes>"
      ]
     },
     "metadata": {
      "needs_background": "light"
     },
     "output_type": "display_data"
    }
   ],
   "source": [
    "fig, ax = plt.subplots(figsize=(10, 10))\n",
    "plt.scatter(L2_random,L2)\n",
    "plt.style.use('seaborn-whitegrid')\n",
    "x = np.linspace(0, 6, 1000)\n",
    "plt.plot(x,x, c = \"r\", linestyle = \"--\")\n",
    "plt.xlabel('Random model L2')\n",
    "plt.ylabel('Real model L2')\n",
    "plt.axis('equal')\n",
    "plt.show()"
   ]
  },
  {
   "cell_type": "code",
   "execution_count": 18,
   "metadata": {},
   "outputs": [
    {
     "data": {
      "image/png": "[encoded data removed]",
      "text/plain": [
       "<Figure size 720x360 with 1 Axes>"
      ]
     },
     "metadata": {},
     "output_type": "display_data"
    }
   ],
   "source": [
    "L2_df = pd.DataFrame()\n",
    "L2_df['Shuffled MOAs'] = L2_random\n",
    "L2_df['Unshuffled MOAs'] = L2\n",
    "fig, ax = plt.subplots(figsize=(10, 5))\n",
    "ax = seaborn.violinplot(data = L2_df)\n",
    "ax.set(ylabel = \"L2 Distance\")\n",
    "plt.show()"
   ]
  },
  {
   "cell_type": "code",
   "execution_count": 19,
   "metadata": {},
   "outputs": [
    {
     "data": {
      "text/html": [
       "<div>\n",
       "<style scoped>\n",
       "    .dataframe tbody tr th:only-of-type {\n",
       "        vertical-align: middle;\n",
       "    }\n",
       "\n",
       "    .dataframe tbody tr th {\n",
       "        vertical-align: top;\n",
       "    }\n",
       "\n",
       "    .dataframe thead th {\n",
       "        text-align: right;\n",
       "    }\n",
       "</style>\n",
       "<table border=\"1\" class=\"dataframe\">\n",
       "  <thead>\n",
       "    <tr style=\"text-align: right;\">\n",
       "      <th></th>\n",
       "      <th>Shuffled MOAs</th>\n",
       "      <th>Unshuffled MOAs</th>\n",
       "    </tr>\n",
       "  </thead>\n",
       "  <tbody>\n",
       "    <tr>\n",
       "      <th>count</th>\n",
       "      <td>84.000000</td>\n",
       "      <td>84.000000</td>\n",
       "    </tr>\n",
       "    <tr>\n",
       "      <th>mean</th>\n",
       "      <td>1.773604</td>\n",
       "      <td>1.350408</td>\n",
       "    </tr>\n",
       "    <tr>\n",
       "      <th>std</th>\n",
       "      <td>0.871135</td>\n",
       "      <td>0.817414</td>\n",
       "    </tr>\n",
       "    <tr>\n",
       "      <th>min</th>\n",
       "      <td>0.691675</td>\n",
       "      <td>0.294806</td>\n",
       "    </tr>\n",
       "    <tr>\n",
       "      <th>25%</th>\n",
       "      <td>1.240814</td>\n",
       "      <td>0.848405</td>\n",
       "    </tr>\n",
       "    <tr>\n",
       "      <th>50%</th>\n",
       "      <td>1.575906</td>\n",
       "      <td>1.083596</td>\n",
       "    </tr>\n",
       "    <tr>\n",
       "      <th>75%</th>\n",
       "      <td>2.069041</td>\n",
       "      <td>1.508322</td>\n",
       "    </tr>\n",
       "    <tr>\n",
       "      <th>max</th>\n",
       "      <td>4.923266</td>\n",
       "      <td>4.512147</td>\n",
       "    </tr>\n",
       "  </tbody>\n",
       "</table>\n",
       "</div>"
      ],
      "text/plain": [
       "       Shuffled MOAs  Unshuffled MOAs\n",
       "count      84.000000        84.000000\n",
       "mean        1.773604         1.350408\n",
       "std         0.871135         0.817414\n",
       "min         0.691675         0.294806\n",
       "25%         1.240814         0.848405\n",
       "50%         1.575906         1.083596\n",
       "75%         2.069041         1.508322\n",
       "max         4.923266         4.512147"
      ]
     },
     "execution_count": 19,
     "metadata": {},
     "output_type": "execute_result"
    }
   ],
   "source": [
    "L2_df.describe()"
   ]
  },
  {
   "cell_type": "code",
   "execution_count": 20,
   "metadata": {},
   "outputs": [
    {
     "data": {
      "text/plain": [
       "Ttest_indResult(statistic=-3.246847572856548, pvalue=0.0014118699241241173)"
      ]
     },
     "execution_count": 20,
     "metadata": {},
     "output_type": "execute_result"
    }
   ],
   "source": [
    "ttest_ind(L2, L2_random)"
   ]
  }
 ],
 "metadata": {
  "kernelspec": {
   "display_name": "Python [conda env:cell-painting-vae] *",
   "language": "python",
   "name": "conda-env-cell-painting-vae-py"
  },
  "language_info": {
   "codemirror_mode": {
    "name": "ipython",
    "version": 3
   },
   "file_extension": ".py",
   "mimetype": "text/x-python",
   "name": "python",
   "nbconvert_exporter": "python",
   "pygments_lexer": "ipython3",
   "version": "3.6.11"
  }
 },
 "nbformat": 4,
 "nbformat_minor": 4
}
